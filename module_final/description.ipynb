{
 "cells": [
  {
   "cell_type": "markdown",
   "metadata": {
    "id": "ItS3QVXmUNPX"
   },
   "source": [
    "# 1. Основные цели и задачи проекта"
   ]
  },
  {
   "cell_type": "markdown",
   "metadata": {
    "id": "pr5n2_xcUmtT"
   },
   "source": [
    "Название проекта: Предсказание оттока клиентов\n",
    "\n",
    "Цель: построить модель машинного обучения на основе данных о клиентах телекоммуникационного провайдера, которая бы предсказывала отток клиентов\n",
    "\n",
    "Задачи: \n",
    "\n",
    "* провести разведывательный анализ данных (EDA)\n",
    "* оценить важность признаков \n",
    "* построить несколько моделей машинного обучения и провести их сравнение\n",
    "* провести анализ экономических выгод от использования модели \n",
    "\n",
    "\n",
    "\n",
    "\n"
   ]
  },
  {
   "cell_type": "markdown",
   "metadata": {
    "id": "0ENyP6JwUYh1"
   },
   "source": [
    "# 2. Информация о данных"
   ]
  },
  {
   "cell_type": "markdown",
   "metadata": {
    "id": "YqeNRIKqVn5J"
   },
   "source": [
    "Источник данных: https://www.kaggle.com/c/customer-churn-prediction-2020/data. \n",
    "\n",
    "Датасеты: train (4250, 20) и test (750, 20)\n",
    "\n",
    "Признаки:\n",
    "\n",
    "* \"state\", строковый: 2-ух символьный код штата\n",
    "* \"account_length\", числовой: число месяцев обслуживания абонента\n",
    "* \"area_code\", строковый=\"area_code_AAA\", где AAA - это трехзначный код округа\n",
    "* \"international_plan\", да/нет: имеет ли клиент международный план обслуживания\n",
    "* \"voice_mail_plan\", да/нет: имеет ли клиент голосовую почту\n",
    "* \"number_vmail_messages\", числовой: число голосовых сообщений\n",
    "* \"total_day_minutes\", числовой: общее количество минут дневных звонков\n",
    "* \"total_day_calls\", числовой: общее количество дневных звонков \n",
    "* \"total_day_charge\", числовой: общая оплата дневных звонков\n",
    "* \"total_eve_minutes\", числовой: общее количество минут вечерних звонков\n",
    "* \"total_eve_calls\", числовой: общее количество вечерних звонков\n",
    "* \"total_eve_charge\", числовой: общая оплата вечерних звонков\n",
    "* \"total_night_minutes\", числовой: общее количество минут ночных звонков\n",
    "* \"total_night_calls\", числовой: общее количество ночных звонков\n",
    "* \"total_night_charge\", числовой: общая оплата ночных звонков\n",
    "* \"total_intl_minutes\", числовой: общее количество минут международных звонков\n",
    "* \"total_intl_calls\", числовой: общее количество международных звонков\n",
    "* \"total_intl_charge\", числовой: общая оплата международных  звонков\n",
    "* \"number_customer_service_calls\", числовой: число звонков в сервисный центр\n",
    "* \"churn\", да/нет: целевая переменная, ушел ли клиент \n",
    "\n",
    "в тестовом наборе нет целевой переменной \"churn\", но есть столбец \"id\" - идентификатор клиента для отправки сабмита на kaggle"
   ]
  },
  {
   "cell_type": "markdown",
   "metadata": {
    "id": "B_HYl2irUdaK"
   },
   "source": [
    "# 3. Этапы работы над проектом"
   ]
  },
  {
   "cell_type": "markdown",
   "metadata": {
    "id": "3gR7ujFjWRD6"
   },
   "source": [
    "* Разведывательный анализ данных (EDA)\n",
    "* Оценка важности признаков и их корреляции\n",
    "* Моделирование (построение моделей машинного обучения)\n",
    "* Оценка экономических выгод\n",
    "* Интерпретация результатов работы классификатора"
   ]
  }
 ],
 "metadata": {
  "colab": {
   "collapsed_sections": [],
   "name": "description.ipynb",
   "provenance": []
  },
  "kernelspec": {
   "display_name": "Python 3",
   "language": "python",
   "name": "python3"
  },
  "language_info": {
   "codemirror_mode": {
    "name": "ipython",
    "version": 3
   },
   "file_extension": ".py",
   "mimetype": "text/x-python",
   "name": "python",
   "nbconvert_exporter": "python",
   "pygments_lexer": "ipython3",
   "version": "3.7.4"
  },
  "toc": {
   "base_numbering": 1,
   "nav_menu": {},
   "number_sections": true,
   "sideBar": true,
   "skip_h1_title": false,
   "title_cell": "Table of Contents",
   "title_sidebar": "Contents",
   "toc_cell": false,
   "toc_position": {},
   "toc_section_display": true,
   "toc_window_display": true
  }
 },
 "nbformat": 4,
 "nbformat_minor": 1
}
