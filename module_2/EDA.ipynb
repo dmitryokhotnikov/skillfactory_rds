{
 "cells": [
  {
   "cell_type": "markdown",
   "metadata": {},
   "source": [
    "## 1. Первичная обработка данных"
   ]
  },
  {
   "cell_type": "code",
   "execution_count": 1,
   "metadata": {},
   "outputs": [
    {
     "data": {
      "text/html": [
       "<div>\n",
       "<style scoped>\n",
       "    .dataframe tbody tr th:only-of-type {\n",
       "        vertical-align: middle;\n",
       "    }\n",
       "\n",
       "    .dataframe tbody tr th {\n",
       "        vertical-align: top;\n",
       "    }\n",
       "\n",
       "    .dataframe thead th {\n",
       "        text-align: right;\n",
       "    }\n",
       "</style>\n",
       "<table border=\"1\" class=\"dataframe\">\n",
       "  <thead>\n",
       "    <tr style=\"text-align: right;\">\n",
       "      <th></th>\n",
       "      <th>school</th>\n",
       "      <th>sex</th>\n",
       "      <th>age</th>\n",
       "      <th>address</th>\n",
       "      <th>famsize</th>\n",
       "      <th>Pstatus</th>\n",
       "      <th>Medu</th>\n",
       "      <th>Fedu</th>\n",
       "      <th>Mjob</th>\n",
       "      <th>Fjob</th>\n",
       "      <th>...</th>\n",
       "      <th>studytime, granular</th>\n",
       "      <th>higher</th>\n",
       "      <th>internet</th>\n",
       "      <th>romantic</th>\n",
       "      <th>famrel</th>\n",
       "      <th>freetime</th>\n",
       "      <th>goout</th>\n",
       "      <th>health</th>\n",
       "      <th>absences</th>\n",
       "      <th>score</th>\n",
       "    </tr>\n",
       "  </thead>\n",
       "  <tbody>\n",
       "    <tr>\n",
       "      <td>0</td>\n",
       "      <td>GP</td>\n",
       "      <td>F</td>\n",
       "      <td>18</td>\n",
       "      <td>U</td>\n",
       "      <td>NaN</td>\n",
       "      <td>A</td>\n",
       "      <td>4.0</td>\n",
       "      <td>4.0</td>\n",
       "      <td>at_home</td>\n",
       "      <td>teacher</td>\n",
       "      <td>...</td>\n",
       "      <td>-6.0</td>\n",
       "      <td>yes</td>\n",
       "      <td>NaN</td>\n",
       "      <td>no</td>\n",
       "      <td>4.0</td>\n",
       "      <td>3.0</td>\n",
       "      <td>4.0</td>\n",
       "      <td>3.0</td>\n",
       "      <td>6.0</td>\n",
       "      <td>30.0</td>\n",
       "    </tr>\n",
       "    <tr>\n",
       "      <td>1</td>\n",
       "      <td>GP</td>\n",
       "      <td>F</td>\n",
       "      <td>17</td>\n",
       "      <td>U</td>\n",
       "      <td>GT3</td>\n",
       "      <td>NaN</td>\n",
       "      <td>1.0</td>\n",
       "      <td>1.0</td>\n",
       "      <td>at_home</td>\n",
       "      <td>other</td>\n",
       "      <td>...</td>\n",
       "      <td>-6.0</td>\n",
       "      <td>yes</td>\n",
       "      <td>yes</td>\n",
       "      <td>no</td>\n",
       "      <td>5.0</td>\n",
       "      <td>3.0</td>\n",
       "      <td>3.0</td>\n",
       "      <td>3.0</td>\n",
       "      <td>4.0</td>\n",
       "      <td>30.0</td>\n",
       "    </tr>\n",
       "    <tr>\n",
       "      <td>2</td>\n",
       "      <td>GP</td>\n",
       "      <td>F</td>\n",
       "      <td>15</td>\n",
       "      <td>U</td>\n",
       "      <td>LE3</td>\n",
       "      <td>T</td>\n",
       "      <td>1.0</td>\n",
       "      <td>1.0</td>\n",
       "      <td>at_home</td>\n",
       "      <td>other</td>\n",
       "      <td>...</td>\n",
       "      <td>-6.0</td>\n",
       "      <td>yes</td>\n",
       "      <td>yes</td>\n",
       "      <td>NaN</td>\n",
       "      <td>4.0</td>\n",
       "      <td>3.0</td>\n",
       "      <td>2.0</td>\n",
       "      <td>3.0</td>\n",
       "      <td>10.0</td>\n",
       "      <td>50.0</td>\n",
       "    </tr>\n",
       "    <tr>\n",
       "      <td>3</td>\n",
       "      <td>GP</td>\n",
       "      <td>F</td>\n",
       "      <td>15</td>\n",
       "      <td>U</td>\n",
       "      <td>GT3</td>\n",
       "      <td>T</td>\n",
       "      <td>4.0</td>\n",
       "      <td>2.0</td>\n",
       "      <td>health</td>\n",
       "      <td>NaN</td>\n",
       "      <td>...</td>\n",
       "      <td>-9.0</td>\n",
       "      <td>yes</td>\n",
       "      <td>yes</td>\n",
       "      <td>yes</td>\n",
       "      <td>3.0</td>\n",
       "      <td>2.0</td>\n",
       "      <td>2.0</td>\n",
       "      <td>5.0</td>\n",
       "      <td>2.0</td>\n",
       "      <td>75.0</td>\n",
       "    </tr>\n",
       "    <tr>\n",
       "      <td>4</td>\n",
       "      <td>GP</td>\n",
       "      <td>F</td>\n",
       "      <td>16</td>\n",
       "      <td>U</td>\n",
       "      <td>GT3</td>\n",
       "      <td>T</td>\n",
       "      <td>3.0</td>\n",
       "      <td>3.0</td>\n",
       "      <td>other</td>\n",
       "      <td>other</td>\n",
       "      <td>...</td>\n",
       "      <td>-6.0</td>\n",
       "      <td>yes</td>\n",
       "      <td>no</td>\n",
       "      <td>no</td>\n",
       "      <td>4.0</td>\n",
       "      <td>3.0</td>\n",
       "      <td>2.0</td>\n",
       "      <td>5.0</td>\n",
       "      <td>4.0</td>\n",
       "      <td>50.0</td>\n",
       "    </tr>\n",
       "  </tbody>\n",
       "</table>\n",
       "<p>5 rows × 30 columns</p>\n",
       "</div>"
      ],
      "text/plain": [
       "  school sex  age address famsize Pstatus  Medu  Fedu     Mjob     Fjob  ...  \\\n",
       "0     GP   F   18       U     NaN       A   4.0   4.0  at_home  teacher  ...   \n",
       "1     GP   F   17       U     GT3     NaN   1.0   1.0  at_home    other  ...   \n",
       "2     GP   F   15       U     LE3       T   1.0   1.0  at_home    other  ...   \n",
       "3     GP   F   15       U     GT3       T   4.0   2.0   health      NaN  ...   \n",
       "4     GP   F   16       U     GT3       T   3.0   3.0    other    other  ...   \n",
       "\n",
       "  studytime, granular higher  internet  romantic  famrel freetime goout  \\\n",
       "0                -6.0    yes       NaN        no     4.0      3.0   4.0   \n",
       "1                -6.0    yes       yes        no     5.0      3.0   3.0   \n",
       "2                -6.0    yes       yes       NaN     4.0      3.0   2.0   \n",
       "3                -9.0    yes       yes       yes     3.0      2.0   2.0   \n",
       "4                -6.0    yes        no        no     4.0      3.0   2.0   \n",
       "\n",
       "  health absences score  \n",
       "0    3.0      6.0  30.0  \n",
       "1    3.0      4.0  30.0  \n",
       "2    3.0     10.0  50.0  \n",
       "3    5.0      2.0  75.0  \n",
       "4    5.0      4.0  50.0  \n",
       "\n",
       "[5 rows x 30 columns]"
      ]
     },
     "metadata": {},
     "output_type": "display_data"
    },
    {
     "name": "stdout",
     "output_type": "stream",
     "text": [
      "<class 'pandas.core.frame.DataFrame'>\n",
      "RangeIndex: 395 entries, 0 to 394\n",
      "Data columns (total 30 columns):\n",
      "school                 395 non-null object\n",
      "sex                    395 non-null object\n",
      "age                    395 non-null int64\n",
      "address                378 non-null object\n",
      "famsize                368 non-null object\n",
      "Pstatus                350 non-null object\n",
      "Medu                   392 non-null float64\n",
      "Fedu                   371 non-null float64\n",
      "Mjob                   376 non-null object\n",
      "Fjob                   359 non-null object\n",
      "reason                 378 non-null object\n",
      "guardian               364 non-null object\n",
      "traveltime             367 non-null float64\n",
      "studytime              388 non-null float64\n",
      "failures               373 non-null float64\n",
      "schoolsup              386 non-null object\n",
      "famsup                 356 non-null object\n",
      "paid                   355 non-null object\n",
      "activities             381 non-null object\n",
      "nursery                379 non-null object\n",
      "studytime, granular    388 non-null float64\n",
      "higher                 375 non-null object\n",
      "internet               361 non-null object\n",
      "romantic               364 non-null object\n",
      "famrel                 368 non-null float64\n",
      "freetime               384 non-null float64\n",
      "goout                  387 non-null float64\n",
      "health                 380 non-null float64\n",
      "absences               383 non-null float64\n",
      "score                  389 non-null float64\n",
      "dtypes: float64(12), int64(1), object(17)\n",
      "memory usage: 92.7+ KB\n"
     ]
    },
    {
     "data": {
      "text/plain": [
       "(395, 30)"
      ]
     },
     "execution_count": 1,
     "metadata": {},
     "output_type": "execute_result"
    }
   ],
   "source": [
    "import pandas as pd\n",
    "\n",
    "import matplotlib.pyplot as plt\n",
    "\n",
    "import seaborn as sns\n",
    "\n",
    "from itertools import combinations\n",
    "\n",
    "from scipy.stats import ttest_ind\n",
    "\n",
    "math = pd.read_csv('stud_math.csv')\n",
    "\n",
    "display(math.head())\n",
    "\n",
    "math.info()\n",
    "\n",
    "math.shape"
   ]
  },
  {
   "cell_type": "code",
   "execution_count": 2,
   "metadata": {},
   "outputs": [],
   "source": [
    "def numeric_column_info(column, column_name='Data', bounds=()):\n",
    "   \n",
    "    \"\"\" Функция принимает столбец с числовым признаком, его имя \n",
    "        и предполагаемые границы изменения для отбора выбросов.\n",
    "        Если границы не указаны, то отбор по IQR.\n",
    "        Печатает статистические характеристики и \n",
    "        информацию о выбросах, а также рисует гистограмму распределения признака\n",
    "    \"\"\"\n",
    "    if bounds == ():\n",
    "        out_type = 'IQR'\n",
    "    else:\n",
    "        out_type = 'Bounds'\n",
    "    \n",
    "    values = column.count()\n",
    "    null_values = column.isnull().sum()\n",
    "    max_value = column.max()\n",
    "    min_value = column.min()\n",
    "    mean_value = round(column.mean(),1)\n",
    "    std_value = round(column.std(),2)\n",
    "    perc25 = column.quantile(0.25)\n",
    "    perc50 = column.quantile(0.50)\n",
    "    perc75 = column.quantile(0.75)\n",
    "    IQR = column.quantile(0.75) - column.quantile(0.25)\n",
    "    \n",
    "    if out_type == 'IQR':\n",
    "        left_bound = perc25 - 1.5*IQR\n",
    "        right_bound = perc75 + 1.5*IQR\n",
    "    elif out_type == 'Bounds':\n",
    "        left_bound = bounds[0]\n",
    "        right_bound = bounds[1]\n",
    "    else:\n",
    "        print('Unknown out_type')\n",
    "    \n",
    "    out_lower = column.loc[column<left_bound].value_counts().sum()\n",
    "    out_upper = column.loc[column>right_bound].value_counts().sum()\n",
    "    total_out = out_lower + out_upper\n",
    "    print(f'Признак {column_name}:\\n\\nВсего записей: {values}\\nПропущенных (null): {null_values}\\n'\n",
    "          f'Максимум: {max_value}\\n75-й перцентиль: {perc75}\\n50-й перцентиль: {perc50}\\n25-й перцентиль: {perc25}\\n'\n",
    "          f'Минимум: {min_value}\\nСреднее арифм.: {mean_value}\\nСКО: {std_value}\\n'\n",
    "          f'IQR: {IQR}\\nГраницы валидных данных: [{left_bound},{right_bound}]')\n",
    "    \n",
    "    column.loc[column.between(left_bound, right_bound)].hist(\n",
    "                                                             bins = 40,\n",
    "                                                             range = (min_value, max_value), \n",
    "                                                             label = column_name + ' valid')\n",
    "    if total_out == 0:\n",
    "        print('\\033[1;32;43mВыбросов по ' + out_type + ' не обнаружено')\n",
    "    else:\n",
    "        print('\\033[1;31;43mОбнаружены выбросы по ' + out_type)\n",
    "        print(f'Выбросов: {total_out}\\nСверху: {out_upper}\\nСнизу: {out_lower}')\n",
    "        column.loc[~column.between(left_bound, right_bound)].hist(\n",
    "                                                             bins = 40,\n",
    "                                                             range = (min_value, max_value), \n",
    "                                                             label = column_name + ' outlayers')\n",
    "    plt.legend();"
   ]
  },
  {
   "cell_type": "code",
   "execution_count": 3,
   "metadata": {},
   "outputs": [],
   "source": [
    "def nominative_column_info(column, column_name='Data', rotation=0):\n",
    "    \n",
    "    \"\"\" Функция принимает столбец с номинативными признаками, его имя \n",
    "        и параметр поворота подписи оси Х.\n",
    "        Печатает информацию о количестве валидных записей и о пропущенных записях. \n",
    "        Рисует столбчатый график количества каждого признака.\n",
    "    \"\"\"\n",
    "    print(f'Признак {column_name}:\\n')\n",
    "    \n",
    "   \n",
    "    null_values = column.isnull().sum()\n",
    "    if null_values == 0:\n",
    "        print(f'Пропущенные записи отсутствуют\\n')\n",
    "        print_nominative_stat(column)\n",
    "        column.value_counts(dropna=True).plot(kind='bar',grid=True,\n",
    "                                          colormap='coolwarm',title=column_name)\n",
    "        plt.xticks(rotation=rotation)\n",
    "    else:\n",
    "        print(f'Присутствуют пропущенные записи\\n')\n",
    "        print(f'with NaN:')\n",
    "        print_nominative_stat(column, False)\n",
    "        print(f'drop NaN:')\n",
    "        print_nominative_stat(column)\n",
    "        \n",
    "        fig, axes = plt.subplots(nrows=1, ncols=2, figsize=(8,4))\n",
    "        column.value_counts(dropna=False).plot(ax=axes[1],kind='bar',grid=True,\n",
    "                                           colormap='coolwarm',title=column_name+' (with NaN)')\n",
    "    \n",
    "        column.value_counts(dropna=True).plot(ax=axes[0],kind='bar',grid=True,\n",
    "                                          colormap='coolwarm',title=column_name+' (drop NaN)')\n",
    "        for ax in fig.axes:\n",
    "            ax.tick_params(labelrotation=rotation)"
   ]
  },
  {
   "cell_type": "code",
   "execution_count": 4,
   "metadata": {},
   "outputs": [],
   "source": [
    "def print_nominative_stat(column, dropna_value=True):\n",
    "    \n",
    "     \"\"\" Функция принимает столбец с номинативными признаками и\n",
    "         признак подсчёта пропущенных значений. \n",
    "         Печатает информацию о количестве каждого признака в столбце, его процентное\n",
    "         содержание и общее количество всех признаков.\n",
    "     \"\"\"\n",
    "    \n",
    "     norm = pd.DataFrame(column.value_counts(dropna=dropna_value, normalize = True))\n",
    "     unnorm = pd.DataFrame(column.value_counts(dropna=dropna_value))\n",
    "     unnorm.columns=['number']\n",
    "     unnorm.loc[:,'percent']=round(norm[norm.columns[0]]*100,1)\n",
    "     unnorm.loc['Total:'] = unnorm[['number','percent']].sum()\n",
    "     print(unnorm,'\\n')"
   ]
  },
  {
   "cell_type": "markdown",
   "metadata": {},
   "source": [
    "Можно видеть, что датасет содержит 13 числовых признаков и 17 нечисловых. \n",
    "Всего в нем 395 записей. Выясним для начала смысл данных, содержащихся в колонке [studytime, granular]. Предположительно, она должна быть связана с колонкой [studytime], содержащей категориальный признак времени на учёбу помимо школы в неделю: 1 - менее 2 часов, 2 - 2-5 часов, 3 - 5-10 часов, 4 - более 10 часов. Построив гистограммы распределений, убедимся, что колонка [studytime, granular] есть [studytime]*(-3). Такая линейная зависимость подтверждается вычислением коэффициента корреляции, который равен -1. Удалим колонку с признаком [studytime, granular], так как она не даёт новой информации."
   ]
  },
  {
   "cell_type": "code",
   "execution_count": 5,
   "metadata": {},
   "outputs": [
    {
     "name": "stdout",
     "output_type": "stream",
     "text": [
      "Признак Studytime, granular:\n",
      "\n",
      "Присутствуют пропущенные записи\n",
      "\n",
      "with NaN:\n",
      "        number  percent\n",
      "-6.0     194.0     49.1\n",
      "-3.0     103.0     26.1\n",
      "-9.0      64.0     16.2\n",
      "-12.0     27.0      6.8\n",
      "NaN        7.0      1.8\n",
      "Total:   395.0    100.0 \n",
      "\n",
      "drop NaN:\n",
      "        number  percent\n",
      "-6.0     194.0     50.0\n",
      "-3.0     103.0     26.5\n",
      "-9.0      64.0     16.5\n",
      "-12.0     27.0      7.0\n",
      "Total:   388.0    100.0 \n",
      "\n"
     ]
    },
    {
     "data": {
      "image/png": "[encoded data removed]",
      "text/plain": [
       "<Figure size 576x288 with 2 Axes>"
      ]
     },
     "metadata": {
      "needs_background": "light"
     },
     "output_type": "display_data"
    }
   ],
   "source": [
    "nominative_column_info(math['studytime, granular'], column_name='Studytime, granular', rotation=0)"
   ]
  },
  {
   "cell_type": "code",
   "execution_count": 6,
   "metadata": {},
   "outputs": [
    {
     "name": "stdout",
     "output_type": "stream",
     "text": [
      "Признак Studytime:\n",
      "\n",
      "Присутствуют пропущенные записи\n",
      "\n",
      "with NaN:\n",
      "        number  percent\n",
      "2.0      194.0     49.1\n",
      "1.0      103.0     26.1\n",
      "3.0       64.0     16.2\n",
      "4.0       27.0      6.8\n",
      "NaN        7.0      1.8\n",
      "Total:   395.0    100.0 \n",
      "\n",
      "drop NaN:\n",
      "        number  percent\n",
      "2.0      194.0     50.0\n",
      "1.0      103.0     26.5\n",
      "3.0       64.0     16.5\n",
      "4.0       27.0      7.0\n",
      "Total:   388.0    100.0 \n",
      "\n"
     ]
    },
    {
     "data": {
      "image/png": "[encoded data removed]",
      "text/plain": [
       "<Figure size 576x288 with 2 Axes>"
      ]
     },
     "metadata": {
      "needs_background": "light"
     },
     "output_type": "display_data"
    }
   ],
   "source": [
    "nominative_column_info(math['studytime'], column_name='Studytime', rotation=0)"
   ]
  },
  {
   "cell_type": "code",
   "execution_count": 7,
   "metadata": {},
   "outputs": [
    {
     "data": {
      "text/plain": [
       "-1.0"
      ]
     },
     "execution_count": 7,
     "metadata": {},
     "output_type": "execute_result"
    }
   ],
   "source": [
    "math['studytime'].corr(math['studytime, granular'])"
   ]
  },
  {
   "cell_type": "code",
   "execution_count": 8,
   "metadata": {},
   "outputs": [],
   "source": [
    "math.drop(['studytime, granular'], inplace = True, axis =1)"
   ]
  },
  {
   "cell_type": "markdown",
   "metadata": {},
   "source": [
    "После удаления неизвестного признака осталось 12 числовых и 17 нечисловых признаков. Перейдем к их рассмотрению.\n",
    "1. Колонка [school] (номинативная переменная), содержит в себе аббревиатуру школы. \n",
    "Подавляющее большинство данных имеет значение GP (349 или 88.4%), остальная часть приходится на MS (46 или 11.6%). Пропущенные записи отсутствуют."
   ]
  },
  {
   "cell_type": "code",
   "execution_count": 9,
   "metadata": {},
   "outputs": [
    {
     "name": "stdout",
     "output_type": "stream",
     "text": [
      "Признак School:\n",
      "\n",
      "Пропущенные записи отсутствуют\n",
      "\n",
      "        number  percent\n",
      "GP       349.0     88.4\n",
      "MS        46.0     11.6\n",
      "Total:   395.0    100.0 \n",
      "\n"
     ]
    },
    {
     "data": {
      "image/png": "[encoded data removed]",
      "text/plain": [
       "<Figure size 432x288 with 1 Axes>"
      ]
     },
     "metadata": {
      "needs_background": "light"
     },
     "output_type": "display_data"
    }
   ],
   "source": [
    "nominative_column_info(math.school, column_name='School', rotation=0)"
   ]
  },
  {
   "cell_type": "markdown",
   "metadata": {},
   "source": [
    "2. Колонка [sex] (номинативная переменная), содержит в себе пол ученика. Возможные значения признака разделились почти поровну: F (девушки - 208 или 52.7%) и M (юноши - 187 или 47.3%). Такое разделение благоприятно для модели, так как нет сильного перекоса данных. Пропущенные записи отсутствуют.   "
   ]
  },
  {
   "cell_type": "code",
   "execution_count": 10,
   "metadata": {},
   "outputs": [
    {
     "name": "stdout",
     "output_type": "stream",
     "text": [
      "Признак Sex:\n",
      "\n",
      "Пропущенные записи отсутствуют\n",
      "\n",
      "        number  percent\n",
      "F        208.0     52.7\n",
      "M        187.0     47.3\n",
      "Total:   395.0    100.0 \n",
      "\n"
     ]
    },
    {
     "data": {
      "image/png": "[encoded data removed]",
      "text/plain": [
       "<Figure size 432x288 with 1 Axes>"
      ]
     },
     "metadata": {
      "needs_background": "light"
     },
     "output_type": "display_data"
    }
   ],
   "source": [
    "nominative_column_info(math.sex, column_name='Sex', rotation=0)"
   ]
  },
  {
   "cell_type": "markdown",
   "metadata": {},
   "source": [
    "3. Колонка [age] (количественная переменная). Содержит в себе возраст ученика. Можно отметить, что значение \n",
    "признака варьируется в диапазоне [15,22], как и было заявлено в описании. Выбросов нет. Пропущенные записи отсутствуют. Медианный возраст (17 лет)\n",
    "незначительно отличается от среднего (16.7 года), среднеквадратическое отклонение равно 1.28 года. "
   ]
  },
  {
   "cell_type": "code",
   "execution_count": 11,
   "metadata": {},
   "outputs": [
    {
     "name": "stdout",
     "output_type": "stream",
     "text": [
      "Признак Age:\n",
      "\n",
      "Всего записей: 395\n",
      "Пропущенных (null): 0\n",
      "Максимум: 22\n",
      "75-й перцентиль: 18.0\n",
      "50-й перцентиль: 17.0\n",
      "25-й перцентиль: 16.0\n",
      "Минимум: 15\n",
      "Среднее арифм.: 16.7\n",
      "СКО: 1.28\n",
      "IQR: 2.0\n",
      "Границы валидных данных: [15,22]\n",
      "\u001b[1;32;43mВыбросов по Bounds не обнаружено\n"
     ]
    },
    {
     "data": {
      "image/png": "[encoded data removed]",
      "text/plain": [
       "<Figure size 432x288 with 1 Axes>"
      ]
     },
     "metadata": {
      "needs_background": "light"
     },
     "output_type": "display_data"
    }
   ],
   "source": [
    " numeric_column_info(math.age, 'Age', bounds=(15,22)) "
   ]
  },
  {
   "cell_type": "markdown",
   "metadata": {},
   "source": [
    "4. Колонка [address] (номинативная переменная), содержит в себе тип адреса ученика ('U' - городской, 'R' - за городом). Среди двух вариантов значений признака U (295 или 74.7%) и R (83 или 21%) присутствуют пропущенные записи в количестве 17 или 4.3%. Из гистограммы значений признака видно, что большинство учеников проживает в городе."
   ]
  },
  {
   "cell_type": "code",
   "execution_count": 12,
   "metadata": {},
   "outputs": [
    {
     "name": "stdout",
     "output_type": "stream",
     "text": [
      "Признак Address:\n",
      "\n",
      "Присутствуют пропущенные записи\n",
      "\n",
      "with NaN:\n",
      "        number  percent\n",
      "U        295.0     74.7\n",
      "R         83.0     21.0\n",
      "NaN       17.0      4.3\n",
      "Total:   395.0    100.0 \n",
      "\n",
      "drop NaN:\n",
      "        number  percent\n",
      "U        295.0     78.0\n",
      "R         83.0     22.0\n",
      "Total:   378.0    100.0 \n",
      "\n"
     ]
    },
    {
     "data": {
      "image/png": "[encoded data removed]",
      "text/plain": [
       "<Figure size 576x288 with 2 Axes>"
      ]
     },
     "metadata": {
      "needs_background": "light"
     },
     "output_type": "display_data"
    }
   ],
   "source": [
    "nominative_column_info(math.address, column_name='Address', rotation=0)"
   ]
  },
  {
   "cell_type": "markdown",
   "metadata": {},
   "source": [
    "5. Колонка [famsize] (номинативная переменная), содержит в себе размер семьи ученика ('LE3' - не более трёх, 'GT3'- более трёх человек). Среди двух вариантов значений признака GT3 (261 или 66.1%) и LE3 (107 или 27.1%) присутствуют пропущенные записи  в количестве 27 или 6.8%. Из гистограммы значений признака видно, что большинство учеников проживает в семьях, размер которых больше 3 человек (примерное отношение 7:3). "
   ]
  },
  {
   "cell_type": "code",
   "execution_count": 13,
   "metadata": {},
   "outputs": [
    {
     "name": "stdout",
     "output_type": "stream",
     "text": [
      "Признак Family_size:\n",
      "\n",
      "Присутствуют пропущенные записи\n",
      "\n",
      "with NaN:\n",
      "        number  percent\n",
      "GT3      261.0     66.1\n",
      "LE3      107.0     27.1\n",
      "NaN       27.0      6.8\n",
      "Total:   395.0    100.0 \n",
      "\n",
      "drop NaN:\n",
      "        number  percent\n",
      "GT3      261.0     70.9\n",
      "LE3      107.0     29.1\n",
      "Total:   368.0    100.0 \n",
      "\n"
     ]
    },
    {
     "data": {
      "image/png": "[encoded data removed]",
      "text/plain": [
       "<Figure size 576x288 with 2 Axes>"
      ]
     },
     "metadata": {
      "needs_background": "light"
     },
     "output_type": "display_data"
    }
   ],
   "source": [
    "nominative_column_info(math.famsize, column_name='Family_size', rotation=0)"
   ]
  },
  {
   "cell_type": "markdown",
   "metadata": {},
   "source": [
    "6.  Колонка [Pstatus] (номинативная переменная), содержит в себе статус совместного проживания родителей ('T' - живут вместе, 'A' - раздельно). Подавляющее большинство родителей учеников (314 или 79.5%) проживают вместе, количество пар, проживающих отдельно, равно 36 или 9.1%. Присутствут пропущенные записи в количестве 45 или 11%.  "
   ]
  },
  {
   "cell_type": "code",
   "execution_count": 14,
   "metadata": {},
   "outputs": [
    {
     "name": "stdout",
     "output_type": "stream",
     "text": [
      "Признак Parents_status:\n",
      "\n",
      "Присутствуют пропущенные записи\n",
      "\n",
      "with NaN:\n",
      "        number  percent\n",
      "T        314.0     79.5\n",
      "NaN       45.0     11.4\n",
      "A         36.0      9.1\n",
      "Total:   395.0    100.0 \n",
      "\n",
      "drop NaN:\n",
      "        number  percent\n",
      "T        314.0     89.7\n",
      "A         36.0     10.3\n",
      "Total:   350.0    100.0 \n",
      "\n"
     ]
    },
    {
     "data": {
      "image/png": "[encoded data removed]",
      "text/plain": [
       "<Figure size 576x288 with 2 Axes>"
      ]
     },
     "metadata": {
      "needs_background": "light"
     },
     "output_type": "display_data"
    }
   ],
   "source": [
    "nominative_column_info(math.Pstatus, column_name='Parents_status', rotation=0)"
   ]
  },
  {
   "cell_type": "markdown",
   "metadata": {},
   "source": [
    "7. Колонка [Medu] (ранговая переменная), содержит в себе признак образования матери (0 - нет, 1 - 4 класса, 2 - 5-9 классы, 3 - среднее специальное или 11 классов, 4 - высшее). Колонка содержит 3 или 0.8% пропущенных записей. Из гистограммы распределения следует, что большинство (131 или 33.2%) матерей имеет высшее образование. Примерно одинаковое количество матерей (25.8 и 24.6%) закончили 9 и 11 классов соответственно, 14.9% закончили начальную школу и менее одного процента матерей не имеет образования вовсе. "
   ]
  },
  {
   "cell_type": "code",
   "execution_count": 15,
   "metadata": {},
   "outputs": [
    {
     "name": "stdout",
     "output_type": "stream",
     "text": [
      "Признак Mother_education:\n",
      "\n",
      "Присутствуют пропущенные записи\n",
      "\n",
      "with NaN:\n",
      "        number  percent\n",
      "4.0      131.0     33.2\n",
      "2.0      102.0     25.8\n",
      "3.0       97.0     24.6\n",
      "1.0       59.0     14.9\n",
      "0.0        3.0      0.8\n",
      "NaN        3.0      0.8\n",
      "Total:   395.0    100.1 \n",
      "\n",
      "drop NaN:\n",
      "        number  percent\n",
      "4.0      131.0     33.4\n",
      "2.0      102.0     26.0\n",
      "3.0       97.0     24.7\n",
      "1.0       59.0     15.1\n",
      "0.0        3.0      0.8\n",
      "Total:   392.0    100.0 \n",
      "\n"
     ]
    },
    {
     "data": {
      "image/png": "[encoded data removed]",
      "text/plain": [
       "<Figure size 576x288 with 2 Axes>"
      ]
     },
     "metadata": {
      "needs_background": "light"
     },
     "output_type": "display_data"
    }
   ],
   "source": [
    "nominative_column_info(math.Medu, column_name='Mother_education', rotation=0)"
   ]
  },
  {
   "cell_type": "markdown",
   "metadata": {},
   "source": [
    "8. Колонка [Fedu] (ранговая переменная), содержит в себе признак образования отца (0 - нет, 1 - 4 класса, 2 - 5-9 классы, 3 - среднее специальное или 11 классов, 4 - высшее). Можно заметить, что имеет место 1 выброс из заявленного в описании диапазона. "
   ]
  },
  {
   "cell_type": "code",
   "execution_count": 16,
   "metadata": {},
   "outputs": [
    {
     "name": "stdout",
     "output_type": "stream",
     "text": [
      "Признак Father_education:\n",
      "\n",
      "Присутствуют пропущенные записи\n",
      "\n",
      "with NaN:\n",
      "        number  percent\n",
      "2.0      106.0     26.8\n",
      "3.0       96.0     24.3\n",
      "4.0       88.0     22.3\n",
      "1.0       78.0     19.7\n",
      "NaN       24.0      6.1\n",
      "0.0        2.0      0.5\n",
      "40.0       1.0      0.3\n",
      "Total:   395.0    100.0 \n",
      "\n",
      "drop NaN:\n",
      "        number  percent\n",
      "2.0      106.0     28.6\n",
      "3.0       96.0     25.9\n",
      "4.0       88.0     23.7\n",
      "1.0       78.0     21.0\n",
      "0.0        2.0      0.5\n",
      "40.0       1.0      0.3\n",
      "Total:   371.0    100.0 \n",
      "\n"
     ]
    },
    {
     "data": {
      "image/png": "[encoded data removed]",
      "text/plain": [
       "<Figure size 576x288 with 2 Axes>"
      ]
     },
     "metadata": {
      "needs_background": "light"
     },
     "output_type": "display_data"
    }
   ],
   "source": [
    "nominative_column_info(math.Fedu, column_name='Father_education', rotation=0)"
   ]
  },
  {
   "cell_type": "markdown",
   "metadata": {},
   "source": [
    "Найдем выброс:"
   ]
  },
  {
   "cell_type": "code",
   "execution_count": 17,
   "metadata": {},
   "outputs": [
    {
     "data": {
      "text/html": [
       "<div>\n",
       "<style scoped>\n",
       "    .dataframe tbody tr th:only-of-type {\n",
       "        vertical-align: middle;\n",
       "    }\n",
       "\n",
       "    .dataframe tbody tr th {\n",
       "        vertical-align: top;\n",
       "    }\n",
       "\n",
       "    .dataframe thead th {\n",
       "        text-align: right;\n",
       "    }\n",
       "</style>\n",
       "<table border=\"1\" class=\"dataframe\">\n",
       "  <thead>\n",
       "    <tr style=\"text-align: right;\">\n",
       "      <th></th>\n",
       "      <th>school</th>\n",
       "      <th>sex</th>\n",
       "      <th>age</th>\n",
       "      <th>address</th>\n",
       "      <th>famsize</th>\n",
       "      <th>Pstatus</th>\n",
       "      <th>Medu</th>\n",
       "      <th>Fedu</th>\n",
       "      <th>Mjob</th>\n",
       "      <th>Fjob</th>\n",
       "      <th>...</th>\n",
       "      <th>nursery</th>\n",
       "      <th>higher</th>\n",
       "      <th>internet</th>\n",
       "      <th>romantic</th>\n",
       "      <th>famrel</th>\n",
       "      <th>freetime</th>\n",
       "      <th>goout</th>\n",
       "      <th>health</th>\n",
       "      <th>absences</th>\n",
       "      <th>score</th>\n",
       "    </tr>\n",
       "  </thead>\n",
       "  <tbody>\n",
       "    <tr>\n",
       "      <td>11</td>\n",
       "      <td>GP</td>\n",
       "      <td>F</td>\n",
       "      <td>15</td>\n",
       "      <td>U</td>\n",
       "      <td>GT3</td>\n",
       "      <td>NaN</td>\n",
       "      <td>2.0</td>\n",
       "      <td>40.0</td>\n",
       "      <td>services</td>\n",
       "      <td>other</td>\n",
       "      <td>...</td>\n",
       "      <td>yes</td>\n",
       "      <td>yes</td>\n",
       "      <td>yes</td>\n",
       "      <td>no</td>\n",
       "      <td>5.0</td>\n",
       "      <td>2.0</td>\n",
       "      <td>2.0</td>\n",
       "      <td>4.0</td>\n",
       "      <td>4.0</td>\n",
       "      <td>60.0</td>\n",
       "    </tr>\n",
       "  </tbody>\n",
       "</table>\n",
       "<p>1 rows × 29 columns</p>\n",
       "</div>"
      ],
      "text/plain": [
       "   school sex  age address famsize Pstatus  Medu  Fedu      Mjob   Fjob  ...  \\\n",
       "11     GP   F   15       U     GT3     NaN   2.0  40.0  services  other  ...   \n",
       "\n",
       "   nursery higher  internet  romantic  famrel freetime goout health absences  \\\n",
       "11     yes    yes       yes        no     5.0      2.0   2.0    4.0      4.0   \n",
       "\n",
       "   score  \n",
       "11  60.0  \n",
       "\n",
       "[1 rows x 29 columns]"
      ]
     },
     "execution_count": 17,
     "metadata": {},
     "output_type": "execute_result"
    }
   ],
   "source": [
    "math.loc[math.Fedu>4]"
   ]
  },
  {
   "cell_type": "markdown",
   "metadata": {},
   "source": [
    "Скорее всего, была допущена ошибка (лишний ноль), уберем его, записав 4 вместо 40."
   ]
  },
  {
   "cell_type": "code",
   "execution_count": 18,
   "metadata": {},
   "outputs": [],
   "source": [
    "math.loc[11, 'Fedu'] = 4"
   ]
  },
  {
   "cell_type": "markdown",
   "metadata": {},
   "source": [
    "Теперь взглянем на новое распределение признака еще раз. Отметим, что присутствуют пропущенные записи в количестве 24 или 6.1%. Из гистограммы распределения признака следует, что менее 1% отцов не имеет образования. 19.7% или 78 человек закончили лишь начальную школу. Остальные варианты признака распределены примерно поровну. "
   ]
  },
  {
   "cell_type": "code",
   "execution_count": 19,
   "metadata": {},
   "outputs": [
    {
     "name": "stdout",
     "output_type": "stream",
     "text": [
      "Признак Father_education:\n",
      "\n",
      "Присутствуют пропущенные записи\n",
      "\n",
      "with NaN:\n",
      "        number  percent\n",
      "2.0      106.0     26.8\n",
      "3.0       96.0     24.3\n",
      "4.0       89.0     22.5\n",
      "1.0       78.0     19.7\n",
      "NaN       24.0      6.1\n",
      "0.0        2.0      0.5\n",
      "Total:   395.0     99.9 \n",
      "\n",
      "drop NaN:\n",
      "        number  percent\n",
      "2.0      106.0     28.6\n",
      "3.0       96.0     25.9\n",
      "4.0       89.0     24.0\n",
      "1.0       78.0     21.0\n",
      "0.0        2.0      0.5\n",
      "Total:   371.0    100.0 \n",
      "\n"
     ]
    },
    {
     "data": {
      "image/png": "[encoded data removed]",
      "text/plain": [
       "<Figure size 576x288 with 2 Axes>"
      ]
     },
     "metadata": {
      "needs_background": "light"
     },
     "output_type": "display_data"
    }
   ],
   "source": [
    "nominative_column_info(math.Fedu, column_name='Father_education', rotation=0)"
   ]
  },
  {
   "cell_type": "markdown",
   "metadata": {},
   "source": [
    "9. Колонка [Mjob] (номинативная переменная), содержит в себе признак места работы матери ('teacher' - учитель, 'health' - сфера здравоохранения, 'services' - гос. служба, 'at_home' - не работает, 'other' - другое). Отметим, что здесь присутствуют пропущенные записи в количестве 19 или 4.8%. Из диаграммы распределния значений признака следует, что большинство матерей 133 или 33.7% не указали конкретное место работы, 98 человек или 24.8% являются гос.служащими, 58 человек или 14.7% работают на дому, 55 или 13.9% - учителя. 32 человека или 8.1% работают в сфере здравоохранения. "
   ]
  },
  {
   "cell_type": "code",
   "execution_count": 20,
   "metadata": {},
   "outputs": [
    {
     "name": "stdout",
     "output_type": "stream",
     "text": [
      "Признак Mother_job:\n",
      "\n",
      "Присутствуют пропущенные записи\n",
      "\n",
      "with NaN:\n",
      "          number  percent\n",
      "other      133.0     33.7\n",
      "services    98.0     24.8\n",
      "at_home     58.0     14.7\n",
      "teacher     55.0     13.9\n",
      "health      32.0      8.1\n",
      "NaN         19.0      4.8\n",
      "Total:     395.0    100.0 \n",
      "\n",
      "drop NaN:\n",
      "          number  percent\n",
      "other      133.0     35.4\n",
      "services    98.0     26.1\n",
      "at_home     58.0     15.4\n",
      "teacher     55.0     14.6\n",
      "health      32.0      8.5\n",
      "Total:     376.0    100.0 \n",
      "\n"
     ]
    },
    {
     "data": {
      "image/png": "[encoded data removed]",
      "text/plain": [
       "<Figure size 576x288 with 2 Axes>"
      ]
     },
     "metadata": {
      "needs_background": "light"
     },
     "output_type": "display_data"
    }
   ],
   "source": [
    "nominative_column_info(math.Mjob, column_name='Mother_job', rotation=0)"
   ]
  },
  {
   "cell_type": "markdown",
   "metadata": {},
   "source": [
    "10. Колонка [Fjob] (номинативная переменная), содержит в себе признак места работы отца ('teacher' - учитель, 'health' - сфера здравоохранения, 'services' - гос. служба, 'at_home' - не работает, 'other' - другое). Отметим наличие пропусков в записях в количестве 36 или 9.1%. Из диаграммы распределния значений признака следует, что половина отцов 197 или 49.9% не указали конкретное место работы, 102 человека или 25.8% являются гос.служащими, 29 или 7.3% учителя, а 16 человек или 4.1% работают на дому. 15 человек или 3.8% работают в сфере здравоохранения. "
   ]
  },
  {
   "cell_type": "code",
   "execution_count": 21,
   "metadata": {},
   "outputs": [
    {
     "name": "stdout",
     "output_type": "stream",
     "text": [
      "Признак Father_job:\n",
      "\n",
      "Присутствуют пропущенные записи\n",
      "\n",
      "with NaN:\n",
      "          number  percent\n",
      "other      197.0     49.9\n",
      "services   102.0     25.8\n",
      "NaN         36.0      9.1\n",
      "teacher     29.0      7.3\n",
      "at_home     16.0      4.1\n",
      "health      15.0      3.8\n",
      "Total:     395.0    100.0 \n",
      "\n",
      "drop NaN:\n",
      "          number  percent\n",
      "other      197.0     54.9\n",
      "services   102.0     28.4\n",
      "teacher     29.0      8.1\n",
      "at_home     16.0      4.5\n",
      "health      15.0      4.2\n",
      "Total:     359.0    100.1 \n",
      "\n"
     ]
    },
    {
     "data": {
      "image/png": "[encoded data removed]",
      "text/plain": [
       "<Figure size 576x288 with 2 Axes>"
      ]
     },
     "metadata": {
      "needs_background": "light"
     },
     "output_type": "display_data"
    }
   ],
   "source": [
    "nominative_column_info(math.Fjob, column_name='Father_job', rotation=0)"
   ]
  },
  {
   "cell_type": "markdown",
   "metadata": {},
   "source": [
    "11. Колонка [reason] (номинативная переменная), содержит в себе признак выбора школы ('home' - близость к дому, 'reputation' - репутация школы, 'course' - образовательная программа, 'other' - другое). Содержит пропуски в количестве 17 или 4.3%. Из диаграммы следует, что большинство 137 или 34.7% выбирали учебное заведение, полагаясь на образовательную программу. Примерно одинаковое количество (104 и 103 или 26.3% и 26.1%) выбрали школу по близости к дому и репутации. Остальные 34 или 8.6% указали иные причины. "
   ]
  },
  {
   "cell_type": "code",
   "execution_count": 22,
   "metadata": {},
   "outputs": [
    {
     "name": "stdout",
     "output_type": "stream",
     "text": [
      "Признак Reason:\n",
      "\n",
      "Присутствуют пропущенные записи\n",
      "\n",
      "with NaN:\n",
      "            number  percent\n",
      "course       137.0     34.7\n",
      "home         104.0     26.3\n",
      "reputation   103.0     26.1\n",
      "other         34.0      8.6\n",
      "NaN           17.0      4.3\n",
      "Total:       395.0    100.0 \n",
      "\n",
      "drop NaN:\n",
      "            number  percent\n",
      "course       137.0     36.2\n",
      "home         104.0     27.5\n",
      "reputation   103.0     27.2\n",
      "other         34.0      9.0\n",
      "Total:       378.0     99.9 \n",
      "\n"
     ]
    },
    {
     "data": {
      "image/png": "[encoded data removed]",
      "text/plain": [
       "<Figure size 576x288 with 2 Axes>"
      ]
     },
     "metadata": {
      "needs_background": "light"
     },
     "output_type": "display_data"
    }
   ],
   "source": [
    " nominative_column_info(math.reason, column_name='Reason', rotation=0)"
   ]
  },
  {
   "cell_type": "markdown",
   "metadata": {},
   "source": [
    "12. Колонка [guardian] (номинативная переменная), содержит в себе признак опекуна ('mother' - мать, 'father' - отец, 'other' - другое). В столбце содержится 31 или 7.8% пропущенных записей. Из диаграммы следует, что подавляющее большинство опекунов - матери (250 ил 63.3%). Отцы в роли опекунов выступают в 86 или 21.8% случаев. 28 или 7.1% записей содержит признак другое.  "
   ]
  },
  {
   "cell_type": "code",
   "execution_count": 23,
   "metadata": {},
   "outputs": [
    {
     "name": "stdout",
     "output_type": "stream",
     "text": [
      "Признак Guardian:\n",
      "\n",
      "Присутствуют пропущенные записи\n",
      "\n",
      "with NaN:\n",
      "        number  percent\n",
      "mother   250.0     63.3\n",
      "father    86.0     21.8\n",
      "NaN       31.0      7.8\n",
      "other     28.0      7.1\n",
      "Total:   395.0    100.0 \n",
      "\n",
      "drop NaN:\n",
      "        number  percent\n",
      "mother   250.0     68.7\n",
      "father    86.0     23.6\n",
      "other     28.0      7.7\n",
      "Total:   364.0    100.0 \n",
      "\n"
     ]
    },
    {
     "data": {
      "image/png": "[encoded data removed]",
      "text/plain": [
       "<Figure size 576x288 with 2 Axes>"
      ]
     },
     "metadata": {
      "needs_background": "light"
     },
     "output_type": "display_data"
    }
   ],
   "source": [
    "nominative_column_info(math.guardian, column_name='Guardian', rotation=0)"
   ]
  },
  {
   "cell_type": "markdown",
   "metadata": {},
   "source": [
    "13. Колонка [traveltime] (ранговая переменная), содержит в себе признак времени в пути до школы (1 - менее 15 мин., 2 - 15-30 мин., 3 - 30-60 мин., 4 -  более 60 мин.). В столбце присутствуют пропущенные записи в количестве 28 или 7.1%. Выбросов по указанным в описании границам не обнаружено. Из диаграммы следует, что большинство учеников (241 или 61.3%) тратят на дорогу до школы менее 15 минут. 96 учеников или 24.3% тратят на дорогу от 15 до 30 минут. 22 ученика или 5.6% тратят на дорогу от 30 минут до часа и лишь у 7 учеников или 1.8% дорога занимает более 60 минут.   "
   ]
  },
  {
   "cell_type": "code",
   "execution_count": 24,
   "metadata": {},
   "outputs": [
    {
     "name": "stdout",
     "output_type": "stream",
     "text": [
      "Признак Travel_time:\n",
      "\n",
      "Присутствуют пропущенные записи\n",
      "\n",
      "with NaN:\n",
      "        number  percent\n",
      "1.0      242.0     61.3\n",
      "2.0       96.0     24.3\n",
      "NaN       28.0      7.1\n",
      "3.0       22.0      5.6\n",
      "4.0        7.0      1.8\n",
      "Total:   395.0    100.1 \n",
      "\n",
      "drop NaN:\n",
      "        number  percent\n",
      "1.0      242.0     65.9\n",
      "2.0       96.0     26.2\n",
      "3.0       22.0      6.0\n",
      "4.0        7.0      1.9\n",
      "Total:   367.0    100.0 \n",
      "\n"
     ]
    },
    {
     "data": {
      "image/png": "[encoded data removed]",
      "text/plain": [
       "<Figure size 576x288 with 2 Axes>"
      ]
     },
     "metadata": {
      "needs_background": "light"
     },
     "output_type": "display_data"
    }
   ],
   "source": [
    "nominative_column_info(math.traveltime, column_name='Travel_time', rotation=0)"
   ]
  },
  {
   "cell_type": "markdown",
   "metadata": {},
   "source": [
    "14. Колонка [studytime] (ранговая переменная), содержит в себе признак времени на учёбу помимо школы в неделю (1 - менее 2 часов, 2 - 2-5 часов, 3 - 5-10 часов, 4 - более 10 часов). В столбце присутствуют пропущенные записи в количестве 7 или 1.8%. Выбросов по указанным в описании границам не обнаружено. Из диаграммы следует, что почти половина учеников тратит на учебу дополнительно от 2 до 5 часов в неделю, примерно четверть - менее 2 часов. 16% учеников выделяют от 5 до 10 дополнительных часов, и только 6.8% - более 10 часов в неделю. "
   ]
  },
  {
   "cell_type": "code",
   "execution_count": 25,
   "metadata": {},
   "outputs": [
    {
     "name": "stdout",
     "output_type": "stream",
     "text": [
      "Признак Study_time:\n",
      "\n",
      "Присутствуют пропущенные записи\n",
      "\n",
      "with NaN:\n",
      "        number  percent\n",
      "2.0      194.0     49.1\n",
      "1.0      103.0     26.1\n",
      "3.0       64.0     16.2\n",
      "4.0       27.0      6.8\n",
      "NaN        7.0      1.8\n",
      "Total:   395.0    100.0 \n",
      "\n",
      "drop NaN:\n",
      "        number  percent\n",
      "2.0      194.0     50.0\n",
      "1.0      103.0     26.5\n",
      "3.0       64.0     16.5\n",
      "4.0       27.0      7.0\n",
      "Total:   388.0    100.0 \n",
      "\n"
     ]
    },
    {
     "data": {
      "image/png": "[encoded data removed]",
      "text/plain": [
       "<Figure size 576x288 with 2 Axes>"
      ]
     },
     "metadata": {
      "needs_background": "light"
     },
     "output_type": "display_data"
    }
   ],
   "source": [
    "nominative_column_info(math.studytime, column_name='Study_time', rotation=0)"
   ]
  },
  {
   "cell_type": "markdown",
   "metadata": {},
   "source": [
    "15. Колонка [failures] (ранговая переменная), содержит в себе признак внеучебных неудач (n, если n от 1 до 2, иначе 4). Столбец содержит 22 пропущенных значения. Интересно, что сразу обнаруживается большое количество выбросов (293), если задать в качестве границ значения описание признака (1-4). Очевидно, что ошибка закралась в описание, так как количество неудач может быть равно и 0, и 3. "
   ]
  },
  {
   "cell_type": "code",
   "execution_count": 26,
   "metadata": {},
   "outputs": [
    {
     "name": "stdout",
     "output_type": "stream",
     "text": [
      "Признак Failures:\n",
      "\n",
      "Всего записей: 373\n",
      "Пропущенных (null): 22\n",
      "Максимум: 3.0\n",
      "75-й перцентиль: 0.0\n",
      "50-й перцентиль: 0.0\n",
      "25-й перцентиль: 0.0\n",
      "Минимум: 0.0\n",
      "Среднее арифм.: 0.3\n",
      "СКО: 0.74\n",
      "IQR: 0.0\n",
      "Границы валидных данных: [1,4]\n",
      "\u001b[1;31;43mОбнаружены выбросы по Bounds\n",
      "Выбросов: 293\n",
      "Сверху: 0\n",
      "Снизу: 293\n"
     ]
    },
    {
     "data": {
      "image/png": "[encoded data removed]",
      "text/plain": [
       "<Figure size 432x288 with 1 Axes>"
      ]
     },
     "metadata": {
      "needs_background": "light"
     },
     "output_type": "display_data"
    }
   ],
   "source": [
    "numeric_column_info(math.failures, column_name='Failures', bounds=(1,4))"
   ]
  },
  {
   "cell_type": "markdown",
   "metadata": {},
   "source": [
    "Исправим описание, сказав, что в данном столбце описан признак внеучебных неудач (n если n = 0,1,2, иначе (при большем количестве) - 3). Тогда выбросов не будет и из диаграммы распределения будет следовать, что 74.2% учеников не испытывали внеучебных неудач. Одну неудачу испытали на себе 12.4% учеников, 2 неудачи - 4.1% и большее количество неудач - 3.8% учеников. "
   ]
  },
  {
   "cell_type": "code",
   "execution_count": 27,
   "metadata": {},
   "outputs": [
    {
     "name": "stdout",
     "output_type": "stream",
     "text": [
      "Признак Failures:\n",
      "\n",
      "Всего записей: 373\n",
      "Пропущенных (null): 22\n",
      "Максимум: 3.0\n",
      "75-й перцентиль: 0.0\n",
      "50-й перцентиль: 0.0\n",
      "25-й перцентиль: 0.0\n",
      "Минимум: 0.0\n",
      "Среднее арифм.: 0.3\n",
      "СКО: 0.74\n",
      "IQR: 0.0\n",
      "Границы валидных данных: [0,3]\n",
      "\u001b[1;32;43mВыбросов по Bounds не обнаружено\n"
     ]
    },
    {
     "data": {
      "image/png": "[encoded data removed]",
      "text/plain": [
       "<Figure size 432x288 with 1 Axes>"
      ]
     },
     "metadata": {
      "needs_background": "light"
     },
     "output_type": "display_data"
    }
   ],
   "source": [
    "numeric_column_info(math.failures, column_name='Failures', bounds=(0,3))"
   ]
  },
  {
   "cell_type": "code",
   "execution_count": 28,
   "metadata": {},
   "outputs": [
    {
     "name": "stdout",
     "output_type": "stream",
     "text": [
      "Признак Failures:\n",
      "\n",
      "Присутствуют пропущенные записи\n",
      "\n",
      "with NaN:\n",
      "        number  percent\n",
      "0.0      293.0     74.2\n",
      "1.0       49.0     12.4\n",
      "NaN       22.0      5.6\n",
      "2.0       16.0      4.1\n",
      "3.0       15.0      3.8\n",
      "Total:   395.0    100.1 \n",
      "\n",
      "drop NaN:\n",
      "        number  percent\n",
      "0.0      293.0     78.6\n",
      "1.0       49.0     13.1\n",
      "2.0       16.0      4.3\n",
      "3.0       15.0      4.0\n",
      "Total:   373.0    100.0 \n",
      "\n"
     ]
    },
    {
     "data": {
      "image/png": "[encoded data removed]",
      "text/plain": [
       "<Figure size 576x288 with 2 Axes>"
      ]
     },
     "metadata": {
      "needs_background": "light"
     },
     "output_type": "display_data"
    }
   ],
   "source": [
    "nominative_column_info(math.failures, column_name='Failures', rotation=0)"
   ]
  },
  {
   "cell_type": "markdown",
   "metadata": {},
   "source": [
    "16. Колонка [schoolsup] (номинативная переменная), содержит в себе признак дополнительной образовательной поддержки (yes или no). Колонка содержит 9 или 2.3% пропущенных записей. Из диаграммы распределения следует, что большинство учеников 84.8% получают поддержку. И только 12.9% поддержки не получают. "
   ]
  },
  {
   "cell_type": "code",
   "execution_count": 29,
   "metadata": {},
   "outputs": [
    {
     "name": "stdout",
     "output_type": "stream",
     "text": [
      "Признак School_support:\n",
      "\n",
      "Присутствуют пропущенные записи\n",
      "\n",
      "with NaN:\n",
      "        number  percent\n",
      "no       335.0     84.8\n",
      "yes       51.0     12.9\n",
      "NaN        9.0      2.3\n",
      "Total:   395.0    100.0 \n",
      "\n",
      "drop NaN:\n",
      "        number  percent\n",
      "no       335.0     86.8\n",
      "yes       51.0     13.2\n",
      "Total:   386.0    100.0 \n",
      "\n"
     ]
    },
    {
     "data": {
      "image/png": "[encoded data removed]",
      "text/plain": [
       "<Figure size 576x288 with 2 Axes>"
      ]
     },
     "metadata": {
      "needs_background": "light"
     },
     "output_type": "display_data"
    }
   ],
   "source": [
    "nominative_column_info(math.schoolsup, column_name='School_support', rotation=0)"
   ]
  },
  {
   "cell_type": "markdown",
   "metadata": {},
   "source": [
    "17. Колонка [famsup] (номинативная переменная), содержит в себе признак семейной образовательной поддержки (yes или no).  Колонка содержит 39 или 9.9% пропущенных записей. Из диаграммы распределения следует, что более половины учеников 55.4% получает образовательную поддержку от семьи. 34.7% учеников обучаются без образовательной поддержки семьи. "
   ]
  },
  {
   "cell_type": "code",
   "execution_count": 30,
   "metadata": {},
   "outputs": [
    {
     "name": "stdout",
     "output_type": "stream",
     "text": [
      "Признак Family_support:\n",
      "\n",
      "Присутствуют пропущенные записи\n",
      "\n",
      "with NaN:\n",
      "        number  percent\n",
      "yes      219.0     55.4\n",
      "no       137.0     34.7\n",
      "NaN       39.0      9.9\n",
      "Total:   395.0    100.0 \n",
      "\n",
      "drop NaN:\n",
      "        number  percent\n",
      "yes      219.0     61.5\n",
      "no       137.0     38.5\n",
      "Total:   356.0    100.0 \n",
      "\n"
     ]
    },
    {
     "data": {
      "image/png": "[encoded data removed]",
      "text/plain": [
       "<Figure size 576x288 with 2 Axes>"
      ]
     },
     "metadata": {
      "needs_background": "light"
     },
     "output_type": "display_data"
    }
   ],
   "source": [
    "nominative_column_info(math.famsup, column_name='Family_support', rotation=0)"
   ]
  },
  {
   "cell_type": "markdown",
   "metadata": {},
   "source": [
    "18. Колонка [paid] (номинативная переменная), содержит в себе признак дополнительных платных занятий по математике (yes или no). Столбец содержит 40 пропущенных записей. Из диаграммы распределния следует, что 50.6% учеников не прибегают к платным занятиям по математике, в то время как 39.2% учеников занимаются математикой за дополнительную плату."
   ]
  },
  {
   "cell_type": "code",
   "execution_count": 31,
   "metadata": {},
   "outputs": [
    {
     "name": "stdout",
     "output_type": "stream",
     "text": [
      "Признак Paid:\n",
      "\n",
      "Присутствуют пропущенные записи\n",
      "\n",
      "with NaN:\n",
      "        number  percent\n",
      "no       200.0     50.6\n",
      "yes      155.0     39.2\n",
      "NaN       40.0     10.1\n",
      "Total:   395.0     99.9 \n",
      "\n",
      "drop NaN:\n",
      "        number  percent\n",
      "no       200.0     56.3\n",
      "yes      155.0     43.7\n",
      "Total:   355.0    100.0 \n",
      "\n"
     ]
    },
    {
     "data": {
      "image/png": "[encoded data removed]",
      "text/plain": [
       "<Figure size 576x288 with 2 Axes>"
      ]
     },
     "metadata": {
      "needs_background": "light"
     },
     "output_type": "display_data"
    }
   ],
   "source": [
    "nominative_column_info(math.paid, column_name='Paid', rotation=0)"
   ]
  },
  {
   "cell_type": "markdown",
   "metadata": {},
   "source": [
    "19. Колонка [activities] (номинативная переменная), содержит в себе признак дополнительных внеучебных занятий (yes или no). Колонка содержит 14 пропущенных записей. Из диаграммы следует, что количество учеников прибегающих к дополнительным внеучебным занятиям примерно равно количеству учеников, не посещающих дополнительные занятия.  "
   ]
  },
  {
   "cell_type": "code",
   "execution_count": 32,
   "metadata": {},
   "outputs": [
    {
     "name": "stdout",
     "output_type": "stream",
     "text": [
      "Признак Activities:\n",
      "\n",
      "Присутствуют пропущенные записи\n",
      "\n",
      "with NaN:\n",
      "        number  percent\n",
      "yes      195.0     49.4\n",
      "no       186.0     47.1\n",
      "NaN       14.0      3.5\n",
      "Total:   395.0    100.0 \n",
      "\n",
      "drop NaN:\n",
      "        number  percent\n",
      "yes      195.0     51.2\n",
      "no       186.0     48.8\n",
      "Total:   381.0    100.0 \n",
      "\n"
     ]
    },
    {
     "data": {
      "image/png": "[encoded data removed]",
      "text/plain": [
       "<Figure size 576x288 with 2 Axes>"
      ]
     },
     "metadata": {
      "needs_background": "light"
     },
     "output_type": "display_data"
    }
   ],
   "source": [
    "nominative_column_info(math.activities, column_name='Activities', rotation=0)"
   ]
  },
  {
   "cell_type": "markdown",
   "metadata": {},
   "source": [
    "20. Колонка [nursery] (номинативная переменная), содержит в себе признак посещения детского сада (yes или no). В колонке присутствует 16 пропущенных записей. Диаграмма распределения показывает, что большинство (75.9%) учеников посещали детский сад, в то время как остальные 20% не посещали.  "
   ]
  },
  {
   "cell_type": "code",
   "execution_count": 33,
   "metadata": {},
   "outputs": [
    {
     "name": "stdout",
     "output_type": "stream",
     "text": [
      "Признак Nursery:\n",
      "\n",
      "Присутствуют пропущенные записи\n",
      "\n",
      "with NaN:\n",
      "        number  percent\n",
      "yes      300.0     75.9\n",
      "no        79.0     20.0\n",
      "NaN       16.0      4.1\n",
      "Total:   395.0    100.0 \n",
      "\n",
      "drop NaN:\n",
      "        number  percent\n",
      "yes      300.0     79.2\n",
      "no        79.0     20.8\n",
      "Total:   379.0    100.0 \n",
      "\n"
     ]
    },
    {
     "data": {
      "image/png": "[encoded data removed]",
      "text/plain": [
       "<Figure size 576x288 with 2 Axes>"
      ]
     },
     "metadata": {
      "needs_background": "light"
     },
     "output_type": "display_data"
    }
   ],
   "source": [
    "nominative_column_info(math.nursery, column_name='Nursery', rotation=0)"
   ]
  },
  {
   "cell_type": "markdown",
   "metadata": {},
   "source": [
    "21. Колонка [higher] (номинативная переменная), содержит в себе признак желания получить высшее образование (yes или no). В колонке присутствует 19 пропущенных записей. Диаграмма распределения показывает, что большинство (90.1%) учеников хотят получить высшее образование, и лишь 4.8% не хотят.  "
   ]
  },
  {
   "cell_type": "code",
   "execution_count": 34,
   "metadata": {},
   "outputs": [
    {
     "name": "stdout",
     "output_type": "stream",
     "text": [
      "Признак Higher_education:\n",
      "\n",
      "Присутствуют пропущенные записи\n",
      "\n",
      "with NaN:\n",
      "        number  percent\n",
      "yes      356.0     90.1\n",
      "NaN       20.0      5.1\n",
      "no        19.0      4.8\n",
      "Total:   395.0    100.0 \n",
      "\n",
      "drop NaN:\n",
      "        number  percent\n",
      "yes      356.0     94.9\n",
      "no        19.0      5.1\n",
      "Total:   375.0    100.0 \n",
      "\n"
     ]
    },
    {
     "data": {
      "image/png": "[encoded data removed]",
      "text/plain": [
       "<Figure size 576x288 with 2 Axes>"
      ]
     },
     "metadata": {
      "needs_background": "light"
     },
     "output_type": "display_data"
    }
   ],
   "source": [
    "nominative_column_info(math.higher, column_name='Higher_education', rotation=0)"
   ]
  },
  {
   "cell_type": "markdown",
   "metadata": {},
   "source": [
    "22. Колонка [internet] (номинативная переменная), содержит в себе признак наличия интернета дома (yes или no). В колонке присутствует 34 пропущенные записи. Диаграмма распределения показывает, что большинство (77.2%) учеников имеют доступ к интернету из дома, в то время как 14.2% не имеют доступа.  "
   ]
  },
  {
   "cell_type": "code",
   "execution_count": 35,
   "metadata": {},
   "outputs": [
    {
     "name": "stdout",
     "output_type": "stream",
     "text": [
      "Признак Internet:\n",
      "\n",
      "Присутствуют пропущенные записи\n",
      "\n",
      "with NaN:\n",
      "        number  percent\n",
      "yes      305.0     77.2\n",
      "no        56.0     14.2\n",
      "NaN       34.0      8.6\n",
      "Total:   395.0    100.0 \n",
      "\n",
      "drop NaN:\n",
      "        number  percent\n",
      "yes      305.0     84.5\n",
      "no        56.0     15.5\n",
      "Total:   361.0    100.0 \n",
      "\n"
     ]
    },
    {
     "data": {
      "image/png": "[encoded data removed]",
      "text/plain": [
       "<Figure size 576x288 with 2 Axes>"
      ]
     },
     "metadata": {
      "needs_background": "light"
     },
     "output_type": "display_data"
    }
   ],
   "source": [
    " nominative_column_info(math.internet, column_name='Internet', rotation=0)"
   ]
  },
  {
   "cell_type": "markdown",
   "metadata": {},
   "source": [
    "23. Колонка [romantic] (номинативная переменная), содержит в себе признак наличия романтических отношений (yes или no). В колонке присутствует 31 пропущенная запись. Диаграмма распределения показывает, что большинство (60.8%) учеников не имеют романтических отношений, в то время как 31.4% состоят в таковых.  "
   ]
  },
  {
   "cell_type": "code",
   "execution_count": 36,
   "metadata": {},
   "outputs": [
    {
     "name": "stdout",
     "output_type": "stream",
     "text": [
      "Признак Romantic:\n",
      "\n",
      "Присутствуют пропущенные записи\n",
      "\n",
      "with NaN:\n",
      "        number  percent\n",
      "no       240.0     60.8\n",
      "yes      124.0     31.4\n",
      "NaN       31.0      7.8\n",
      "Total:   395.0    100.0 \n",
      "\n",
      "drop NaN:\n",
      "        number  percent\n",
      "no       240.0     65.9\n",
      "yes      124.0     34.1\n",
      "Total:   364.0    100.0 \n",
      "\n"
     ]
    },
    {
     "data": {
      "image/png": "[encoded data removed]",
      "text/plain": [
       "<Figure size 576x288 with 2 Axes>"
      ]
     },
     "metadata": {
      "needs_background": "light"
     },
     "output_type": "display_data"
    }
   ],
   "source": [
    "nominative_column_info(math.romantic, column_name='Romantic', rotation=0)"
   ]
  },
  {
   "cell_type": "markdown",
   "metadata": {},
   "source": [
    "24. Колонка [famrel] (ранговая переменная), содержит в себе признак семейных отношений (от 1 - очень плохо до 5 - очень хорошо). Во-первых, мы видим 27 пропущенных записей и один выброс за границы указанного диапазона. "
   ]
  },
  {
   "cell_type": "code",
   "execution_count": 37,
   "metadata": {},
   "outputs": [
    {
     "name": "stdout",
     "output_type": "stream",
     "text": [
      "Признак Family_relationships:\n",
      "\n",
      "Присутствуют пропущенные записи\n",
      "\n",
      "with NaN:\n",
      "        number  percent\n",
      "4.0      182.0     46.1\n",
      "5.0       99.0     25.1\n",
      "3.0       62.0     15.7\n",
      "NaN       27.0      6.8\n",
      "2.0       17.0      4.3\n",
      "1.0        7.0      1.8\n",
      "-1.0       1.0      0.3\n",
      "Total:   395.0    100.1 \n",
      "\n",
      "drop NaN:\n",
      "        number  percent\n",
      "4.0      182.0     49.5\n",
      "5.0       99.0     26.9\n",
      "3.0       62.0     16.8\n",
      "2.0       17.0      4.6\n",
      "1.0        7.0      1.9\n",
      "-1.0       1.0      0.3\n",
      "Total:   368.0    100.0 \n",
      "\n"
     ]
    },
    {
     "data": {
      "image/png": "[encoded data removed]",
      "text/plain": [
       "<Figure size 576x288 with 2 Axes>"
      ]
     },
     "metadata": {
      "needs_background": "light"
     },
     "output_type": "display_data"
    }
   ],
   "source": [
    "nominative_column_info(math.famrel, column_name='Family_relationships', rotation=0)"
   ]
  },
  {
   "cell_type": "markdown",
   "metadata": {},
   "source": [
    "Найдем выброс:"
   ]
  },
  {
   "cell_type": "code",
   "execution_count": 38,
   "metadata": {},
   "outputs": [
    {
     "data": {
      "text/html": [
       "<div>\n",
       "<style scoped>\n",
       "    .dataframe tbody tr th:only-of-type {\n",
       "        vertical-align: middle;\n",
       "    }\n",
       "\n",
       "    .dataframe tbody tr th {\n",
       "        vertical-align: top;\n",
       "    }\n",
       "\n",
       "    .dataframe thead th {\n",
       "        text-align: right;\n",
       "    }\n",
       "</style>\n",
       "<table border=\"1\" class=\"dataframe\">\n",
       "  <thead>\n",
       "    <tr style=\"text-align: right;\">\n",
       "      <th></th>\n",
       "      <th>school</th>\n",
       "      <th>sex</th>\n",
       "      <th>age</th>\n",
       "      <th>address</th>\n",
       "      <th>famsize</th>\n",
       "      <th>Pstatus</th>\n",
       "      <th>Medu</th>\n",
       "      <th>Fedu</th>\n",
       "      <th>Mjob</th>\n",
       "      <th>Fjob</th>\n",
       "      <th>...</th>\n",
       "      <th>nursery</th>\n",
       "      <th>higher</th>\n",
       "      <th>internet</th>\n",
       "      <th>romantic</th>\n",
       "      <th>famrel</th>\n",
       "      <th>freetime</th>\n",
       "      <th>goout</th>\n",
       "      <th>health</th>\n",
       "      <th>absences</th>\n",
       "      <th>score</th>\n",
       "    </tr>\n",
       "  </thead>\n",
       "  <tbody>\n",
       "    <tr>\n",
       "      <td>25</td>\n",
       "      <td>GP</td>\n",
       "      <td>F</td>\n",
       "      <td>16</td>\n",
       "      <td>U</td>\n",
       "      <td>GT3</td>\n",
       "      <td>NaN</td>\n",
       "      <td>2.0</td>\n",
       "      <td>2.0</td>\n",
       "      <td>services</td>\n",
       "      <td>services</td>\n",
       "      <td>...</td>\n",
       "      <td>no</td>\n",
       "      <td>yes</td>\n",
       "      <td>yes</td>\n",
       "      <td>no</td>\n",
       "      <td>-1.0</td>\n",
       "      <td>2.0</td>\n",
       "      <td>2.0</td>\n",
       "      <td>5.0</td>\n",
       "      <td>14.0</td>\n",
       "      <td>40.0</td>\n",
       "    </tr>\n",
       "  </tbody>\n",
       "</table>\n",
       "<p>1 rows × 29 columns</p>\n",
       "</div>"
      ],
      "text/plain": [
       "   school sex  age address famsize Pstatus  Medu  Fedu      Mjob      Fjob  \\\n",
       "25     GP   F   16       U     GT3     NaN   2.0   2.0  services  services   \n",
       "\n",
       "    ... nursery higher  internet  romantic  famrel freetime goout health  \\\n",
       "25  ...      no    yes       yes        no    -1.0      2.0   2.0    5.0   \n",
       "\n",
       "   absences score  \n",
       "25     14.0  40.0  \n",
       "\n",
       "[1 rows x 29 columns]"
      ]
     },
     "execution_count": 38,
     "metadata": {},
     "output_type": "execute_result"
    }
   ],
   "source": [
    "math[math.famrel<1]"
   ]
  },
  {
   "cell_type": "markdown",
   "metadata": {},
   "source": [
    "Скорее всего, была допущена ошибка в знаке, уберем знак минус, записав признак 1"
   ]
  },
  {
   "cell_type": "code",
   "execution_count": 39,
   "metadata": {},
   "outputs": [],
   "source": [
    "math.loc[25, 'famrel'] = 1"
   ]
  },
  {
   "cell_type": "markdown",
   "metadata": {},
   "source": [
    "После преобразования имеем отсутствие выбросов. Диаграмма показывает, что большинство учеников находятся в хороших или отличных отношениях с семьей (71.2%), 15.7% находятся в удовлетворительных, а 6.3% - в плохих  отношениях с семьей. "
   ]
  },
  {
   "cell_type": "code",
   "execution_count": 40,
   "metadata": {},
   "outputs": [
    {
     "name": "stdout",
     "output_type": "stream",
     "text": [
      "Признак Family_relationships:\n",
      "\n",
      "Присутствуют пропущенные записи\n",
      "\n",
      "with NaN:\n",
      "        number  percent\n",
      "4.0      182.0     46.1\n",
      "5.0       99.0     25.1\n",
      "3.0       62.0     15.7\n",
      "NaN       27.0      6.8\n",
      "2.0       17.0      4.3\n",
      "1.0        8.0      2.0\n",
      "Total:   395.0    100.0 \n",
      "\n",
      "drop NaN:\n",
      "        number  percent\n",
      "4.0      182.0     49.5\n",
      "5.0       99.0     26.9\n",
      "3.0       62.0     16.8\n",
      "2.0       17.0      4.6\n",
      "1.0        8.0      2.2\n",
      "Total:   368.0    100.0 \n",
      "\n"
     ]
    },
    {
     "data": {
      "image/png": "[encoded data removed]",
      "text/plain": [
       "<Figure size 576x288 with 2 Axes>"
      ]
     },
     "metadata": {
      "needs_background": "light"
     },
     "output_type": "display_data"
    }
   ],
   "source": [
    "nominative_column_info(math.famrel, column_name='Family_relationships', rotation=0)"
   ]
  },
  {
   "cell_type": "markdown",
   "metadata": {},
   "source": [
    "25. Колонка [freetime] (ранговая переменная), содержит в себе признак наличия свободного времени после школы (от 1 - очень мало до 5 - очень много). Отметим 11 пропущенных записей в столбце. Выбросов не обнаружено. Признак распределен нормально."
   ]
  },
  {
   "cell_type": "code",
   "execution_count": 41,
   "metadata": {},
   "outputs": [
    {
     "name": "stdout",
     "output_type": "stream",
     "text": [
      "Признак Free_time:\n",
      "\n",
      "Всего записей: 384\n",
      "Пропущенных (null): 11\n",
      "Максимум: 5.0\n",
      "75-й перцентиль: 4.0\n",
      "50-й перцентиль: 3.0\n",
      "25-й перцентиль: 3.0\n",
      "Минимум: 1.0\n",
      "Среднее арифм.: 3.2\n",
      "СКО: 0.99\n",
      "IQR: 1.0\n",
      "Границы валидных данных: [1,5]\n",
      "\u001b[1;32;43mВыбросов по Bounds не обнаружено\n"
     ]
    },
    {
     "data": {
      "image/png": "[encoded data removed]",
      "text/plain": [
       "<Figure size 432x288 with 1 Axes>"
      ]
     },
     "metadata": {
      "needs_background": "light"
     },
     "output_type": "display_data"
    }
   ],
   "source": [
    "numeric_column_info(math.freetime, column_name='Free_time', bounds=(1,5))"
   ]
  },
  {
   "cell_type": "code",
   "execution_count": 42,
   "metadata": {},
   "outputs": [
    {
     "name": "stdout",
     "output_type": "stream",
     "text": [
      "Признак Free_time:\n",
      "\n",
      "Присутствуют пропущенные записи\n",
      "\n",
      "with NaN:\n",
      "        number  percent\n",
      "3.0      153.0     38.7\n",
      "4.0      112.0     28.4\n",
      "2.0       63.0     15.9\n",
      "5.0       38.0      9.6\n",
      "1.0       18.0      4.6\n",
      "NaN       11.0      2.8\n",
      "Total:   395.0    100.0 \n",
      "\n",
      "drop NaN:\n",
      "        number  percent\n",
      "3.0      153.0     39.8\n",
      "4.0      112.0     29.2\n",
      "2.0       63.0     16.4\n",
      "5.0       38.0      9.9\n",
      "1.0       18.0      4.7\n",
      "Total:   384.0    100.0 \n",
      "\n"
     ]
    },
    {
     "data": {
      "image/png": "[encoded data removed]",
      "text/plain": [
       "<Figure size 576x288 with 2 Axes>"
      ]
     },
     "metadata": {
      "needs_background": "light"
     },
     "output_type": "display_data"
    }
   ],
   "source": [
    "nominative_column_info(math.freetime, column_name='Free_time', rotation=0)"
   ]
  },
  {
   "cell_type": "markdown",
   "metadata": {},
   "source": [
    "26. Колонка [goout] (ранговая переменная), содержит в себе признак наличия времени с друзьями (от 1 - очень мало до 5 - очень много). Отметим 8 пропущенных записей в столбце. Выбросов не обнаружено.  Признак распределен нормально."
   ]
  },
  {
   "cell_type": "code",
   "execution_count": 43,
   "metadata": {},
   "outputs": [
    {
     "name": "stdout",
     "output_type": "stream",
     "text": [
      "Признак Go_out:\n",
      "\n",
      "Всего записей: 387\n",
      "Пропущенных (null): 8\n",
      "Максимум: 5.0\n",
      "75-й перцентиль: 4.0\n",
      "50-й перцентиль: 3.0\n",
      "25-й перцентиль: 2.0\n",
      "Минимум: 1.0\n",
      "Среднее арифм.: 3.1\n",
      "СКО: 1.12\n",
      "IQR: 2.0\n",
      "Границы валидных данных: [1,5]\n",
      "\u001b[1;32;43mВыбросов по Bounds не обнаружено\n"
     ]
    },
    {
     "data": {
      "image/png": "[encoded data removed]",
      "text/plain": [
       "<Figure size 432x288 with 1 Axes>"
      ]
     },
     "metadata": {
      "needs_background": "light"
     },
     "output_type": "display_data"
    }
   ],
   "source": [
    "numeric_column_info(math.goout, column_name='Go_out', bounds=(1,5))"
   ]
  },
  {
   "cell_type": "markdown",
   "metadata": {},
   "source": [
    "27. Колонка [health] (ранговая переменная), содержит в себе признак текущего состояния здоровья (от 1 - очень плохо до 5 - очень хорошо). Отметим 15 пропущенных записей в столбце. Диаграмма говорит о том, что 50% учеников обладают отличным или хорошим здоровьем, в то время как оставшаяся половина испытывает проблемы со здоровьем."
   ]
  },
  {
   "cell_type": "code",
   "execution_count": 44,
   "metadata": {},
   "outputs": [
    {
     "name": "stdout",
     "output_type": "stream",
     "text": [
      "Признак Health:\n",
      "\n",
      "Присутствуют пропущенные записи\n",
      "\n",
      "with NaN:\n",
      "        number  percent\n",
      "5.0      138.0     34.9\n",
      "3.0       89.0     22.5\n",
      "4.0       63.0     15.9\n",
      "1.0       47.0     11.9\n",
      "2.0       43.0     10.9\n",
      "NaN       15.0      3.8\n",
      "Total:   395.0     99.9 \n",
      "\n",
      "drop NaN:\n",
      "        number  percent\n",
      "5.0      138.0     36.3\n",
      "3.0       89.0     23.4\n",
      "4.0       63.0     16.6\n",
      "1.0       47.0     12.4\n",
      "2.0       43.0     11.3\n",
      "Total:   380.0    100.0 \n",
      "\n"
     ]
    },
    {
     "data": {
      "image/png": "[encoded data removed]",
      "text/plain": [
       "<Figure size 576x288 with 2 Axes>"
      ]
     },
     "metadata": {
      "needs_background": "light"
     },
     "output_type": "display_data"
    }
   ],
   "source": [
    "nominative_column_info(math.health, column_name='Health', rotation=0)"
   ]
  },
  {
   "cell_type": "markdown",
   "metadata": {},
   "source": [
    "28. Колонка [absences] (количественная переменная), содержит в себе признак количества пропущенных занятий. Отметим 12 пропущенных записей в столбце. Сразу же обнаруживаем 17 выбросов по IQR."
   ]
  },
  {
   "cell_type": "code",
   "execution_count": 45,
   "metadata": {},
   "outputs": [
    {
     "name": "stdout",
     "output_type": "stream",
     "text": [
      "Признак Absences:\n",
      "\n",
      "Всего записей: 383\n",
      "Пропущенных (null): 12\n",
      "Максимум: 385.0\n",
      "75-й перцентиль: 8.0\n",
      "50-й перцентиль: 4.0\n",
      "25-й перцентиль: 0.0\n",
      "Минимум: 0.0\n",
      "Среднее арифм.: 7.3\n",
      "СКО: 23.47\n",
      "IQR: 8.0\n",
      "Границы валидных данных: [-12.0,20.0]\n",
      "\u001b[1;31;43mОбнаружены выбросы по IQR\n",
      "Выбросов: 17\n",
      "Сверху: 17\n",
      "Снизу: 0\n"
     ]
    },
    {
     "data": {
      "image/png": "[encoded data removed]",
      "text/plain": [
       "<Figure size 432x288 with 1 Axes>"
      ]
     },
     "metadata": {
      "needs_background": "light"
     },
     "output_type": "display_data"
    }
   ],
   "source": [
    "numeric_column_info(math.absences, column_name='Absences')"
   ]
  },
  {
   "cell_type": "markdown",
   "metadata": {},
   "source": [
    "Посмотрим на выбросы по IQR:"
   ]
  },
  {
   "cell_type": "code",
   "execution_count": 46,
   "metadata": {},
   "outputs": [
    {
     "data": {
      "text/html": [
       "<div>\n",
       "<style scoped>\n",
       "    .dataframe tbody tr th:only-of-type {\n",
       "        vertical-align: middle;\n",
       "    }\n",
       "\n",
       "    .dataframe tbody tr th {\n",
       "        vertical-align: top;\n",
       "    }\n",
       "\n",
       "    .dataframe thead th {\n",
       "        text-align: right;\n",
       "    }\n",
       "</style>\n",
       "<table border=\"1\" class=\"dataframe\">\n",
       "  <thead>\n",
       "    <tr style=\"text-align: right;\">\n",
       "      <th></th>\n",
       "      <th>school</th>\n",
       "      <th>sex</th>\n",
       "      <th>age</th>\n",
       "      <th>address</th>\n",
       "      <th>famsize</th>\n",
       "      <th>Pstatus</th>\n",
       "      <th>Medu</th>\n",
       "      <th>Fedu</th>\n",
       "      <th>Mjob</th>\n",
       "      <th>Fjob</th>\n",
       "      <th>...</th>\n",
       "      <th>nursery</th>\n",
       "      <th>higher</th>\n",
       "      <th>internet</th>\n",
       "      <th>romantic</th>\n",
       "      <th>famrel</th>\n",
       "      <th>freetime</th>\n",
       "      <th>goout</th>\n",
       "      <th>health</th>\n",
       "      <th>absences</th>\n",
       "      <th>score</th>\n",
       "    </tr>\n",
       "  </thead>\n",
       "  <tbody>\n",
       "    <tr>\n",
       "      <td>40</td>\n",
       "      <td>GP</td>\n",
       "      <td>F</td>\n",
       "      <td>16</td>\n",
       "      <td>U</td>\n",
       "      <td>LE3</td>\n",
       "      <td>T</td>\n",
       "      <td>2.0</td>\n",
       "      <td>2.0</td>\n",
       "      <td>other</td>\n",
       "      <td>other</td>\n",
       "      <td>...</td>\n",
       "      <td>no</td>\n",
       "      <td>yes</td>\n",
       "      <td>yes</td>\n",
       "      <td>yes</td>\n",
       "      <td>3.0</td>\n",
       "      <td>3.0</td>\n",
       "      <td>3.0</td>\n",
       "      <td>3.0</td>\n",
       "      <td>25.0</td>\n",
       "      <td>55.0</td>\n",
       "    </tr>\n",
       "    <tr>\n",
       "      <td>74</td>\n",
       "      <td>GP</td>\n",
       "      <td>F</td>\n",
       "      <td>16</td>\n",
       "      <td>U</td>\n",
       "      <td>GT3</td>\n",
       "      <td>T</td>\n",
       "      <td>3.0</td>\n",
       "      <td>3.0</td>\n",
       "      <td>other</td>\n",
       "      <td>services</td>\n",
       "      <td>...</td>\n",
       "      <td>yes</td>\n",
       "      <td>yes</td>\n",
       "      <td>yes</td>\n",
       "      <td>no</td>\n",
       "      <td>4.0</td>\n",
       "      <td>NaN</td>\n",
       "      <td>3.0</td>\n",
       "      <td>5.0</td>\n",
       "      <td>54.0</td>\n",
       "      <td>55.0</td>\n",
       "    </tr>\n",
       "    <tr>\n",
       "      <td>103</td>\n",
       "      <td>GP</td>\n",
       "      <td>F</td>\n",
       "      <td>15</td>\n",
       "      <td>U</td>\n",
       "      <td>GT3</td>\n",
       "      <td>T</td>\n",
       "      <td>3.0</td>\n",
       "      <td>2.0</td>\n",
       "      <td>services</td>\n",
       "      <td>other</td>\n",
       "      <td>...</td>\n",
       "      <td>yes</td>\n",
       "      <td>yes</td>\n",
       "      <td>yes</td>\n",
       "      <td>no</td>\n",
       "      <td>4.0</td>\n",
       "      <td>3.0</td>\n",
       "      <td>5.0</td>\n",
       "      <td>2.0</td>\n",
       "      <td>26.0</td>\n",
       "      <td>30.0</td>\n",
       "    </tr>\n",
       "    <tr>\n",
       "      <td>183</td>\n",
       "      <td>GP</td>\n",
       "      <td>F</td>\n",
       "      <td>17</td>\n",
       "      <td>U</td>\n",
       "      <td>LE3</td>\n",
       "      <td>NaN</td>\n",
       "      <td>3.0</td>\n",
       "      <td>3.0</td>\n",
       "      <td>other</td>\n",
       "      <td>other</td>\n",
       "      <td>...</td>\n",
       "      <td>yes</td>\n",
       "      <td>yes</td>\n",
       "      <td>yes</td>\n",
       "      <td>yes</td>\n",
       "      <td>5.0</td>\n",
       "      <td>3.0</td>\n",
       "      <td>3.0</td>\n",
       "      <td>1.0</td>\n",
       "      <td>56.0</td>\n",
       "      <td>40.0</td>\n",
       "    </tr>\n",
       "    <tr>\n",
       "      <td>198</td>\n",
       "      <td>GP</td>\n",
       "      <td>F</td>\n",
       "      <td>17</td>\n",
       "      <td>U</td>\n",
       "      <td>GT3</td>\n",
       "      <td>NaN</td>\n",
       "      <td>4.0</td>\n",
       "      <td>4.0</td>\n",
       "      <td>services</td>\n",
       "      <td>teacher</td>\n",
       "      <td>...</td>\n",
       "      <td>yes</td>\n",
       "      <td>yes</td>\n",
       "      <td>NaN</td>\n",
       "      <td>no</td>\n",
       "      <td>4.0</td>\n",
       "      <td>2.0</td>\n",
       "      <td>4.0</td>\n",
       "      <td>2.0</td>\n",
       "      <td>24.0</td>\n",
       "      <td>90.0</td>\n",
       "    </tr>\n",
       "    <tr>\n",
       "      <td>205</td>\n",
       "      <td>GP</td>\n",
       "      <td>F</td>\n",
       "      <td>17</td>\n",
       "      <td>U</td>\n",
       "      <td>GT3</td>\n",
       "      <td>T</td>\n",
       "      <td>3.0</td>\n",
       "      <td>4.0</td>\n",
       "      <td>at_home</td>\n",
       "      <td>services</td>\n",
       "      <td>...</td>\n",
       "      <td>yes</td>\n",
       "      <td>yes</td>\n",
       "      <td>yes</td>\n",
       "      <td>yes</td>\n",
       "      <td>4.0</td>\n",
       "      <td>4.0</td>\n",
       "      <td>3.0</td>\n",
       "      <td>5.0</td>\n",
       "      <td>28.0</td>\n",
       "      <td>45.0</td>\n",
       "    </tr>\n",
       "    <tr>\n",
       "      <td>216</td>\n",
       "      <td>GP</td>\n",
       "      <td>F</td>\n",
       "      <td>17</td>\n",
       "      <td>U</td>\n",
       "      <td>GT3</td>\n",
       "      <td>T</td>\n",
       "      <td>4.0</td>\n",
       "      <td>3.0</td>\n",
       "      <td>other</td>\n",
       "      <td>NaN</td>\n",
       "      <td>...</td>\n",
       "      <td>yes</td>\n",
       "      <td>yes</td>\n",
       "      <td>yes</td>\n",
       "      <td>yes</td>\n",
       "      <td>3.0</td>\n",
       "      <td>4.0</td>\n",
       "      <td>5.0</td>\n",
       "      <td>1.0</td>\n",
       "      <td>22.0</td>\n",
       "      <td>20.0</td>\n",
       "    </tr>\n",
       "    <tr>\n",
       "      <td>222</td>\n",
       "      <td>GP</td>\n",
       "      <td>F</td>\n",
       "      <td>16</td>\n",
       "      <td>U</td>\n",
       "      <td>GT3</td>\n",
       "      <td>T</td>\n",
       "      <td>2.0</td>\n",
       "      <td>3.0</td>\n",
       "      <td>services</td>\n",
       "      <td>teacher</td>\n",
       "      <td>...</td>\n",
       "      <td>yes</td>\n",
       "      <td>yes</td>\n",
       "      <td>yes</td>\n",
       "      <td>no</td>\n",
       "      <td>2.0</td>\n",
       "      <td>3.0</td>\n",
       "      <td>1.0</td>\n",
       "      <td>3.0</td>\n",
       "      <td>385.0</td>\n",
       "      <td>85.0</td>\n",
       "    </tr>\n",
       "    <tr>\n",
       "      <td>260</td>\n",
       "      <td>GP</td>\n",
       "      <td>F</td>\n",
       "      <td>18</td>\n",
       "      <td>U</td>\n",
       "      <td>GT3</td>\n",
       "      <td>NaN</td>\n",
       "      <td>4.0</td>\n",
       "      <td>3.0</td>\n",
       "      <td>NaN</td>\n",
       "      <td>other</td>\n",
       "      <td>...</td>\n",
       "      <td>yes</td>\n",
       "      <td>yes</td>\n",
       "      <td>yes</td>\n",
       "      <td>yes</td>\n",
       "      <td>3.0</td>\n",
       "      <td>1.0</td>\n",
       "      <td>2.0</td>\n",
       "      <td>2.0</td>\n",
       "      <td>21.0</td>\n",
       "      <td>90.0</td>\n",
       "    </tr>\n",
       "    <tr>\n",
       "      <td>276</td>\n",
       "      <td>GP</td>\n",
       "      <td>F</td>\n",
       "      <td>18</td>\n",
       "      <td>R</td>\n",
       "      <td>GT3</td>\n",
       "      <td>A</td>\n",
       "      <td>3.0</td>\n",
       "      <td>2.0</td>\n",
       "      <td>other</td>\n",
       "      <td>services</td>\n",
       "      <td>...</td>\n",
       "      <td>no</td>\n",
       "      <td>no</td>\n",
       "      <td>yes</td>\n",
       "      <td>yes</td>\n",
       "      <td>NaN</td>\n",
       "      <td>1.0</td>\n",
       "      <td>1.0</td>\n",
       "      <td>5.0</td>\n",
       "      <td>75.0</td>\n",
       "      <td>45.0</td>\n",
       "    </tr>\n",
       "    <tr>\n",
       "      <td>277</td>\n",
       "      <td>GP</td>\n",
       "      <td>M</td>\n",
       "      <td>18</td>\n",
       "      <td>U</td>\n",
       "      <td>GT3</td>\n",
       "      <td>T</td>\n",
       "      <td>4.0</td>\n",
       "      <td>4.0</td>\n",
       "      <td>NaN</td>\n",
       "      <td>services</td>\n",
       "      <td>...</td>\n",
       "      <td>yes</td>\n",
       "      <td>yes</td>\n",
       "      <td>yes</td>\n",
       "      <td>no</td>\n",
       "      <td>3.0</td>\n",
       "      <td>2.0</td>\n",
       "      <td>4.0</td>\n",
       "      <td>3.0</td>\n",
       "      <td>22.0</td>\n",
       "      <td>45.0</td>\n",
       "    </tr>\n",
       "    <tr>\n",
       "      <td>280</td>\n",
       "      <td>GP</td>\n",
       "      <td>M</td>\n",
       "      <td>17</td>\n",
       "      <td>U</td>\n",
       "      <td>NaN</td>\n",
       "      <td>A</td>\n",
       "      <td>4.0</td>\n",
       "      <td>NaN</td>\n",
       "      <td>services</td>\n",
       "      <td>other</td>\n",
       "      <td>...</td>\n",
       "      <td>yes</td>\n",
       "      <td>yes</td>\n",
       "      <td>yes</td>\n",
       "      <td>NaN</td>\n",
       "      <td>4.0</td>\n",
       "      <td>NaN</td>\n",
       "      <td>4.0</td>\n",
       "      <td>5.0</td>\n",
       "      <td>30.0</td>\n",
       "      <td>40.0</td>\n",
       "    </tr>\n",
       "    <tr>\n",
       "      <td>307</td>\n",
       "      <td>GP</td>\n",
       "      <td>M</td>\n",
       "      <td>19</td>\n",
       "      <td>U</td>\n",
       "      <td>GT3</td>\n",
       "      <td>NaN</td>\n",
       "      <td>4.0</td>\n",
       "      <td>4.0</td>\n",
       "      <td>teacher</td>\n",
       "      <td>services</td>\n",
       "      <td>...</td>\n",
       "      <td>yes</td>\n",
       "      <td>yes</td>\n",
       "      <td>yes</td>\n",
       "      <td>yes</td>\n",
       "      <td>4.0</td>\n",
       "      <td>3.0</td>\n",
       "      <td>4.0</td>\n",
       "      <td>4.0</td>\n",
       "      <td>38.0</td>\n",
       "      <td>40.0</td>\n",
       "    </tr>\n",
       "    <tr>\n",
       "      <td>313</td>\n",
       "      <td>GP</td>\n",
       "      <td>F</td>\n",
       "      <td>19</td>\n",
       "      <td>U</td>\n",
       "      <td>NaN</td>\n",
       "      <td>NaN</td>\n",
       "      <td>3.0</td>\n",
       "      <td>2.0</td>\n",
       "      <td>services</td>\n",
       "      <td>other</td>\n",
       "      <td>...</td>\n",
       "      <td>no</td>\n",
       "      <td>yes</td>\n",
       "      <td>yes</td>\n",
       "      <td>yes</td>\n",
       "      <td>4.0</td>\n",
       "      <td>2.0</td>\n",
       "      <td>2.0</td>\n",
       "      <td>1.0</td>\n",
       "      <td>22.0</td>\n",
       "      <td>55.0</td>\n",
       "    </tr>\n",
       "    <tr>\n",
       "      <td>315</td>\n",
       "      <td>GP</td>\n",
       "      <td>F</td>\n",
       "      <td>19</td>\n",
       "      <td>R</td>\n",
       "      <td>GT3</td>\n",
       "      <td>T</td>\n",
       "      <td>2.0</td>\n",
       "      <td>3.0</td>\n",
       "      <td>other</td>\n",
       "      <td>other</td>\n",
       "      <td>...</td>\n",
       "      <td>yes</td>\n",
       "      <td>yes</td>\n",
       "      <td>yes</td>\n",
       "      <td>yes</td>\n",
       "      <td>4.0</td>\n",
       "      <td>1.0</td>\n",
       "      <td>2.0</td>\n",
       "      <td>3.0</td>\n",
       "      <td>40.0</td>\n",
       "      <td>55.0</td>\n",
       "    </tr>\n",
       "    <tr>\n",
       "      <td>320</td>\n",
       "      <td>GP</td>\n",
       "      <td>F</td>\n",
       "      <td>17</td>\n",
       "      <td>U</td>\n",
       "      <td>GT3</td>\n",
       "      <td>A</td>\n",
       "      <td>4.0</td>\n",
       "      <td>3.0</td>\n",
       "      <td>services</td>\n",
       "      <td>services</td>\n",
       "      <td>...</td>\n",
       "      <td>yes</td>\n",
       "      <td>NaN</td>\n",
       "      <td>yes</td>\n",
       "      <td>yes</td>\n",
       "      <td>5.0</td>\n",
       "      <td>2.0</td>\n",
       "      <td>2.0</td>\n",
       "      <td>5.0</td>\n",
       "      <td>23.0</td>\n",
       "      <td>65.0</td>\n",
       "    </tr>\n",
       "    <tr>\n",
       "      <td>390</td>\n",
       "      <td>MS</td>\n",
       "      <td>M</td>\n",
       "      <td>20</td>\n",
       "      <td>U</td>\n",
       "      <td>LE3</td>\n",
       "      <td>A</td>\n",
       "      <td>2.0</td>\n",
       "      <td>2.0</td>\n",
       "      <td>services</td>\n",
       "      <td>services</td>\n",
       "      <td>...</td>\n",
       "      <td>yes</td>\n",
       "      <td>yes</td>\n",
       "      <td>no</td>\n",
       "      <td>no</td>\n",
       "      <td>5.0</td>\n",
       "      <td>5.0</td>\n",
       "      <td>4.0</td>\n",
       "      <td>4.0</td>\n",
       "      <td>212.0</td>\n",
       "      <td>45.0</td>\n",
       "    </tr>\n",
       "  </tbody>\n",
       "</table>\n",
       "<p>17 rows × 29 columns</p>\n",
       "</div>"
      ],
      "text/plain": [
       "    school sex  age address famsize Pstatus  Medu  Fedu      Mjob      Fjob  \\\n",
       "40      GP   F   16       U     LE3       T   2.0   2.0     other     other   \n",
       "74      GP   F   16       U     GT3       T   3.0   3.0     other  services   \n",
       "103     GP   F   15       U     GT3       T   3.0   2.0  services     other   \n",
       "183     GP   F   17       U     LE3     NaN   3.0   3.0     other     other   \n",
       "198     GP   F   17       U     GT3     NaN   4.0   4.0  services   teacher   \n",
       "205     GP   F   17       U     GT3       T   3.0   4.0   at_home  services   \n",
       "216     GP   F   17       U     GT3       T   4.0   3.0     other       NaN   \n",
       "222     GP   F   16       U     GT3       T   2.0   3.0  services   teacher   \n",
       "260     GP   F   18       U     GT3     NaN   4.0   3.0       NaN     other   \n",
       "276     GP   F   18       R     GT3       A   3.0   2.0     other  services   \n",
       "277     GP   M   18       U     GT3       T   4.0   4.0       NaN  services   \n",
       "280     GP   M   17       U     NaN       A   4.0   NaN  services     other   \n",
       "307     GP   M   19       U     GT3     NaN   4.0   4.0   teacher  services   \n",
       "313     GP   F   19       U     NaN     NaN   3.0   2.0  services     other   \n",
       "315     GP   F   19       R     GT3       T   2.0   3.0     other     other   \n",
       "320     GP   F   17       U     GT3       A   4.0   3.0  services  services   \n",
       "390     MS   M   20       U     LE3       A   2.0   2.0  services  services   \n",
       "\n",
       "     ... nursery higher  internet  romantic  famrel freetime goout health  \\\n",
       "40   ...      no    yes       yes       yes     3.0      3.0   3.0    3.0   \n",
       "74   ...     yes    yes       yes        no     4.0      NaN   3.0    5.0   \n",
       "103  ...     yes    yes       yes        no     4.0      3.0   5.0    2.0   \n",
       "183  ...     yes    yes       yes       yes     5.0      3.0   3.0    1.0   \n",
       "198  ...     yes    yes       NaN        no     4.0      2.0   4.0    2.0   \n",
       "205  ...     yes    yes       yes       yes     4.0      4.0   3.0    5.0   \n",
       "216  ...     yes    yes       yes       yes     3.0      4.0   5.0    1.0   \n",
       "222  ...     yes    yes       yes        no     2.0      3.0   1.0    3.0   \n",
       "260  ...     yes    yes       yes       yes     3.0      1.0   2.0    2.0   \n",
       "276  ...      no     no       yes       yes     NaN      1.0   1.0    5.0   \n",
       "277  ...     yes    yes       yes        no     3.0      2.0   4.0    3.0   \n",
       "280  ...     yes    yes       yes       NaN     4.0      NaN   4.0    5.0   \n",
       "307  ...     yes    yes       yes       yes     4.0      3.0   4.0    4.0   \n",
       "313  ...      no    yes       yes       yes     4.0      2.0   2.0    1.0   \n",
       "315  ...     yes    yes       yes       yes     4.0      1.0   2.0    3.0   \n",
       "320  ...     yes    NaN       yes       yes     5.0      2.0   2.0    5.0   \n",
       "390  ...     yes    yes        no        no     5.0      5.0   4.0    4.0   \n",
       "\n",
       "    absences score  \n",
       "40      25.0  55.0  \n",
       "74      54.0  55.0  \n",
       "103     26.0  30.0  \n",
       "183     56.0  40.0  \n",
       "198     24.0  90.0  \n",
       "205     28.0  45.0  \n",
       "216     22.0  20.0  \n",
       "222    385.0  85.0  \n",
       "260     21.0  90.0  \n",
       "276     75.0  45.0  \n",
       "277     22.0  45.0  \n",
       "280     30.0  40.0  \n",
       "307     38.0  40.0  \n",
       "313     22.0  55.0  \n",
       "315     40.0  55.0  \n",
       "320     23.0  65.0  \n",
       "390    212.0  45.0  \n",
       "\n",
       "[17 rows x 29 columns]"
      ]
     },
     "execution_count": 46,
     "metadata": {},
     "output_type": "execute_result"
    }
   ],
   "source": [
    "math[math.absences>20]"
   ]
  },
  {
   "cell_type": "markdown",
   "metadata": {},
   "source": [
    "Здравый смысл говорит о том, что количество пропущенных занятий может быть сколь угодно большим, вплоть до пропуска абсолютно всех занятий (по болезни, например). Среди всех выбросов выделяются два (385 и 212). Понятно, что здесь произошло что-то аномальное. Уберем эти записи, оставив пропущенные. "
   ]
  },
  {
   "cell_type": "code",
   "execution_count": 47,
   "metadata": {},
   "outputs": [],
   "source": [
    "math1=math[math.absences.isnull()]\n",
    "math2=math[math.absences<=100]\n",
    "math=pd.concat([math1, math2])"
   ]
  },
  {
   "cell_type": "code",
   "execution_count": 48,
   "metadata": {},
   "outputs": [
    {
     "name": "stdout",
     "output_type": "stream",
     "text": [
      "Признак Absences:\n",
      "\n",
      "Всего записей: 381\n",
      "Пропущенных (null): 12\n",
      "Максимум: 75.0\n",
      "75-й перцентиль: 8.0\n",
      "50-й перцентиль: 4.0\n",
      "25-й перцентиль: 0.0\n",
      "Минимум: 0.0\n",
      "Среднее арифм.: 5.8\n",
      "СКО: 8.09\n",
      "IQR: 8.0\n",
      "Границы валидных данных: [-12.0,20.0]\n",
      "\u001b[1;31;43mОбнаружены выбросы по IQR\n",
      "Выбросов: 15\n",
      "Сверху: 15\n",
      "Снизу: 0\n"
     ]
    },
    {
     "data": {
      "image/png": "[encoded data removed]",
      "text/plain": [
       "<Figure size 432x288 with 1 Axes>"
      ]
     },
     "metadata": {
      "needs_background": "light"
     },
     "output_type": "display_data"
    }
   ],
   "source": [
    "# После отбраковки выбросов по IQR\n",
    "numeric_column_info(math.absences, column_name='Absences')"
   ]
  },
  {
   "cell_type": "markdown",
   "metadata": {},
   "source": [
    "Несмотря на наличие выбросов по IQR, не будем больше удалять данные, исходя из здравого смысла. Теперь в датасете осталось 393 записи. "
   ]
  },
  {
   "cell_type": "markdown",
   "metadata": {},
   "source": [
    "29. Колонка [score] (количественная переменная), содержит в себе признак количества баллов по математике. Столбец содержит 6 пропущенных записей. Диаграмма показывает нам нормальное распределение оценок со средним 52.2 и ско 22.9. Хорошо виден \"выброс\" в левой части, состоящий из 37 записей с оценкой 0. Нет никаких причин удалять эти записи, так как они не являются выбросами ни по IQR, ни по границам возможных значений параметра. "
   ]
  },
  {
   "cell_type": "code",
   "execution_count": 49,
   "metadata": {},
   "outputs": [
    {
     "name": "stdout",
     "output_type": "stream",
     "text": [
      "Признак Score:\n",
      "\n",
      "Всего записей: 387\n",
      "Пропущенных (null): 6\n",
      "Максимум: 100.0\n",
      "75-й перцентиль: 70.0\n",
      "50-й перцентиль: 55.0\n",
      "25-й перцентиль: 40.0\n",
      "Минимум: 0.0\n",
      "Среднее арифм.: 52.2\n",
      "СКО: 22.91\n",
      "IQR: 30.0\n",
      "Границы валидных данных: [0,100]\n",
      "\u001b[1;32;43mВыбросов по Bounds не обнаружено\n"
     ]
    },
    {
     "data": {
      "image/png": "[encoded data removed]",
      "text/plain": [
       "<Figure size 432x288 with 1 Axes>"
      ]
     },
     "metadata": {
      "needs_background": "light"
     },
     "output_type": "display_data"
    }
   ],
   "source": [
    "numeric_column_info(math.score, column_name='Score', bounds=(0,100))"
   ]
  },
  {
   "cell_type": "code",
   "execution_count": 50,
   "metadata": {},
   "outputs": [
    {
     "data": {
      "text/plain": [
       "37"
      ]
     },
     "execution_count": 50,
     "metadata": {},
     "output_type": "execute_result"
    }
   ],
   "source": [
    "len(math[math.score==0])"
   ]
  },
  {
   "cell_type": "code",
   "execution_count": 51,
   "metadata": {},
   "outputs": [
    {
     "data": {
      "image/png": "[encoded data removed]",
      "text/plain": [
       "<Figure size 432x288 with 1 Axes>"
      ]
     },
     "metadata": {
      "needs_background": "light"
     },
     "output_type": "display_data"
    }
   ],
   "source": [
    "boxplot = math.boxplot(column=['score'])"
   ]
  },
  {
   "cell_type": "markdown",
   "metadata": {},
   "source": [
    "В данных присутствуют пропущенные значения, о распределении которых говорит диаграмма. Из неё следует, что максимальное количество пропущенных данных в столбцах не превосходит 12%. Максимальное количество пропусков в столбце [Pstatus] (около 12%). Три столбца [school], [sex] и [age] не содержат пропусков. Существует много вариантов восстановления значений, но пока мне непонятно как это использовать и, что самое главное, как это  повлияет на модель в дальнейшем. Поэтому просто удалим все записи с пропущенными значениями."
   ]
  },
  {
   "cell_type": "code",
   "execution_count": 52,
   "metadata": {},
   "outputs": [
    {
     "data": {
      "text/plain": [
       "<matplotlib.axes._subplots.AxesSubplot at 0xbc608c8>"
      ]
     },
     "execution_count": 52,
     "metadata": {},
     "output_type": "execute_result"
    },
    {
     "data": {
      "image/png": "[encoded data removed]",
      "text/plain": [
       "<Figure size 720x360 with 1 Axes>"
      ]
     },
     "metadata": {
      "needs_background": "light"
     },
     "output_type": "display_data"
    }
   ],
   "source": [
    "(math.isnull().sum()*100/math.shape[0]).plot(figsize=(10,5),kind='bar',grid=True,colormap='coolwarm',title='NaN percentage')"
   ]
  },
  {
   "cell_type": "code",
   "execution_count": 53,
   "metadata": {},
   "outputs": [
    {
     "name": "stdout",
     "output_type": "stream",
     "text": [
      "<class 'pandas.core.frame.DataFrame'>\n",
      "Int64Index: 97 entries, 4 to 391\n",
      "Data columns (total 29 columns):\n",
      "school        97 non-null object\n",
      "sex           97 non-null object\n",
      "age           97 non-null int64\n",
      "address       97 non-null object\n",
      "famsize       97 non-null object\n",
      "Pstatus       97 non-null object\n",
      "Medu          97 non-null float64\n",
      "Fedu          97 non-null float64\n",
      "Mjob          97 non-null object\n",
      "Fjob          97 non-null object\n",
      "reason        97 non-null object\n",
      "guardian      97 non-null object\n",
      "traveltime    97 non-null float64\n",
      "studytime     97 non-null float64\n",
      "failures      97 non-null float64\n",
      "schoolsup     97 non-null object\n",
      "famsup        97 non-null object\n",
      "paid          97 non-null object\n",
      "activities    97 non-null object\n",
      "nursery       97 non-null object\n",
      "higher        97 non-null object\n",
      "internet      97 non-null object\n",
      "romantic      97 non-null object\n",
      "famrel        97 non-null float64\n",
      "freetime      97 non-null float64\n",
      "goout         97 non-null float64\n",
      "health        97 non-null float64\n",
      "absences      97 non-null float64\n",
      "score         97 non-null float64\n",
      "dtypes: float64(11), int64(1), object(17)\n",
      "memory usage: 22.7+ KB\n"
     ]
    }
   ],
   "source": [
    "math=math.dropna()\n",
    "math.info()"
   ]
  },
  {
   "cell_type": "markdown",
   "metadata": {},
   "source": [
    " После такой фильтрации останется 97 записей."
   ]
  },
  {
   "cell_type": "markdown",
   "metadata": {},
   "source": [
    "### Выводы по первичной обработке данных\n",
    "\n",
    "Итак, проведенная первичная обработка показала, что датасет содержит 29 переменных, из них три - количественные ([age], [absences] и [score]), 9 - ранговых и 17 номинативных.  Данные довольно чистые, так как изменения внесены лишь в очень небольшое количество записей: [fedu] - лишний ноль в 1 записи, [famrel] - ошибочный знак минус, [absences] - два аномальных выброса, [failures] - подправлено описание, удалён 1 столбец [studytime, granular] так как отсутствует его описание, кроме того, он повторяет [studytime] с коэффициентом (-3)."
   ]
  },
  {
   "cell_type": "markdown",
   "metadata": {},
   "source": [
    "## 2. Корреляционный анализ количественных переменных\n",
    "\n",
    "Вычислим матрицу корреляции для количественных и ранговых переменных и построим её heatmap для лучшего представления:"
   ]
  },
  {
   "cell_type": "code",
   "execution_count": 54,
   "metadata": {},
   "outputs": [
    {
     "data": {
      "text/html": [
       "<div>\n",
       "<style scoped>\n",
       "    .dataframe tbody tr th:only-of-type {\n",
       "        vertical-align: middle;\n",
       "    }\n",
       "\n",
       "    .dataframe tbody tr th {\n",
       "        vertical-align: top;\n",
       "    }\n",
       "\n",
       "    .dataframe thead th {\n",
       "        text-align: right;\n",
       "    }\n",
       "</style>\n",
       "<table border=\"1\" class=\"dataframe\">\n",
       "  <thead>\n",
       "    <tr style=\"text-align: right;\">\n",
       "      <th></th>\n",
       "      <th>age</th>\n",
       "      <th>Medu</th>\n",
       "      <th>Fedu</th>\n",
       "      <th>traveltime</th>\n",
       "      <th>studytime</th>\n",
       "      <th>failures</th>\n",
       "      <th>famrel</th>\n",
       "      <th>freetime</th>\n",
       "      <th>goout</th>\n",
       "      <th>health</th>\n",
       "      <th>absences</th>\n",
       "      <th>score</th>\n",
       "    </tr>\n",
       "  </thead>\n",
       "  <tbody>\n",
       "    <tr>\n",
       "      <td>age</td>\n",
       "      <td>1.000000</td>\n",
       "      <td>-0.071662</td>\n",
       "      <td>-0.056929</td>\n",
       "      <td>0.143682</td>\n",
       "      <td>-0.220209</td>\n",
       "      <td>0.320914</td>\n",
       "      <td>0.057039</td>\n",
       "      <td>0.040115</td>\n",
       "      <td>0.106748</td>\n",
       "      <td>0.037152</td>\n",
       "      <td>0.142780</td>\n",
       "      <td>-0.186407</td>\n",
       "    </tr>\n",
       "    <tr>\n",
       "      <td>Medu</td>\n",
       "      <td>-0.071662</td>\n",
       "      <td>1.000000</td>\n",
       "      <td>0.684379</td>\n",
       "      <td>-0.248099</td>\n",
       "      <td>-0.042491</td>\n",
       "      <td>-0.135065</td>\n",
       "      <td>-0.032146</td>\n",
       "      <td>-0.032350</td>\n",
       "      <td>0.023938</td>\n",
       "      <td>-0.124250</td>\n",
       "      <td>0.101253</td>\n",
       "      <td>0.064914</td>\n",
       "    </tr>\n",
       "    <tr>\n",
       "      <td>Fedu</td>\n",
       "      <td>-0.056929</td>\n",
       "      <td>0.684379</td>\n",
       "      <td>1.000000</td>\n",
       "      <td>-0.162149</td>\n",
       "      <td>-0.001350</td>\n",
       "      <td>-0.189926</td>\n",
       "      <td>-0.059084</td>\n",
       "      <td>-0.135575</td>\n",
       "      <td>-0.087894</td>\n",
       "      <td>0.086575</td>\n",
       "      <td>0.059172</td>\n",
       "      <td>-0.014236</td>\n",
       "    </tr>\n",
       "    <tr>\n",
       "      <td>traveltime</td>\n",
       "      <td>0.143682</td>\n",
       "      <td>-0.248099</td>\n",
       "      <td>-0.162149</td>\n",
       "      <td>1.000000</td>\n",
       "      <td>-0.034571</td>\n",
       "      <td>-0.029138</td>\n",
       "      <td>-0.134113</td>\n",
       "      <td>-0.071376</td>\n",
       "      <td>-0.094331</td>\n",
       "      <td>0.147160</td>\n",
       "      <td>-0.148719</td>\n",
       "      <td>-0.094874</td>\n",
       "    </tr>\n",
       "    <tr>\n",
       "      <td>studytime</td>\n",
       "      <td>-0.220209</td>\n",
       "      <td>-0.042491</td>\n",
       "      <td>-0.001350</td>\n",
       "      <td>-0.034571</td>\n",
       "      <td>1.000000</td>\n",
       "      <td>-0.016541</td>\n",
       "      <td>0.025253</td>\n",
       "      <td>-0.226503</td>\n",
       "      <td>-0.129162</td>\n",
       "      <td>-0.067115</td>\n",
       "      <td>-0.018695</td>\n",
       "      <td>-0.029742</td>\n",
       "    </tr>\n",
       "    <tr>\n",
       "      <td>failures</td>\n",
       "      <td>0.320914</td>\n",
       "      <td>-0.135065</td>\n",
       "      <td>-0.189926</td>\n",
       "      <td>-0.029138</td>\n",
       "      <td>-0.016541</td>\n",
       "      <td>1.000000</td>\n",
       "      <td>-0.095520</td>\n",
       "      <td>-0.043110</td>\n",
       "      <td>-0.021022</td>\n",
       "      <td>0.057279</td>\n",
       "      <td>0.239602</td>\n",
       "      <td>-0.314698</td>\n",
       "    </tr>\n",
       "    <tr>\n",
       "      <td>famrel</td>\n",
       "      <td>0.057039</td>\n",
       "      <td>-0.032146</td>\n",
       "      <td>-0.059084</td>\n",
       "      <td>-0.134113</td>\n",
       "      <td>0.025253</td>\n",
       "      <td>-0.095520</td>\n",
       "      <td>1.000000</td>\n",
       "      <td>0.084336</td>\n",
       "      <td>0.069922</td>\n",
       "      <td>0.178145</td>\n",
       "      <td>0.016312</td>\n",
       "      <td>-0.026742</td>\n",
       "    </tr>\n",
       "    <tr>\n",
       "      <td>freetime</td>\n",
       "      <td>0.040115</td>\n",
       "      <td>-0.032350</td>\n",
       "      <td>-0.135575</td>\n",
       "      <td>-0.071376</td>\n",
       "      <td>-0.226503</td>\n",
       "      <td>-0.043110</td>\n",
       "      <td>0.084336</td>\n",
       "      <td>1.000000</td>\n",
       "      <td>0.381049</td>\n",
       "      <td>0.120714</td>\n",
       "      <td>0.093512</td>\n",
       "      <td>0.068862</td>\n",
       "    </tr>\n",
       "    <tr>\n",
       "      <td>goout</td>\n",
       "      <td>0.106748</td>\n",
       "      <td>0.023938</td>\n",
       "      <td>-0.087894</td>\n",
       "      <td>-0.094331</td>\n",
       "      <td>-0.129162</td>\n",
       "      <td>-0.021022</td>\n",
       "      <td>0.069922</td>\n",
       "      <td>0.381049</td>\n",
       "      <td>1.000000</td>\n",
       "      <td>-0.033206</td>\n",
       "      <td>0.094859</td>\n",
       "      <td>-0.079187</td>\n",
       "    </tr>\n",
       "    <tr>\n",
       "      <td>health</td>\n",
       "      <td>0.037152</td>\n",
       "      <td>-0.124250</td>\n",
       "      <td>0.086575</td>\n",
       "      <td>0.147160</td>\n",
       "      <td>-0.067115</td>\n",
       "      <td>0.057279</td>\n",
       "      <td>0.178145</td>\n",
       "      <td>0.120714</td>\n",
       "      <td>-0.033206</td>\n",
       "      <td>1.000000</td>\n",
       "      <td>-0.019866</td>\n",
       "      <td>-0.103462</td>\n",
       "    </tr>\n",
       "    <tr>\n",
       "      <td>absences</td>\n",
       "      <td>0.142780</td>\n",
       "      <td>0.101253</td>\n",
       "      <td>0.059172</td>\n",
       "      <td>-0.148719</td>\n",
       "      <td>-0.018695</td>\n",
       "      <td>0.239602</td>\n",
       "      <td>0.016312</td>\n",
       "      <td>0.093512</td>\n",
       "      <td>0.094859</td>\n",
       "      <td>-0.019866</td>\n",
       "      <td>1.000000</td>\n",
       "      <td>0.012502</td>\n",
       "    </tr>\n",
       "    <tr>\n",
       "      <td>score</td>\n",
       "      <td>-0.186407</td>\n",
       "      <td>0.064914</td>\n",
       "      <td>-0.014236</td>\n",
       "      <td>-0.094874</td>\n",
       "      <td>-0.029742</td>\n",
       "      <td>-0.314698</td>\n",
       "      <td>-0.026742</td>\n",
       "      <td>0.068862</td>\n",
       "      <td>-0.079187</td>\n",
       "      <td>-0.103462</td>\n",
       "      <td>0.012502</td>\n",
       "      <td>1.000000</td>\n",
       "    </tr>\n",
       "  </tbody>\n",
       "</table>\n",
       "</div>"
      ],
      "text/plain": [
       "                 age      Medu      Fedu  traveltime  studytime  failures  \\\n",
       "age         1.000000 -0.071662 -0.056929    0.143682  -0.220209  0.320914   \n",
       "Medu       -0.071662  1.000000  0.684379   -0.248099  -0.042491 -0.135065   \n",
       "Fedu       -0.056929  0.684379  1.000000   -0.162149  -0.001350 -0.189926   \n",
       "traveltime  0.143682 -0.248099 -0.162149    1.000000  -0.034571 -0.029138   \n",
       "studytime  -0.220209 -0.042491 -0.001350   -0.034571   1.000000 -0.016541   \n",
       "failures    0.320914 -0.135065 -0.189926   -0.029138  -0.016541  1.000000   \n",
       "famrel      0.057039 -0.032146 -0.059084   -0.134113   0.025253 -0.095520   \n",
       "freetime    0.040115 -0.032350 -0.135575   -0.071376  -0.226503 -0.043110   \n",
       "goout       0.106748  0.023938 -0.087894   -0.094331  -0.129162 -0.021022   \n",
       "health      0.037152 -0.124250  0.086575    0.147160  -0.067115  0.057279   \n",
       "absences    0.142780  0.101253  0.059172   -0.148719  -0.018695  0.239602   \n",
       "score      -0.186407  0.064914 -0.014236   -0.094874  -0.029742 -0.314698   \n",
       "\n",
       "              famrel  freetime     goout    health  absences     score  \n",
       "age         0.057039  0.040115  0.106748  0.037152  0.142780 -0.186407  \n",
       "Medu       -0.032146 -0.032350  0.023938 -0.124250  0.101253  0.064914  \n",
       "Fedu       -0.059084 -0.135575 -0.087894  0.086575  0.059172 -0.014236  \n",
       "traveltime -0.134113 -0.071376 -0.094331  0.147160 -0.148719 -0.094874  \n",
       "studytime   0.025253 -0.226503 -0.129162 -0.067115 -0.018695 -0.029742  \n",
       "failures   -0.095520 -0.043110 -0.021022  0.057279  0.239602 -0.314698  \n",
       "famrel      1.000000  0.084336  0.069922  0.178145  0.016312 -0.026742  \n",
       "freetime    0.084336  1.000000  0.381049  0.120714  0.093512  0.068862  \n",
       "goout       0.069922  0.381049  1.000000 -0.033206  0.094859 -0.079187  \n",
       "health      0.178145  0.120714 -0.033206  1.000000 -0.019866 -0.103462  \n",
       "absences    0.016312  0.093512  0.094859 -0.019866  1.000000  0.012502  \n",
       "score      -0.026742  0.068862 -0.079187 -0.103462  0.012502  1.000000  "
      ]
     },
     "execution_count": 54,
     "metadata": {},
     "output_type": "execute_result"
    }
   ],
   "source": [
    "corr_matrix = math.corr()\n",
    "corr_matrix"
   ]
  },
  {
   "cell_type": "code",
   "execution_count": 55,
   "metadata": {},
   "outputs": [
    {
     "data": {
      "text/plain": [
       "<matplotlib.axes._subplots.AxesSubplot at 0xd2d3a08>"
      ]
     },
     "execution_count": 55,
     "metadata": {},
     "output_type": "execute_result"
    },
    {
     "data": {
      "image/png": "[encoded data removed]",
      "text/plain": [
       "<Figure size 1440x720 with 2 Axes>"
      ]
     },
     "metadata": {
      "needs_background": "light"
     },
     "output_type": "display_data"
    }
   ],
   "source": [
    "plt.figure(figsize=(20,10))\n",
    "sns.heatmap(corr_matrix,annot=True,square=True)"
   ]
  },
  {
   "cell_type": "markdown",
   "metadata": {},
   "source": [
    "### Выводы по корреляционному анализу \n",
    "\n",
    "Стоит отметить, что признаки **Fedu** (образование отца) и **Medu** (образование матери) хорошо скореллированы (умеренная корреляция). Также хорошо скореллироваными (нижняя граница умеренной корреляции) являются **goout** - время, проводимое с друзьями и **freetime** - свободное время после школы. Отметим, что сам по себе коэффициент корреляции может отображать наличие только линейной связи между переменными, его близость к 1 или -1 еще не говорит о зависимости признаков. А вот его близость к 0 может говорить об отсутствии линейной связи между переменными. Так что, возможно, **Fedu** и **Medu**, а также **goout** и **freetime** зависимы, но подтверждение этого факта требует дополнительной проверки. Так как в рекомендациях по выполнению проекта сказано отобрать некоррелирующие данные, то уберем из дальнейшего рассмотрения столбец **Fedu**, оставив при этом **Medu**."
   ]
  },
  {
   "cell_type": "markdown",
   "metadata": {},
   "source": [
    "Интересно отметить возможную обратную зависимость возраста **age** и оценки **score**. Также заметна возможная положительная связь между временем на учёбу помимо школы **studytime** и оценкой. Обратная зависимость с оценкой наблюдается с количеством внеучебных неудач **failures**, а также временем, проводимым с друзьями **goout**."
   ]
  },
  {
   "cell_type": "markdown",
   "metadata": {},
   "source": [
    "## 3. Анализ номинативных переменных"
   ]
  },
  {
   "cell_type": "markdown",
   "metadata": {},
   "source": [
    "Как уже было сказано выше, в нашем наборе данных 17 номинативных переменных, отберем их: "
   ]
  },
  {
   "cell_type": "code",
   "execution_count": 56,
   "metadata": {},
   "outputs": [],
   "source": [
    "all_variables = list(math.columns)\n",
    "index = [0, 1, 3, 4, 5, 8, 9, 10, 11, 15, 16, 17, 18, 19, 20, 21, 22]\n",
    "nominative_variables = []\n",
    "for k in index:\n",
    "    nominative_variables.append(all_variables[k])"
   ]
  },
  {
   "cell_type": "code",
   "execution_count": 57,
   "metadata": {},
   "outputs": [
    {
     "data": {
      "image/png": "[encoded data removed]",
      "text/plain": [
       "<Figure size 1008x288 with 1 Axes>"
      ]
     },
     "metadata": {
      "needs_background": "light"
     },
     "output_type": "display_data"
    },
    {
     "data": {
      "image/png": "[encoded data removed]",
      "text/plain": [
       "<Figure size 1008x288 with 1 Axes>"
      ]
     },
     "metadata": {
      "needs_background": "light"
     },
     "output_type": "display_data"
    },
    {
     "data": {
      "image/png": "[encoded data removed]",
      "text/plain": [
       "<Figure size 1008x288 with 1 Axes>"
      ]
     },
     "metadata": {
      "needs_background": "light"
     },
     "output_type": "display_data"
    },
    {
     "data": {
      "image/png": "[encoded data removed]",
      "text/plain": [
       "<Figure size 1008x288 with 1 Axes>"
      ]
     },
     "metadata": {
      "needs_background": "light"
     },
     "output_type": "display_data"
    },
    {
     "data": {
      "image/png": "[encoded data removed]",
      "text/plain": [
       "<Figure size 1008x288 with 1 Axes>"
      ]
     },
     "metadata": {
      "needs_background": "light"
     },
     "output_type": "display_data"
    },
    {
     "data": {
      "image/png": "[encoded data removed]",
      "text/plain": [
       "<Figure size 1008x288 with 1 Axes>"
      ]
     },
     "metadata": {
      "needs_background": "light"
     },
     "output_type": "display_data"
    },
    {
     "data": {
      "image/png": "[encoded data removed]",
      "text/plain": [
       "<Figure size 1008x288 with 1 Axes>"
      ]
     },
     "metadata": {
      "needs_background": "light"
     },
     "output_type": "display_data"
    },
    {
     "data": {
      "image/png": "[encoded data removed]",
      "text/plain": [
       "<Figure size 1008x288 with 1 Axes>"
      ]
     },
     "metadata": {
      "needs_background": "light"
     },
     "output_type": "display_data"
    },
    {
     "data": {
      "image/png": "[encoded data removed]",
      "text/plain": [
       "<Figure size 1008x288 with 1 Axes>"
      ]
     },
     "metadata": {
      "needs_background": "light"
     },
     "output_type": "display_data"
    },
    {
     "data": {
      "image/png": "[encoded data removed]",
      "text/plain": [
       "<Figure size 1008x288 with 1 Axes>"
      ]
     },
     "metadata": {
      "needs_background": "light"
     },
     "output_type": "display_data"
    },
    {
     "data": {
      "image/png": "[encoded data removed]",
      "text/plain": [
       "<Figure size 1008x288 with 1 Axes>"
      ]
     },
     "metadata": {
      "needs_background": "light"
     },
     "output_type": "display_data"
    },
    {
     "data": {
      "image/png": "[encoded data removed]",
      "text/plain": [
       "<Figure size 1008x288 with 1 Axes>"
      ]
     },
     "metadata": {
      "needs_background": "light"
     },
     "output_type": "display_data"
    },
    {
     "data": {
      "image/png": "[encoded data removed]",
      "text/plain": [
       "<Figure size 1008x288 with 1 Axes>"
      ]
     },
     "metadata": {
      "needs_background": "light"
     },
     "output_type": "display_data"
    },
    {
     "data": {
      "image/png": "[encoded data removed]",
      "text/plain": [
       "<Figure size 1008x288 with 1 Axes>"
      ]
     },
     "metadata": {
      "needs_background": "light"
     },
     "output_type": "display_data"
    },
    {
     "data": {
      "image/png": "[encoded data removed]",
      "text/plain": [
       "<Figure size 1008x288 with 1 Axes>"
      ]
     },
     "metadata": {
      "needs_background": "light"
     },
     "output_type": "display_data"
    },
    {
     "data": {
      "image/png": "[encoded data removed]",
      "text/plain": [
       "<Figure size 1008x288 with 1 Axes>"
      ]
     },
     "metadata": {
      "needs_background": "light"
     },
     "output_type": "display_data"
    },
    {
     "data": {
      "image/png": "[encoded data removed]",
      "text/plain": [
       "<Figure size 1008x288 with 1 Axes>"
      ]
     },
     "metadata": {
      "needs_background": "light"
     },
     "output_type": "display_data"
    }
   ],
   "source": [
    "def get_boxplot(df, column, goal_column):\n",
    "    fig, ax = plt.subplots(figsize = (14, 4))\n",
    "    sns.boxplot(x=column, y=goal_column, \n",
    "                data=df.loc[math.loc[:, column].isin(df.loc[:, column].value_counts().index[:])],\n",
    "               ax=ax)\n",
    "    plt.xticks(rotation=45)\n",
    "    ax.set_title('Boxplot for ' + column)\n",
    "    plt.show()\n",
    "\n",
    "for col in nominative_variables:\n",
    "    get_boxplot(math, col, 'score')"
   ]
  },
  {
   "cell_type": "code",
   "execution_count": 58,
   "metadata": {},
   "outputs": [],
   "source": [
    "def get_stat_dif(df, column, goal_column, alpha=0.05):\n",
    "    cols = df.loc[:, column].value_counts().index[:]\n",
    "    combinations_all = list(combinations(cols, 2))\n",
    "    for comb in combinations_all:\n",
    "        if ttest_ind(df.loc[df.loc[:, column] == comb[0], goal_column], \n",
    "                        df.loc[df.loc[:, column] == comb[1], goal_column],nan_policy='omit').pvalue \\\n",
    "            <= alpha/len(combinations_all): # Учли поправку Бонферони\n",
    "            return True\n",
    "            break\n",
    "    return False\n",
    "\n",
    "def stat_difference_analyse(df, columns, goal_column, alpha=0.05):   \n",
    "    stat_dif=[]\n",
    "    alpha = 0.05\n",
    "\n",
    "    for col in nominative_variables:\n",
    "        if get_stat_dif(df, col, 'score', alpha):\n",
    "            stat_dif.append(col)\n",
    "\n",
    "    if len(stat_dif):\n",
    "        print('Найдены статистически значимые отличия в колонках:\\n')\n",
    "        print(stat_dif)\n",
    "    else: \n",
    "        print('Cтатистически значимые отличия в колонках не найдены!\\n')"
   ]
  },
  {
   "cell_type": "code",
   "execution_count": 59,
   "metadata": {},
   "outputs": [
    {
     "name": "stdout",
     "output_type": "stream",
     "text": [
      "Найдены статистически значимые отличия в колонках:\n",
      "\n",
      "['sex', 'address', 'famsize']\n"
     ]
    }
   ],
   "source": [
    "stat_difference_analyse(math, nominative_variables, 'score', alpha=0.05)"
   ]
  },
  {
   "cell_type": "markdown",
   "metadata": {},
   "source": [
    "### Выводы по анализу номинативных переменных\n",
    "\n",
    "Итак, в нашем случае важные номинативные переменные, которые, возможно, оказывают влияние на оценку **score**, это: **sex**, **address** и **famsize**, добавим к ним слабоскореллированные переменные из корреляционного анализа, а именно **age**, **Medu**, **traveltime**, **studytime**, **failures**, **famrel**, **freetime**, **goout**, **health**, **absences** и получим итогоый датасет для дальнейшего моделирования: "
   ]
  },
  {
   "cell_type": "code",
   "execution_count": 60,
   "metadata": {},
   "outputs": [
    {
     "data": {
      "text/html": [
       "<div>\n",
       "<style scoped>\n",
       "    .dataframe tbody tr th:only-of-type {\n",
       "        vertical-align: middle;\n",
       "    }\n",
       "\n",
       "    .dataframe tbody tr th {\n",
       "        vertical-align: top;\n",
       "    }\n",
       "\n",
       "    .dataframe thead th {\n",
       "        text-align: right;\n",
       "    }\n",
       "</style>\n",
       "<table border=\"1\" class=\"dataframe\">\n",
       "  <thead>\n",
       "    <tr style=\"text-align: right;\">\n",
       "      <th></th>\n",
       "      <th>age</th>\n",
       "      <th>sex</th>\n",
       "      <th>address</th>\n",
       "      <th>famsize</th>\n",
       "      <th>Medu</th>\n",
       "      <th>traveltime</th>\n",
       "      <th>studytime</th>\n",
       "      <th>failures</th>\n",
       "      <th>famrel</th>\n",
       "      <th>freetime</th>\n",
       "      <th>goout</th>\n",
       "      <th>health</th>\n",
       "      <th>absences</th>\n",
       "      <th>score</th>\n",
       "    </tr>\n",
       "  </thead>\n",
       "  <tbody>\n",
       "    <tr>\n",
       "      <td>4</td>\n",
       "      <td>16</td>\n",
       "      <td>F</td>\n",
       "      <td>U</td>\n",
       "      <td>GT3</td>\n",
       "      <td>3.0</td>\n",
       "      <td>1.0</td>\n",
       "      <td>2.0</td>\n",
       "      <td>0.0</td>\n",
       "      <td>4.0</td>\n",
       "      <td>3.0</td>\n",
       "      <td>2.0</td>\n",
       "      <td>5.0</td>\n",
       "      <td>4.0</td>\n",
       "      <td>50.0</td>\n",
       "    </tr>\n",
       "    <tr>\n",
       "      <td>5</td>\n",
       "      <td>16</td>\n",
       "      <td>M</td>\n",
       "      <td>U</td>\n",
       "      <td>LE3</td>\n",
       "      <td>4.0</td>\n",
       "      <td>1.0</td>\n",
       "      <td>2.0</td>\n",
       "      <td>0.0</td>\n",
       "      <td>5.0</td>\n",
       "      <td>4.0</td>\n",
       "      <td>2.0</td>\n",
       "      <td>5.0</td>\n",
       "      <td>10.0</td>\n",
       "      <td>75.0</td>\n",
       "    </tr>\n",
       "    <tr>\n",
       "      <td>7</td>\n",
       "      <td>17</td>\n",
       "      <td>F</td>\n",
       "      <td>U</td>\n",
       "      <td>GT3</td>\n",
       "      <td>4.0</td>\n",
       "      <td>2.0</td>\n",
       "      <td>2.0</td>\n",
       "      <td>0.0</td>\n",
       "      <td>4.0</td>\n",
       "      <td>1.0</td>\n",
       "      <td>4.0</td>\n",
       "      <td>1.0</td>\n",
       "      <td>6.0</td>\n",
       "      <td>30.0</td>\n",
       "    </tr>\n",
       "    <tr>\n",
       "      <td>10</td>\n",
       "      <td>15</td>\n",
       "      <td>F</td>\n",
       "      <td>U</td>\n",
       "      <td>GT3</td>\n",
       "      <td>4.0</td>\n",
       "      <td>1.0</td>\n",
       "      <td>2.0</td>\n",
       "      <td>0.0</td>\n",
       "      <td>3.0</td>\n",
       "      <td>3.0</td>\n",
       "      <td>3.0</td>\n",
       "      <td>2.0</td>\n",
       "      <td>0.0</td>\n",
       "      <td>45.0</td>\n",
       "    </tr>\n",
       "    <tr>\n",
       "      <td>14</td>\n",
       "      <td>15</td>\n",
       "      <td>M</td>\n",
       "      <td>U</td>\n",
       "      <td>GT3</td>\n",
       "      <td>2.0</td>\n",
       "      <td>1.0</td>\n",
       "      <td>3.0</td>\n",
       "      <td>0.0</td>\n",
       "      <td>4.0</td>\n",
       "      <td>5.0</td>\n",
       "      <td>2.0</td>\n",
       "      <td>3.0</td>\n",
       "      <td>0.0</td>\n",
       "      <td>80.0</td>\n",
       "    </tr>\n",
       "  </tbody>\n",
       "</table>\n",
       "</div>"
      ],
      "text/plain": [
       "    age sex address famsize  Medu  traveltime  studytime  failures  famrel  \\\n",
       "4    16   F       U     GT3   3.0         1.0        2.0       0.0     4.0   \n",
       "5    16   M       U     LE3   4.0         1.0        2.0       0.0     5.0   \n",
       "7    17   F       U     GT3   4.0         2.0        2.0       0.0     4.0   \n",
       "10   15   F       U     GT3   4.0         1.0        2.0       0.0     3.0   \n",
       "14   15   M       U     GT3   2.0         1.0        3.0       0.0     4.0   \n",
       "\n",
       "    freetime  goout  health  absences  score  \n",
       "4        3.0    2.0     5.0       4.0   50.0  \n",
       "5        4.0    2.0     5.0      10.0   75.0  \n",
       "7        1.0    4.0     1.0       6.0   30.0  \n",
       "10       3.0    3.0     2.0       0.0   45.0  \n",
       "14       5.0    2.0     3.0       0.0   80.0  "
      ]
     },
     "execution_count": 60,
     "metadata": {},
     "output_type": "execute_result"
    }
   ],
   "source": [
    "math_for_model = math.loc[:, ['age','sex','address','famsize','Medu','traveltime','studytime',\n",
    "                             'failures','famrel','freetime','goout','health','absences','score']]\n",
    "math_for_model.head()"
   ]
  },
  {
   "cell_type": "markdown",
   "metadata": {},
   "source": [
    "## Основные итоги работы"
   ]
  },
  {
   "cell_type": "markdown",
   "metadata": {},
   "source": [
    "В ходе выполнения работы над проектом EDA был выполнен первичный анализ данных, а именно: проанализированы все переменные, определен их тип, распределение, выявлен процент пропущенных записей. Также были скорректированы некоторые из переменных на основе анализа выбросов и здравого смысла. Пропущенные записи  были удалены из исходных данных. Сделан вывод о том, что данные являются чистыми, но содержат довольно большое количество пропусков. Выполненный корреляционный анализ ранговых и количественных переменных позволил отобрать только слабоскоррелированные переменные. Анализ номинативных переменных, основанный на тесте Стьюдента с проверкой нулевой гипотезы о том, что распределения оценок госэкзамена по различным параметрам неразличимы позволил отобрать лишь те переменные, которые являются статистически различимыми. "
   ]
  },
  {
   "cell_type": "markdown",
   "metadata": {},
   "source": [
    "### * Дополнительный комментарий для ментора"
   ]
  },
  {
   "cell_type": "markdown",
   "metadata": {},
   "source": [
    "Хотелось бы узнать побольше о восполнении пропущенных значений в данных, чтобы научиться применять его осознанно. Также хотелось бы подробно обсудить возможности корреляционного анализа данных и необходимость его применения. "
   ]
  }
 ],
 "metadata": {
  "kernelspec": {
   "display_name": "Python 3",
   "language": "python",
   "name": "python3"
  },
  "language_info": {
   "codemirror_mode": {
    "name": "ipython",
    "version": 3
   },
   "file_extension": ".py",
   "mimetype": "text/x-python",
   "name": "python",
   "nbconvert_exporter": "python",
   "pygments_lexer": "ipython3",
   "version": "3.7.4"
  }
 },
 "nbformat": 4,
 "nbformat_minor": 2
}
