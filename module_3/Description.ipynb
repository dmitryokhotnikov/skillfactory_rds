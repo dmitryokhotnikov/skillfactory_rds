{
 "cells": [
  {
   "cell_type": "markdown",
   "metadata": {},
   "source": [
    "## Цель "
   ]
  },
  {
   "cell_type": "markdown",
   "metadata": {},
   "source": [
    "Построение модели, которая предсказывает рейтинг ресторана по данным с сайта TripAdvisor."
   ]
  },
  {
   "cell_type": "markdown",
   "metadata": {},
   "source": [
    "## Описание датасета"
   ]
  },
  {
   "cell_type": "code",
   "execution_count": null,
   "metadata": {},
   "outputs": [],
   "source": [
    "Restaurant_id — идентификационный номер ресторана / сети ресторанов\n",
    "City — город, в котором находится ресторан\n",
    "Cuisine Style — кухня или кухни, к которым можно отнести блюда, предлагаемые в ресторане\n",
    "Ranking — место, которое занимает данный ресторан среди всех ресторанов своего города\n",
    "Rating — рейтинг ресторана по данным TripAdvisor(именно это значение должна будет предсказывать модель)\n",
    "Price Range — диапазон цен в ресторане\n",
    "Number of Reviews — количество отзывов о ресторане\n",
    "Reviews — данные о двух отзывах, которые отображаются на сайте ресторана\n",
    "URL_TA — URL страницы ресторана на TripAdvosor\n",
    "ID_TA — идентификатор ресторана в базе данных TripAdvisor."
   ]
  }
 ],
 "metadata": {
  "kernelspec": {
   "display_name": "Python 3",
   "language": "python",
   "name": "python3"
  },
  "language_info": {
   "codemirror_mode": {
    "name": "ipython",
    "version": 3
   },
   "file_extension": ".py",
   "mimetype": "text/x-python",
   "name": "python",
   "nbconvert_exporter": "python",
   "pygments_lexer": "ipython3",
   "version": "3.7.4"
  },
  "toc": {
   "base_numbering": 1,
   "nav_menu": {},
   "number_sections": true,
   "sideBar": true,
   "skip_h1_title": false,
   "title_cell": "Table of Contents",
   "title_sidebar": "Contents",
   "toc_cell": false,
   "toc_position": {},
   "toc_section_display": true,
   "toc_window_display": true
  }
 },
 "nbformat": 4,
 "nbformat_minor": 2
}
