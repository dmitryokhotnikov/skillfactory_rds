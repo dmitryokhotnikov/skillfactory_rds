{
 "cells": [
  {
   "cell_type": "markdown",
   "metadata": {},
   "source": [
    "# Загрузка необходимых библиотек и данных"
   ]
  },
  {
   "cell_type": "code",
   "execution_count": 1,
   "metadata": {},
   "outputs": [],
   "source": [
    "import pandas as pd\n",
    "import numpy as np\n",
    "import math\n",
    "import seaborn as sns\n",
    "import matplotlib.pyplot as plt\n",
    "import pickle\n",
    "from datetime import datetime, timedelta\n",
    "from bs4 import BeautifulSoup\n",
    "import urllib.request"
   ]
  },
  {
   "cell_type": "code",
   "execution_count": 2,
   "metadata": {},
   "outputs": [],
   "source": [
    "def print_nominative_stat(column, dropna_value=True):\n",
    "    \"\"\" Функция принимает столбец с номинативными признаками и\n",
    "        признак подсчёта пропущенных значений. \n",
    "        Печатает информацию о количестве каждого признака в столбце, его процентное\n",
    "        содержание и общее количество всех признаков.\n",
    "    \"\"\"\n",
    "\n",
    "    norm = pd.DataFrame(column.value_counts(\n",
    "        dropna=dropna_value, normalize=True))\n",
    "    unnorm = pd.DataFrame(column.value_counts(dropna=dropna_value))\n",
    "    unnorm.columns = ['number']\n",
    "    unnorm.loc[:, 'percent'] = round(norm[norm.columns[0]]*100, 1)\n",
    "    unnorm.loc['Total:'] = unnorm[['number', 'percent']].sum()\n",
    "    print(unnorm, '\\n')"
   ]
  },
  {
   "cell_type": "code",
   "execution_count": 3,
   "metadata": {},
   "outputs": [],
   "source": [
    "def numeric_column_info(column, column_name='Data', bounds=()):\n",
    "    \"\"\" Функция принимает столбец с числовым признаком, его имя \n",
    "        и предполагаемые границы изменения для отбора выбросов.\n",
    "        Если границы не указаны, то отбор по IQR.\n",
    "        Печатает статистические характеристики и \n",
    "        информацию о выбросах, а также рисует гистограмму распределения признака\n",
    "    \"\"\"\n",
    "    if bounds == ():\n",
    "        out_type = 'IQR'\n",
    "    else:\n",
    "        out_type = 'Bounds'\n",
    "\n",
    "    values = column.count()\n",
    "    null_values = column.isnull().sum()\n",
    "    max_value = column.max()\n",
    "    min_value = column.min()\n",
    "    mean_value = round(column.mean(), 1)\n",
    "    std_value = round(column.std(), 2)\n",
    "    perc25 = column.quantile(0.25)\n",
    "    perc50 = column.quantile(0.50)\n",
    "    perc75 = column.quantile(0.75)\n",
    "    IQR = column.quantile(0.75) - column.quantile(0.25)\n",
    "\n",
    "    if out_type == 'IQR':\n",
    "        left_bound = perc25 - 1.5*IQR\n",
    "        right_bound = perc75 + 1.5*IQR\n",
    "    elif out_type == 'Bounds':\n",
    "        left_bound = bounds[0]\n",
    "        right_bound = bounds[1]\n",
    "    else:\n",
    "        print('Unknown out_type')\n",
    "\n",
    "    out_lower = column.loc[column < left_bound].value_counts().sum()\n",
    "    out_upper = column.loc[column > right_bound].value_counts().sum()\n",
    "    total_out = out_lower + out_upper\n",
    "    print(f'Признак {column_name}:\\n\\nВсего записей: {values}\\nПропущенных (null): {null_values}\\n'\n",
    "          f'Максимум: {max_value}\\n75-й перцентиль: {perc75}\\n50-й перцентиль: {perc50}\\n25-й перцентиль: {perc25}\\n'\n",
    "          f'Минимум: {min_value}\\nСреднее арифм.: {mean_value}\\nСКО: {std_value}\\n'\n",
    "          f'IQR: {IQR}\\nГраницы валидных данных: [{left_bound},{right_bound}]')\n",
    "\n",
    "    column.loc[column.between(left_bound, right_bound)].hist(\n",
    "        bins=40,\n",
    "        range=(min_value, max_value),\n",
    "        label=column_name + ' valid')\n",
    "    if total_out == 0:\n",
    "        print('\\033[1;32;43mВыбросов по ' + out_type + ' не обнаружено')\n",
    "    else:\n",
    "        print('\\033[1;31;43mОбнаружены выбросы по ' + out_type)\n",
    "        print(\n",
    "            f'Выбросов: {total_out}\\nСверху: {out_upper}\\nСнизу: {out_lower}')\n",
    "        column.loc[~column.between(left_bound, right_bound)].hist(\n",
    "            bins=40,\n",
    "            range=(min_value, max_value),\n",
    "            label=column_name + ' outlayers')\n",
    "    plt.legend()"
   ]
  },
  {
   "cell_type": "markdown",
   "metadata": {},
   "source": [
    "Загрузим данные и взглянем на них:"
   ]
  },
  {
   "cell_type": "code",
   "execution_count": 3,
   "metadata": {},
   "outputs": [],
   "source": [
    "df = pd.read_csv('main_task.csv')"
   ]
  },
  {
   "cell_type": "code",
   "execution_count": 4,
   "metadata": {},
   "outputs": [
    {
     "data": {
      "text/html": [
       "<div>\n",
       "<style scoped>\n",
       "    .dataframe tbody tr th:only-of-type {\n",
       "        vertical-align: middle;\n",
       "    }\n",
       "\n",
       "    .dataframe tbody tr th {\n",
       "        vertical-align: top;\n",
       "    }\n",
       "\n",
       "    .dataframe thead th {\n",
       "        text-align: right;\n",
       "    }\n",
       "</style>\n",
       "<table border=\"1\" class=\"dataframe\">\n",
       "  <thead>\n",
       "    <tr style=\"text-align: right;\">\n",
       "      <th></th>\n",
       "      <th>Restaurant_id</th>\n",
       "      <th>City</th>\n",
       "      <th>Cuisine Style</th>\n",
       "      <th>Ranking</th>\n",
       "      <th>Rating</th>\n",
       "      <th>Price Range</th>\n",
       "      <th>Number of Reviews</th>\n",
       "      <th>Reviews</th>\n",
       "      <th>URL_TA</th>\n",
       "      <th>ID_TA</th>\n",
       "    </tr>\n",
       "  </thead>\n",
       "  <tbody>\n",
       "    <tr>\n",
       "      <td>0</td>\n",
       "      <td>id_5569</td>\n",
       "      <td>Paris</td>\n",
       "      <td>['European', 'French', 'International']</td>\n",
       "      <td>5570.0</td>\n",
       "      <td>3.5</td>\n",
       "      <td>$$ - $$$</td>\n",
       "      <td>194.0</td>\n",
       "      <td>[['Good food at your doorstep', 'A good hotel ...</td>\n",
       "      <td>/Restaurant_Review-g187147-d1912643-Reviews-R_...</td>\n",
       "      <td>d1912643</td>\n",
       "    </tr>\n",
       "    <tr>\n",
       "      <td>1</td>\n",
       "      <td>id_1535</td>\n",
       "      <td>Stockholm</td>\n",
       "      <td>NaN</td>\n",
       "      <td>1537.0</td>\n",
       "      <td>4.0</td>\n",
       "      <td>NaN</td>\n",
       "      <td>10.0</td>\n",
       "      <td>[['Unique cuisine', 'Delicious Nepalese food']...</td>\n",
       "      <td>/Restaurant_Review-g189852-d7992032-Reviews-Bu...</td>\n",
       "      <td>d7992032</td>\n",
       "    </tr>\n",
       "    <tr>\n",
       "      <td>2</td>\n",
       "      <td>id_352</td>\n",
       "      <td>London</td>\n",
       "      <td>['Japanese', 'Sushi', 'Asian', 'Grill', 'Veget...</td>\n",
       "      <td>353.0</td>\n",
       "      <td>4.5</td>\n",
       "      <td>$$$$</td>\n",
       "      <td>688.0</td>\n",
       "      <td>[['Catch up with friends', 'Not exceptional'],...</td>\n",
       "      <td>/Restaurant_Review-g186338-d8632781-Reviews-RO...</td>\n",
       "      <td>d8632781</td>\n",
       "    </tr>\n",
       "  </tbody>\n",
       "</table>\n",
       "</div>"
      ],
      "text/plain": [
       "  Restaurant_id       City                                      Cuisine Style  \\\n",
       "0       id_5569      Paris            ['European', 'French', 'International']   \n",
       "1       id_1535  Stockholm                                                NaN   \n",
       "2        id_352     London  ['Japanese', 'Sushi', 'Asian', 'Grill', 'Veget...   \n",
       "\n",
       "   Ranking  Rating Price Range  Number of Reviews  \\\n",
       "0   5570.0     3.5    $$ - $$$              194.0   \n",
       "1   1537.0     4.0         NaN               10.0   \n",
       "2    353.0     4.5        $$$$              688.0   \n",
       "\n",
       "                                             Reviews  \\\n",
       "0  [['Good food at your doorstep', 'A good hotel ...   \n",
       "1  [['Unique cuisine', 'Delicious Nepalese food']...   \n",
       "2  [['Catch up with friends', 'Not exceptional'],...   \n",
       "\n",
       "                                              URL_TA     ID_TA  \n",
       "0  /Restaurant_Review-g187147-d1912643-Reviews-R_...  d1912643  \n",
       "1  /Restaurant_Review-g189852-d7992032-Reviews-Bu...  d7992032  \n",
       "2  /Restaurant_Review-g186338-d8632781-Reviews-RO...  d8632781  "
      ]
     },
     "execution_count": 4,
     "metadata": {},
     "output_type": "execute_result"
    }
   ],
   "source": [
    "df.head(3)"
   ]
  },
  {
   "cell_type": "code",
   "execution_count": 6,
   "metadata": {},
   "outputs": [
    {
     "name": "stdout",
     "output_type": "stream",
     "text": [
      "<class 'pandas.core.frame.DataFrame'>\n",
      "RangeIndex: 40000 entries, 0 to 39999\n",
      "Data columns (total 10 columns):\n",
      "Restaurant_id        40000 non-null object\n",
      "City                 40000 non-null object\n",
      "Cuisine Style        30717 non-null object\n",
      "Ranking              40000 non-null float64\n",
      "Rating               40000 non-null float64\n",
      "Price Range          26114 non-null object\n",
      "Number of Reviews    37457 non-null float64\n",
      "Reviews              40000 non-null object\n",
      "URL_TA               40000 non-null object\n",
      "ID_TA                40000 non-null object\n",
      "dtypes: float64(3), object(7)\n",
      "memory usage: 3.1+ MB\n"
     ]
    }
   ],
   "source": [
    "df.info()"
   ]
  },
  {
   "cell_type": "markdown",
   "metadata": {},
   "source": [
    "# Первое приближение"
   ]
  },
  {
   "cell_type": "markdown",
   "metadata": {},
   "source": [
    "Датасет изначально содержит 3 числовые переменные - [Ranking], [Rating], [Number of Reviews]. Видим, что 3 столбца из 10 содержат пропуски. "
   ]
  },
  {
   "cell_type": "markdown",
   "metadata": {},
   "source": [
    "Для начала посмотрим на распределение [Ranking] - место, которое занимает ресторан среди всех ресторанов своего города.\n",
    "\n",
    "Видим, что выбросы и пропущенные значения отсутствуют. "
   ]
  },
  {
   "cell_type": "code",
   "execution_count": 7,
   "metadata": {},
   "outputs": [
    {
     "name": "stdout",
     "output_type": "stream",
     "text": [
      "Признак Ranking:\n",
      "\n",
      "Всего записей: 40000\n",
      "Пропущенных (null): 0\n",
      "Максимум: 16444.0\n",
      "75-й перцентиль: 5260.0\n",
      "50-й перцентиль: 2285.0\n",
      "25-й перцентиль: 973.0\n",
      "Минимум: 1.0\n",
      "Среднее арифм.: 3676.0\n",
      "СКО: 3708.75\n",
      "IQR: 4287.0\n",
      "Границы валидных данных: [0,20000]\n",
      "\u001b[1;32;43mВыбросов по Bounds не обнаружено\n"
     ]
    },
    {
     "data": {
      "image/png": "[encoded data removed]",
      "text/plain": [
       "<Figure size 432x288 with 1 Axes>"
      ]
     },
     "metadata": {
      "needs_background": "light"
     },
     "output_type": "display_data"
    }
   ],
   "source": [
    "numeric_column_info(df['Ranking'],\n",
    "                    column_name='Ranking', bounds=(0, 20000))"
   ]
  },
  {
   "cell_type": "markdown",
   "metadata": {},
   "source": [
    "Столбец [Rating] - это целевая переменная модели, которая показывает рейтинг ресторана на TripAdvisor. \n",
    "\n",
    "Из распределения можно сделать вывод, что примерно четверть ресторанов имеет рейтинг ниже 3.5 баллов, такое же количество ресторанов имеет рейтинг выше 4.5 баллов.\n",
    "\n",
    "Оставшаяся половина имеет рейтинг в диапазоне от 3.5 до 4.5 баллов. Среднее значение совпадает с медианным и равно 4 баллам."
   ]
  },
  {
   "cell_type": "code",
   "execution_count": 8,
   "metadata": {},
   "outputs": [
    {
     "name": "stdout",
     "output_type": "stream",
     "text": [
      "Признак Rating:\n",
      "\n",
      "Всего записей: 40000\n",
      "Пропущенных (null): 0\n",
      "Максимум: 5.0\n",
      "75-й перцентиль: 4.5\n",
      "50-й перцентиль: 4.0\n",
      "25-й перцентиль: 3.5\n",
      "Минимум: 1.0\n",
      "Среднее арифм.: 4.0\n",
      "СКО: 0.67\n",
      "IQR: 1.0\n",
      "Границы валидных данных: [1,5]\n",
      "\u001b[1;32;43mВыбросов по Bounds не обнаружено\n"
     ]
    },
    {
     "data": {
      "image/png": "[encoded data removed]",
      "text/plain": [
       "<Figure size 432x288 with 1 Axes>"
      ]
     },
     "metadata": {
      "needs_background": "light"
     },
     "output_type": "display_data"
    }
   ],
   "source": [
    "numeric_column_info(df['Rating'],\n",
    "                    column_name='Rating', bounds=(1, 5))"
   ]
  },
  {
   "cell_type": "markdown",
   "metadata": {},
   "source": [
    "Столбец [Number of Reviews] содержит общее число отзывов. Заметим, что в нём есть небольшое количество пропусков (6%), которое можно заполнить рзличными способами. \n",
    "\n",
    "К сожалению, я пока не разобрался с тем, как достать эту информацию с сайта, поэтому восполним пропущенные значения нулём, так, как-будто отзывов нет совсем. \n",
    "\n",
    "Стоит отметить, что эксперименты с заполнением средним, медианным и минимальным значениями не оказывали значительного влияния на целевую метрику MAE. "
   ]
  },
  {
   "cell_type": "code",
   "execution_count": 9,
   "metadata": {},
   "outputs": [
    {
     "name": "stdout",
     "output_type": "stream",
     "text": [
      "Признак Number of Reviews:\n",
      "\n",
      "Всего записей: 37457\n",
      "Пропущенных (null): 2543\n",
      "Максимум: 9660.0\n",
      "75-й перцентиль: 115.0\n",
      "50-й перцентиль: 33.0\n",
      "25-й перцентиль: 9.0\n",
      "Минимум: 2.0\n",
      "Среднее арифм.: 124.8\n",
      "СКО: 295.67\n",
      "IQR: 106.0\n",
      "Границы валидных данных: [0,10000]\n",
      "\u001b[1;32;43mВыбросов по Bounds не обнаружено\n"
     ]
    },
    {
     "data": {
      "image/png": "[encoded data removed]",
      "text/plain": [
       "<Figure size 432x288 with 1 Axes>"
      ]
     },
     "metadata": {
      "needs_background": "light"
     },
     "output_type": "display_data"
    }
   ],
   "source": [
    "numeric_column_info(df['Number of Reviews'],\n",
    "                    column_name='Number of Reviews', bounds=(0, 10000))"
   ]
  },
  {
   "cell_type": "code",
   "execution_count": 10,
   "metadata": {},
   "outputs": [],
   "source": [
    "df['Number of Reviews'] = df[['Number of Reviews']].fillna(0)"
   ]
  },
  {
   "cell_type": "markdown",
   "metadata": {},
   "source": [
    "Сохраним набор данных [Ranking], [Rating], [Number of Reviews] и используем его для первого приближения (iteration#1)"
   ]
  },
  {
   "cell_type": "code",
   "execution_count": 11,
   "metadata": {},
   "outputs": [],
   "source": [
    "df[['Ranking', 'Rating', 'Number of Reviews']].to_csv(\n",
    "    'iteration#1.csv', index=False)"
   ]
  },
  {
   "cell_type": "markdown",
   "metadata": {},
   "source": [
    "Результат (метрика MAE), полученный при использовании данных (iteration#1): **0.425**."
   ]
  },
  {
   "cell_type": "markdown",
   "metadata": {},
   "source": [
    "# Второе приближение, Feature Engineering"
   ]
  },
  {
   "cell_type": "markdown",
   "metadata": {},
   "source": [
    "Попробуем улучшить результат, используя другие данные из датафрейма. \n",
    "\n",
    "Для этого преобразуем такие переменные как [Price Range], [City] и [Cuisine Style] к числовому виду. \n",
    "\n",
    "Столбец [Price Range] содержит в себе ценовой диапазон блюд, предлагаемых в ресторане. \n",
    "\n",
    "Всего возможно три варианта значений: \n",
    "\n",
    "'S' - дешёвые блюда (16%), \n",
    "\n",
    "'SS - SSS' - блюда средней ценовой категории (46%),\n",
    "\n",
    "'SSSS' - дорогие блюда (4%). \n",
    "\n",
    "Отметим наличие пропущенных записей (35%). Восполним их наиболее часто встречающимся ценовым диапазоном 'SS - SSS'.\n",
    "  "
   ]
  },
  {
   "cell_type": "code",
   "execution_count": 12,
   "metadata": {},
   "outputs": [
    {
     "name": "stdout",
     "output_type": "stream",
     "text": [
      "           number  percent\n",
      "$$ - $$$  18412.0     46.0\n",
      "NaN       13886.0     34.7\n",
      "$          6279.0     15.7\n",
      "$$$$       1423.0      3.6\n",
      "Total:    40000.0    100.0 \n",
      "\n"
     ]
    }
   ],
   "source": [
    "print_nominative_stat(df['Price Range'], dropna_value=False)"
   ]
  },
  {
   "cell_type": "code",
   "execution_count": 13,
   "metadata": {},
   "outputs": [],
   "source": [
    "def fill_price(row):\n",
    "    \"\"\" Функция принимает строку датафрейма и производит замену в Price Range по правилу:\n",
    "        '$' -> 0;  NaN, '$$ - $$$' -> 1,  '$$$$' -> 2\n",
    "    \"\"\"\n",
    "    if pd.isnull(row['Price Range']):\n",
    "        return 1\n",
    "    elif row['Price Range'] == '$':\n",
    "        return 0\n",
    "    elif row['Price Range'] == '$$ - $$$':\n",
    "        return 1\n",
    "    else:\n",
    "        return 2"
   ]
  },
  {
   "cell_type": "code",
   "execution_count": 14,
   "metadata": {},
   "outputs": [],
   "source": [
    "df['Price'] = df.apply(fill_price, axis=1)"
   ]
  },
  {
   "cell_type": "markdown",
   "metadata": {},
   "source": [
    "Заметим, что такая замена вполне обоснована, так как между этими категориями имеется отношение порядка. "
   ]
  },
  {
   "cell_type": "markdown",
   "metadata": {},
   "source": [
    "Далее преобразуем столбец [City] в числовой признак, сопоставив каждому городу его долю вхождений в датасет. Для начала создадим словарь Город: доля в данных."
   ]
  },
  {
   "cell_type": "code",
   "execution_count": 15,
   "metadata": {},
   "outputs": [],
   "source": [
    "city_part = df.City.value_counts(dropna=False, normalize=True).to_dict()"
   ]
  },
  {
   "cell_type": "code",
   "execution_count": 16,
   "metadata": {},
   "outputs": [],
   "source": [
    "def fill_city(row):\n",
    "    \"\"\" Функция принимает строку и заменяет значение в поле City\n",
    "         на долю вхождений данного города в датасет, используя словарь\n",
    "    \"\"\"\n",
    "    return city_part[row['City']]"
   ]
  },
  {
   "cell_type": "code",
   "execution_count": 17,
   "metadata": {},
   "outputs": [],
   "source": [
    "df['City Part'] = df.apply(fill_city, axis=1)"
   ]
  },
  {
   "cell_type": "markdown",
   "metadata": {},
   "source": [
    "Столбец [Ranking] содержит в себе рейтинг ресторана среди всех ресторанов города, в котором он находится. Заметим, что быть, например, 3 из 20 совсем не то же самое, что 3 из 40. \n",
    "\n",
    "Поэтому нужно определить какое-то взвешенное значение, которое будет определять новый \"рейтинг\", принимая во внимание количество записей о кокретном городе в датасете. \n",
    "\n",
    "Рассмотрим следующее преобразование. Пусть N_i - количество записей в датасете о городе i. Рейтинг города i по своему смыслу должен меняться от 1 до N_i. \n",
    "\n",
    "Введем линейное преобразование, которое переведет рейтинг 1 -> 1 (лучший ресторан города), а рейтинг N_i -> 0 (худший ресторан города).\n",
    "\n",
    "Построим новый признак по правилу: y_i = (ranking - N_i)/(1 - N_i). Таким образом, ожидаем, что значения [Ranking] отобразятся на отрезок [0;1]. \n",
    "\n",
    "Умножим y_i на [City Part]~[0;1], определив тем самым взвешенный рейтинг. \n",
    "\n",
    "Для начала построим словарь Город: число вхождений в датасет"
   ]
  },
  {
   "cell_type": "code",
   "execution_count": 18,
   "metadata": {},
   "outputs": [],
   "source": [
    "city_in = df.City.value_counts(dropna=False).to_dict()"
   ]
  },
  {
   "cell_type": "code",
   "execution_count": 19,
   "metadata": {},
   "outputs": [],
   "source": [
    "def fill_ranking(row):\n",
    "    return (row['Ranking']-city_in[row['City']])/(1-city_in[row['City']])*row['City Part']"
   ]
  },
  {
   "cell_type": "code",
   "execution_count": 20,
   "metadata": {},
   "outputs": [],
   "source": [
    "df['City Ranking 1'] = df.apply(fill_ranking, axis=1)"
   ]
  },
  {
   "cell_type": "code",
   "execution_count": 21,
   "metadata": {},
   "outputs": [
    {
     "name": "stdout",
     "output_type": "stream",
     "text": [
      "Признак City Ranking 1:\n",
      "\n",
      "Всего записей: 40000\n",
      "Пропущенных (null): 0\n",
      "Максимум: 0.143925\n",
      "75-й перцентиль: 0.009429949564037076\n",
      "50-й перцентиль: -0.014910621842810074\n",
      "25-й перцентиль: -0.05332516550312951\n",
      "Минимум: -0.26722141678248784\n",
      "Среднее арифм.: -0.0\n",
      "СКО: 0.07\n",
      "IQR: 0.06275511506716659\n",
      "Границы валидных данных: [0,1]\n",
      "\u001b[1;31;43mОбнаружены выбросы по Bounds\n",
      "Выбросов: 26191\n",
      "Сверху: 0\n",
      "Снизу: 26191\n"
     ]
    },
    {
     "data": {
      "image/png": "[encoded data removed]",
      "text/plain": [
       "<Figure size 432x288 with 1 Axes>"
      ]
     },
     "metadata": {
      "needs_background": "light"
     },
     "output_type": "display_data"
    }
   ],
   "source": [
    "numeric_column_info(df['City Ranking 1'],\n",
    "                    column_name='City Ranking 1', bounds=(0, 1))"
   ]
  },
  {
   "cell_type": "markdown",
   "metadata": {},
   "source": [
    "Построенное распределение нового признака с ожидаемыми границами bounds [0;1] показывает, что в признаке содержатся отрицательные значения. Это произошло потому, что датасет содержит лишь выборку из ресторанов, такую, что рейтинг может превышать число записей о ресторанах в конкретном городе, тогда числитель в формуле преобразования станет положительным. Так как знаменатель формулы всегда отрицателен для нашего датасета, появляются отрицательные значения. \n",
    "\n",
    "Попробуем ввести новый признак [City Ranking], который бы учитывал количество ВСЕХ записей о ресторанах города на TripAdvisor. (Сборка данных для 31 города была произведена вручную)"
   ]
  },
  {
   "cell_type": "code",
   "execution_count": 22,
   "metadata": {},
   "outputs": [],
   "source": [
    "total = [16744, 15242, 10000, 8578, 5965, 6536, 9925, 4559, 4391, 3702, 3602, 2345, 2838, 2831,\n",
    "         2478, 2657, 2690, 2673, 2054, 1982, 2241, 1706, 1643, 1778, 1358, 1446, 1220, 1336, 1016, 650, 530]\n",
    "city_in_all = dict(zip(list(city_in.keys()), total))\n",
    "tot_data = sum(total)"
   ]
  },
  {
   "cell_type": "code",
   "execution_count": 23,
   "metadata": {},
   "outputs": [],
   "source": [
    "def fill_ranking_all(row):\n",
    "    return (row['Ranking']-city_in_all[row['City']])/(1-city_in_all[row['City']])*(city_in_all[row['City']]/tot_data)"
   ]
  },
  {
   "cell_type": "code",
   "execution_count": 24,
   "metadata": {},
   "outputs": [],
   "source": [
    "df['City Ranking 2'] = df.apply(fill_ranking_all, axis=1)"
   ]
  },
  {
   "cell_type": "code",
   "execution_count": 25,
   "metadata": {},
   "outputs": [
    {
     "name": "stdout",
     "output_type": "stream",
     "text": [
      "Признак City Ranking 2:\n",
      "\n",
      "Всего записей: 40000\n",
      "Пропущенных (null): 0\n",
      "Максимум: 0.1321380094068626\n",
      "75-й перцентиль: 0.050780048928956656\n",
      "50-й перцентиль: 0.022022001631269376\n",
      "25-й перцентиль: 0.009973882622425158\n",
      "Минимум: -0.005202824768337936\n",
      "Среднее арифм.: 0.0\n",
      "СКО: 0.03\n",
      "IQR: 0.0408061663065315\n",
      "Границы валидных данных: [0,1]\n",
      "\u001b[1;31;43mОбнаружены выбросы по Bounds\n",
      "Выбросов: 482\n",
      "Сверху: 0\n",
      "Снизу: 482\n"
     ]
    },
    {
     "data": {
      "image/png": "[encoded data removed]",
      "text/plain": [
       "<Figure size 432x288 with 1 Axes>"
      ]
     },
     "metadata": {
      "needs_background": "light"
     },
     "output_type": "display_data"
    }
   ],
   "source": [
    "numeric_column_info(df['City Ranking 2'],\n",
    "                    column_name='City Ranking 2', bounds=(0, 1))"
   ]
  },
  {
   "cell_type": "markdown",
   "metadata": {},
   "source": [
    "К сожалению, полностью избежать отрицательных значений не удалось. Несмотря на это, оставим признак и посмотрим на значение коэффициента корреляции двух полученных рейтингов с [Ranking] и друг с другом. "
   ]
  },
  {
   "cell_type": "code",
   "execution_count": 26,
   "metadata": {},
   "outputs": [
    {
     "data": {
      "text/plain": [
       "0.04264358867318744"
      ]
     },
     "execution_count": 26,
     "metadata": {},
     "output_type": "execute_result"
    }
   ],
   "source": [
    "df['Ranking'].corr(df['City Ranking 2'])"
   ]
  },
  {
   "cell_type": "markdown",
   "metadata": {},
   "source": [
    "Корреляция [Ranking] и [City Ranking 2] почти нулевая (0.0426) и между ними нет линейной связи, таким образом, оба этих признака можно включить в модель вместе."
   ]
  },
  {
   "cell_type": "code",
   "execution_count": 27,
   "metadata": {},
   "outputs": [
    {
     "data": {
      "text/plain": [
       "-0.8762516949955924"
      ]
     },
     "execution_count": 27,
     "metadata": {},
     "output_type": "execute_result"
    }
   ],
   "source": [
    "df['Ranking'].corr(df['City Ranking 1'])"
   ]
  },
  {
   "cell_type": "markdown",
   "metadata": {},
   "source": [
    "Корреляция [Ranking] и [City Ranking 1] сильная и отрицательная (-0.8762). Скорее всего, оба этих признака включать в модель не имеет смысла. "
   ]
  },
  {
   "cell_type": "code",
   "execution_count": 28,
   "metadata": {},
   "outputs": [
    {
     "data": {
      "text/plain": [
       "0.43174719293909364"
      ]
     },
     "execution_count": 28,
     "metadata": {},
     "output_type": "execute_result"
    }
   ],
   "source": [
    "df['City Ranking 2'].corr(df['City Ranking 1'])"
   ]
  },
  {
   "cell_type": "markdown",
   "metadata": {},
   "source": [
    "Корреляция [City Ranking 1] и [City Ranking 2] умеренная и положительная (0.4317). Скорее всего, оба этих признака можно включать в модель. "
   ]
  },
  {
   "cell_type": "markdown",
   "metadata": {},
   "source": [
    "Преобразуем столбец [Cuisine] к числовому виду. Для этого вычислим, сколькими разновидностями кухонь представлен датасет:"
   ]
  },
  {
   "cell_type": "code",
   "execution_count": 29,
   "metadata": {},
   "outputs": [],
   "source": [
    "dfnot = df[~df['Cuisine Style'].isna()]\n",
    "all_cuisine = set()\n",
    "for c_list in dfnot['Cuisine Style']:\n",
    "    a = c_list.split('[')[1].split(']')[0].split(', ')\n",
    "    for cuisine in a:\n",
    "        all_cuisine.add(cuisine.split(\"'\")[1])\n",
    "N_cuisine = len(all_cuisine)"
   ]
  },
  {
   "cell_type": "markdown",
   "metadata": {},
   "source": [
    "Оказалось, что всего имеется 125 разновидностей кухонь. Выясним сколько кухонь предлагается в каждом ресторане, предполагая, что если информация осутствует (почти 9 тысяч записей), то в ресторане имеется 1 кухня."
   ]
  },
  {
   "cell_type": "code",
   "execution_count": 78,
   "metadata": {},
   "outputs": [],
   "source": [
    "cuisine_num = []\n",
    "for c_list in df['Cuisine Style']:\n",
    "    if isinstance(c_list, float) and math.isnan(c_list):\n",
    "        cuisine_num.append(1)\n",
    "    else:\n",
    "        cuisine_num.append(len(c_list.split('[')[1].split(']')[0].split(', ')))"
   ]
  },
  {
   "cell_type": "code",
   "execution_count": 31,
   "metadata": {},
   "outputs": [
    {
     "data": {
      "text/plain": [
       "1     0.413675\n",
       "2     0.157350\n",
       "3     0.132650\n",
       "4     0.119975\n",
       "5     0.090150\n",
       "6     0.051075\n",
       "7     0.025550\n",
       "8     0.007075\n",
       "9     0.001900\n",
       "10    0.000475\n",
       "11    0.000075\n",
       "21    0.000025\n",
       "13    0.000025\n",
       "dtype: float64"
      ]
     },
     "execution_count": 31,
     "metadata": {},
     "output_type": "execute_result"
    }
   ],
   "source": [
    "cuisine_num = pd.Series(cuisine_num)\n",
    "cuisine_num.value_counts(normalize=True)"
   ]
  },
  {
   "cell_type": "code",
   "execution_count": 32,
   "metadata": {},
   "outputs": [
    {
     "data": {
      "text/plain": [
       "<matplotlib.axes._subplots.AxesSubplot at 0xd149c48>"
      ]
     },
     "execution_count": 32,
     "metadata": {},
     "output_type": "execute_result"
    },
    {
     "data": {
      "image/png": "[encoded data removed]",
      "text/plain": [
       "<Figure size 432x288 with 1 Axes>"
      ]
     },
     "metadata": {
      "needs_background": "light"
     },
     "output_type": "display_data"
    }
   ],
   "source": [
    "cuisine_num.hist(bins=20)"
   ]
  },
  {
   "cell_type": "code",
   "execution_count": 33,
   "metadata": {},
   "outputs": [
    {
     "data": {
      "text/plain": [
       "2.6224"
      ]
     },
     "execution_count": 33,
     "metadata": {},
     "output_type": "execute_result"
    }
   ],
   "source": [
    "mean_cuisine = cuisine_num.mean()\n",
    "mean_cuisine"
   ]
  },
  {
   "cell_type": "markdown",
   "metadata": {},
   "source": [
    "Отметим, что в среднем в ресторане предлагается около трех кухонь (2.6224). 41% ресторанов предлагает 1 тип кухни. Введем новый признак [Cuisine Norm], показывающий отклонение числа кухонь, представленных в ресторане от среднего числа кухонь по всем ресторанам. Нормируем признак на общее количество возможных кухонь. "
   ]
  },
  {
   "cell_type": "code",
   "execution_count": 34,
   "metadata": {},
   "outputs": [],
   "source": [
    "df['Cuisine Norm'] = (cuisine_num-mean_cuisine)/N_cuisine"
   ]
  },
  {
   "cell_type": "code",
   "execution_count": 35,
   "metadata": {},
   "outputs": [
    {
     "name": "stdout",
     "output_type": "stream",
     "text": [
      "Признак Cuisine Norm:\n",
      "\n",
      "Всего записей: 40000\n",
      "Пропущенных (null): 0\n",
      "Максимум: 0.1470208\n",
      "75-й перцентиль: 0.0110208\n",
      "50-й перцентиль: -0.004979199999999999\n",
      "25-й перцентиль: -0.012979199999999998\n",
      "Минимум: -0.012979199999999998\n",
      "Среднее арифм.: 0.0\n",
      "СКО: 0.01\n",
      "IQR: 0.024\n",
      "Границы валидных данных: [-1,1]\n",
      "\u001b[1;32;43mВыбросов по Bounds не обнаружено\n"
     ]
    },
    {
     "data": {
      "image/png": "[encoded data removed]",
      "text/plain": [
       "<Figure size 432x288 with 1 Axes>"
      ]
     },
     "metadata": {
      "needs_background": "light"
     },
     "output_type": "display_data"
    }
   ],
   "source": [
    "numeric_column_info(df['Cuisine Norm'],\n",
    "                    column_name='Cuisine Norm', bounds=(-1, 1))"
   ]
  },
  {
   "cell_type": "markdown",
   "metadata": {},
   "source": [
    "Выясним также, какая именно кухня представлена в наибольшем количестве ресторанов (выведем первую тройку лидеров)"
   ]
  },
  {
   "cell_type": "code",
   "execution_count": 36,
   "metadata": {},
   "outputs": [
    {
     "name": "stdout",
     "output_type": "stream",
     "text": [
      "Vegetarian Friendly: 11189\n",
      "European: 10060\n",
      "Mediterranean: 6277\n"
     ]
    }
   ],
   "source": [
    "dictOfCuisine = dict(zip(all_cuisine, [0 for i in range(len(all_cuisine))]))\n",
    "\n",
    "dfnot = df[~df['Cuisine Style'].isna()]\n",
    "for c_list in dfnot['Cuisine Style']:\n",
    "    a = c_list.split('[')[1].split(']')[0].split(', ')\n",
    "    for cuisine in a:\n",
    "        dictOfCuisine[cuisine.split(\"'\")[1]] += 1\n",
    "\n",
    "sort_orders = sorted(dictOfCuisine.items(), key=lambda x: x[1], reverse=True)\n",
    "for i in sort_orders[0:3]:\n",
    "    print(i[0], i[1], sep=': ')"
   ]
  },
  {
   "cell_type": "markdown",
   "metadata": {},
   "source": [
    "Еще одним возможным числовым признаком может быть признак количества дней [Days], прошедших с момента написания последнего отзыва, а также наибольшая разница в днях между отзывами [Dif Days].\n",
    "\n",
    "В ходе работы удалось собрать данные по всем 40000 ресторанам с сайта TripAdvisor. К сожалению, информация была собрана не по всем отзывам, а только по 10 самым свежим. \n",
    "\n",
    "Это никак не сказывается на признаке [Days], но сказывается на [Dif Days]. Ниже представлен код, который собирал данные (не стоит запускать - долгое время работы): "
   ]
  },
  {
   "cell_type": "raw",
   "metadata": {},
   "source": [
    "# словарь для кодирования месяца\n",
    "month = ['января', 'февраля', 'марта', 'апреля',\n",
    "         'мая', 'июня', 'июля', 'августа',\n",
    "         'сентября', 'октября', 'ноября', 'декабря']\n",
    "dictOfDates = dict(zip(month, [x for x in range(1, 13)]))\n",
    "\n",
    "# даты последнего отзыва\n",
    "last_rev = []\n",
    "\n",
    "# наибольшая разница\n",
    "max_dif = []\n",
    "\n",
    "# общее количечство отзывов (max=10)\n",
    "all_rev = []\n",
    "\n",
    "N = 40000\n",
    "\n",
    "for k in range(N):\n",
    "    print(k, '\\\\', N)\n",
    "    # формируем путь \n",
    "    url = 'https://www.tripadvisor.ru/'+df.URL_TA[k]\n",
    "    ourUrl = urllib.request.urlopen(url)\n",
    "    # парсим страницу\n",
    "    soup = BeautifulSoup(ourUrl, 'html.parser')\n",
    "    # выбираем данные из ratingDate\n",
    "    review = []\n",
    "    for i in soup.find_all('span', {'class': 'ratingDate'}):\n",
    "        review.append(list(i))\n",
    "    # заполняем список со всеми доступными датами отзывов\n",
    "    dt_list = []\n",
    "    for s in review:\n",
    "        pars = s[0].split(\" \")\n",
    "        try:\n",
    "            dt_list.append(pars[4]+'-'+str(dictOfDates[pars[3]])+'-'+pars[2])\n",
    "        except:\n",
    "            continue\n",
    "    # если ничего не нашли на странице        \n",
    "    if not dt_list:\n",
    "        last_rev.append(None)\n",
    "        max_dif.append(None)\n",
    "        all_rev.append(0)\n",
    "    else: \n",
    "        # преобразуем данные в datetime\n",
    "        datetime_list = []\n",
    "        for date_str in dt_list:\n",
    "            datetime_list.append(datetime.strptime(date_str, '%Y-%m-%d'))\n",
    "        # определяем самый свежий отзыв   \n",
    "        datetime_list = sorted(datetime_list)\n",
    "        last_rev.append(datetime_list[-1])\n",
    "        all_rev.append(len(datetime_list))\n",
    "        dif_days = []\n",
    "        # определяем максимальную разницу в днях, если это возможно\n",
    "        if len(datetime_list) == 1:\n",
    "            max_dif.append(None)\n",
    "        else:\n",
    "            for k in range(0, len(datetime_list)-1):\n",
    "                dif_days.append((datetime_list[k+1]-datetime_list[k]).days)\n",
    "            max_dif.append(max(dif_days))"
   ]
  },
  {
   "cell_type": "markdown",
   "metadata": {},
   "source": [
    "Отметим, что время работы кода составило около полутора суток. Данные были сохранены в файлы. "
   ]
  },
  {
   "cell_type": "raw",
   "metadata": {},
   "source": [
    "import pickle\n",
    "\n",
    "with open(\"last_rev.txt\", \"wb\") as fp:  \n",
    "    pickle.dump(last_rev, fp)\n",
    "with open(\"max_dif.txt\", \"wb\") as fp:  \n",
    "    pickle.dump(max_dif, fp)    \n",
    "with open(\"all_rev.txt\", \"wb\") as fp:  \n",
    "    pickle.dump(all_rev, fp)     "
   ]
  },
  {
   "cell_type": "markdown",
   "metadata": {},
   "source": [
    "Создадим новый признак [Days], содержащий количество дней с момента последнего отзыва. Загрузим данные и вычислим разницу между текущей датой и временем последнего отзыва. Отобразим данные и заполним пропуски средним значением. "
   ]
  },
  {
   "cell_type": "code",
   "execution_count": 5,
   "metadata": {},
   "outputs": [],
   "source": [
    "with open(\"last_rev.txt\", \"rb\") as fp:\n",
    "    data = pickle.load(fp)"
   ]
  },
  {
   "cell_type": "code",
   "execution_count": 38,
   "metadata": {},
   "outputs": [],
   "source": [
    "today = '2020-06-13'\n",
    "today = datetime.strptime(today, '%Y-%m-%d')"
   ]
  },
  {
   "cell_type": "code",
   "execution_count": 39,
   "metadata": {},
   "outputs": [],
   "source": [
    "days_dif = []\n",
    "for cur_day in data:\n",
    "    try:\n",
    "        days_dif.append((today-cur_day).days)\n",
    "    except:\n",
    "        days_dif.append(None)"
   ]
  },
  {
   "cell_type": "code",
   "execution_count": 40,
   "metadata": {},
   "outputs": [
    {
     "data": {
      "text/plain": [
       "<matplotlib.axes._subplots.AxesSubplot at 0xb5e6648>"
      ]
     },
     "execution_count": 40,
     "metadata": {},
     "output_type": "execute_result"
    },
    {
     "data": {
      "image/png": "[encoded data removed]",
      "text/plain": [
       "<Figure size 432x288 with 1 Axes>"
      ]
     },
     "metadata": {
      "needs_background": "light"
     },
     "output_type": "display_data"
    }
   ],
   "source": [
    "pd.Series(days_dif).plot()"
   ]
  },
  {
   "cell_type": "code",
   "execution_count": 41,
   "metadata": {},
   "outputs": [],
   "source": [
    "days_dif = pd.Series(days_dif)"
   ]
  },
  {
   "cell_type": "code",
   "execution_count": 42,
   "metadata": {},
   "outputs": [
    {
     "data": {
      "text/plain": [
       "2894"
      ]
     },
     "execution_count": 42,
     "metadata": {},
     "output_type": "execute_result"
    }
   ],
   "source": [
    "days_dif.isna().sum()"
   ]
  },
  {
   "cell_type": "code",
   "execution_count": 43,
   "metadata": {},
   "outputs": [],
   "source": [
    "days_dif = days_dif.fillna(days_dif.mean())"
   ]
  },
  {
   "cell_type": "code",
   "execution_count": 44,
   "metadata": {},
   "outputs": [],
   "source": [
    "df['Days'] = days_dif"
   ]
  },
  {
   "cell_type": "markdown",
   "metadata": {},
   "source": [
    "Аналогично сформируем признак [Dif Days], загрузив собранные данные. "
   ]
  },
  {
   "cell_type": "code",
   "execution_count": 45,
   "metadata": {},
   "outputs": [],
   "source": [
    "with open(\"max_dif.txt\", \"rb\") as fp:\n",
    "    data = pickle.load(fp)"
   ]
  },
  {
   "cell_type": "code",
   "execution_count": 46,
   "metadata": {},
   "outputs": [
    {
     "data": {
      "image/png": "[encoded data removed]",
      "text/plain": [
       "<Figure size 432x288 with 1 Axes>"
      ]
     },
     "metadata": {
      "needs_background": "light"
     },
     "output_type": "display_data"
    }
   ],
   "source": [
    "data = pd.Series(data)\n",
    "data.plot()\n",
    "data = data.fillna(data.mean())"
   ]
  },
  {
   "cell_type": "code",
   "execution_count": 47,
   "metadata": {},
   "outputs": [],
   "source": [
    "df['Dif Days'] = data"
   ]
  },
  {
   "cell_type": "markdown",
   "metadata": {},
   "source": [
    "Сохраним полученный набор данных [Price], [City Part], [City Ranking 1], [City Ranking 2], [Cuisine Norm], \n",
    "[Days], [Dif Days] оставив при этом данные [Ranking], [Rating], [Number of Reviews] с первой итерации. "
   ]
  },
  {
   "cell_type": "code",
   "execution_count": 48,
   "metadata": {},
   "outputs": [],
   "source": [
    "df = df.drop(['Restaurant_id', 'City', 'Cuisine Style',\n",
    "              'Price Range', 'Reviews', 'URL_TA', 'ID_TA'], axis=1)"
   ]
  },
  {
   "cell_type": "code",
   "execution_count": 49,
   "metadata": {},
   "outputs": [],
   "source": [
    "df.to_csv('iteration#2.csv', index=False)"
   ]
  },
  {
   "cell_type": "code",
   "execution_count": 50,
   "metadata": {},
   "outputs": [
    {
     "data": {
      "text/html": [
       "<div>\n",
       "<style scoped>\n",
       "    .dataframe tbody tr th:only-of-type {\n",
       "        vertical-align: middle;\n",
       "    }\n",
       "\n",
       "    .dataframe tbody tr th {\n",
       "        vertical-align: top;\n",
       "    }\n",
       "\n",
       "    .dataframe thead th {\n",
       "        text-align: right;\n",
       "    }\n",
       "</style>\n",
       "<table border=\"1\" class=\"dataframe\">\n",
       "  <thead>\n",
       "    <tr style=\"text-align: right;\">\n",
       "      <th></th>\n",
       "      <th>Ranking</th>\n",
       "      <th>Rating</th>\n",
       "      <th>Number of Reviews</th>\n",
       "      <th>Price</th>\n",
       "      <th>City Part</th>\n",
       "      <th>City Ranking 1</th>\n",
       "      <th>City Ranking 2</th>\n",
       "      <th>Cuisine Norm</th>\n",
       "      <th>Days</th>\n",
       "      <th>Dif Days</th>\n",
       "    </tr>\n",
       "  </thead>\n",
       "  <tbody>\n",
       "    <tr>\n",
       "      <td>0</td>\n",
       "      <td>5570.0</td>\n",
       "      <td>3.5</td>\n",
       "      <td>194.0</td>\n",
       "      <td>1</td>\n",
       "      <td>0.122425</td>\n",
       "      <td>-0.016828</td>\n",
       "      <td>0.076333</td>\n",
       "      <td>0.003021</td>\n",
       "      <td>120.0</td>\n",
       "      <td>1440.0</td>\n",
       "    </tr>\n",
       "    <tr>\n",
       "      <td>1</td>\n",
       "      <td>1537.0</td>\n",
       "      <td>4.0</td>\n",
       "      <td>10.0</td>\n",
       "      <td>1</td>\n",
       "      <td>0.020500</td>\n",
       "      <td>-0.017947</td>\n",
       "      <td>0.008842</td>\n",
       "      <td>-0.012979</td>\n",
       "      <td>107.0</td>\n",
       "      <td>965.0</td>\n",
       "    </tr>\n",
       "    <tr>\n",
       "      <td>2</td>\n",
       "      <td>353.0</td>\n",
       "      <td>4.5</td>\n",
       "      <td>688.0</td>\n",
       "      <td>2</td>\n",
       "      <td>0.143925</td>\n",
       "      <td>0.135123</td>\n",
       "      <td>0.129360</td>\n",
       "      <td>0.035021</td>\n",
       "      <td>308.0</td>\n",
       "      <td>627.0</td>\n",
       "    </tr>\n",
       "    <tr>\n",
       "      <td>3</td>\n",
       "      <td>3458.0</td>\n",
       "      <td>5.0</td>\n",
       "      <td>3.0</td>\n",
       "      <td>1</td>\n",
       "      <td>0.053875</td>\n",
       "      <td>-0.032590</td>\n",
       "      <td>0.019788</td>\n",
       "      <td>-0.012979</td>\n",
       "      <td>1575.0</td>\n",
       "      <td>1387.0</td>\n",
       "    </tr>\n",
       "    <tr>\n",
       "      <td>4</td>\n",
       "      <td>621.0</td>\n",
       "      <td>4.0</td>\n",
       "      <td>84.0</td>\n",
       "      <td>1</td>\n",
       "      <td>0.022325</td>\n",
       "      <td>0.006808</td>\n",
       "      <td>0.017447</td>\n",
       "      <td>0.003021</td>\n",
       "      <td>259.0</td>\n",
       "      <td>556.0</td>\n",
       "    </tr>\n",
       "  </tbody>\n",
       "</table>\n",
       "</div>"
      ],
      "text/plain": [
       "   Ranking  Rating  Number of Reviews  Price  City Part  City Ranking 1  \\\n",
       "0   5570.0     3.5              194.0      1   0.122425       -0.016828   \n",
       "1   1537.0     4.0               10.0      1   0.020500       -0.017947   \n",
       "2    353.0     4.5              688.0      2   0.143925        0.135123   \n",
       "3   3458.0     5.0                3.0      1   0.053875       -0.032590   \n",
       "4    621.0     4.0               84.0      1   0.022325        0.006808   \n",
       "\n",
       "   City Ranking 2  Cuisine Norm    Days  Dif Days  \n",
       "0        0.076333      0.003021   120.0    1440.0  \n",
       "1        0.008842     -0.012979   107.0     965.0  \n",
       "2        0.129360      0.035021   308.0     627.0  \n",
       "3        0.019788     -0.012979  1575.0    1387.0  \n",
       "4        0.017447      0.003021   259.0     556.0  "
      ]
     },
     "execution_count": 50,
     "metadata": {},
     "output_type": "execute_result"
    }
   ],
   "source": [
    "df.head(5)"
   ]
  },
  {
   "cell_type": "markdown",
   "metadata": {},
   "source": [
    "Результат (метрика MAE), полученный при использовании данных (iteration#2): **0.21**, что значительно улучшает предыдущий результат"
   ]
  },
  {
   "cell_type": "markdown",
   "metadata": {},
   "source": [
    "# Третье приближение, Dummy Variables"
   ]
  },
  {
   "cell_type": "code",
   "execution_count": 58,
   "metadata": {},
   "outputs": [],
   "source": [
    "df = pd.read_csv('main_task.csv')"
   ]
  },
  {
   "cell_type": "markdown",
   "metadata": {},
   "source": [
    "Можем преобразовать [City] в Dummy Variables:"
   ]
  },
  {
   "cell_type": "code",
   "execution_count": 128,
   "metadata": {},
   "outputs": [
    {
     "data": {
      "text/html": [
       "<div>\n",
       "<style scoped>\n",
       "    .dataframe tbody tr th:only-of-type {\n",
       "        vertical-align: middle;\n",
       "    }\n",
       "\n",
       "    .dataframe tbody tr th {\n",
       "        vertical-align: top;\n",
       "    }\n",
       "\n",
       "    .dataframe thead th {\n",
       "        text-align: right;\n",
       "    }\n",
       "</style>\n",
       "<table border=\"1\" class=\"dataframe\">\n",
       "  <thead>\n",
       "    <tr style=\"text-align: right;\">\n",
       "      <th></th>\n",
       "      <th>City_Amsterdam</th>\n",
       "      <th>City_Athens</th>\n",
       "      <th>City_Barcelona</th>\n",
       "      <th>City_Berlin</th>\n",
       "      <th>City_Bratislava</th>\n",
       "      <th>City_Brussels</th>\n",
       "      <th>City_Budapest</th>\n",
       "      <th>City_Copenhagen</th>\n",
       "      <th>City_Dublin</th>\n",
       "      <th>City_Edinburgh</th>\n",
       "      <th>...</th>\n",
       "      <th>City_Munich</th>\n",
       "      <th>City_Oporto</th>\n",
       "      <th>City_Oslo</th>\n",
       "      <th>City_Paris</th>\n",
       "      <th>City_Prague</th>\n",
       "      <th>City_Rome</th>\n",
       "      <th>City_Stockholm</th>\n",
       "      <th>City_Vienna</th>\n",
       "      <th>City_Warsaw</th>\n",
       "      <th>City_Zurich</th>\n",
       "    </tr>\n",
       "  </thead>\n",
       "  <tbody>\n",
       "    <tr>\n",
       "      <td>0</td>\n",
       "      <td>0</td>\n",
       "      <td>0</td>\n",
       "      <td>0</td>\n",
       "      <td>0</td>\n",
       "      <td>0</td>\n",
       "      <td>0</td>\n",
       "      <td>0</td>\n",
       "      <td>0</td>\n",
       "      <td>0</td>\n",
       "      <td>0</td>\n",
       "      <td>...</td>\n",
       "      <td>0</td>\n",
       "      <td>0</td>\n",
       "      <td>0</td>\n",
       "      <td>1</td>\n",
       "      <td>0</td>\n",
       "      <td>0</td>\n",
       "      <td>0</td>\n",
       "      <td>0</td>\n",
       "      <td>0</td>\n",
       "      <td>0</td>\n",
       "    </tr>\n",
       "    <tr>\n",
       "      <td>1</td>\n",
       "      <td>0</td>\n",
       "      <td>0</td>\n",
       "      <td>0</td>\n",
       "      <td>0</td>\n",
       "      <td>0</td>\n",
       "      <td>0</td>\n",
       "      <td>0</td>\n",
       "      <td>0</td>\n",
       "      <td>0</td>\n",
       "      <td>0</td>\n",
       "      <td>...</td>\n",
       "      <td>0</td>\n",
       "      <td>0</td>\n",
       "      <td>0</td>\n",
       "      <td>0</td>\n",
       "      <td>0</td>\n",
       "      <td>0</td>\n",
       "      <td>1</td>\n",
       "      <td>0</td>\n",
       "      <td>0</td>\n",
       "      <td>0</td>\n",
       "    </tr>\n",
       "    <tr>\n",
       "      <td>2</td>\n",
       "      <td>0</td>\n",
       "      <td>0</td>\n",
       "      <td>0</td>\n",
       "      <td>0</td>\n",
       "      <td>0</td>\n",
       "      <td>0</td>\n",
       "      <td>0</td>\n",
       "      <td>0</td>\n",
       "      <td>0</td>\n",
       "      <td>0</td>\n",
       "      <td>...</td>\n",
       "      <td>0</td>\n",
       "      <td>0</td>\n",
       "      <td>0</td>\n",
       "      <td>0</td>\n",
       "      <td>0</td>\n",
       "      <td>0</td>\n",
       "      <td>0</td>\n",
       "      <td>0</td>\n",
       "      <td>0</td>\n",
       "      <td>0</td>\n",
       "    </tr>\n",
       "    <tr>\n",
       "      <td>3</td>\n",
       "      <td>0</td>\n",
       "      <td>0</td>\n",
       "      <td>0</td>\n",
       "      <td>1</td>\n",
       "      <td>0</td>\n",
       "      <td>0</td>\n",
       "      <td>0</td>\n",
       "      <td>0</td>\n",
       "      <td>0</td>\n",
       "      <td>0</td>\n",
       "      <td>...</td>\n",
       "      <td>0</td>\n",
       "      <td>0</td>\n",
       "      <td>0</td>\n",
       "      <td>0</td>\n",
       "      <td>0</td>\n",
       "      <td>0</td>\n",
       "      <td>0</td>\n",
       "      <td>0</td>\n",
       "      <td>0</td>\n",
       "      <td>0</td>\n",
       "    </tr>\n",
       "    <tr>\n",
       "      <td>4</td>\n",
       "      <td>0</td>\n",
       "      <td>0</td>\n",
       "      <td>0</td>\n",
       "      <td>0</td>\n",
       "      <td>0</td>\n",
       "      <td>0</td>\n",
       "      <td>0</td>\n",
       "      <td>0</td>\n",
       "      <td>0</td>\n",
       "      <td>0</td>\n",
       "      <td>...</td>\n",
       "      <td>1</td>\n",
       "      <td>0</td>\n",
       "      <td>0</td>\n",
       "      <td>0</td>\n",
       "      <td>0</td>\n",
       "      <td>0</td>\n",
       "      <td>0</td>\n",
       "      <td>0</td>\n",
       "      <td>0</td>\n",
       "      <td>0</td>\n",
       "    </tr>\n",
       "  </tbody>\n",
       "</table>\n",
       "<p>5 rows × 31 columns</p>\n",
       "</div>"
      ],
      "text/plain": [
       "   City_Amsterdam  City_Athens  City_Barcelona  City_Berlin  City_Bratislava  \\\n",
       "0               0            0               0            0                0   \n",
       "1               0            0               0            0                0   \n",
       "2               0            0               0            0                0   \n",
       "3               0            0               0            1                0   \n",
       "4               0            0               0            0                0   \n",
       "\n",
       "   City_Brussels  City_Budapest  City_Copenhagen  City_Dublin  City_Edinburgh  \\\n",
       "0              0              0                0            0               0   \n",
       "1              0              0                0            0               0   \n",
       "2              0              0                0            0               0   \n",
       "3              0              0                0            0               0   \n",
       "4              0              0                0            0               0   \n",
       "\n",
       "   ...  City_Munich  City_Oporto  City_Oslo  City_Paris  City_Prague  \\\n",
       "0  ...            0            0          0           1            0   \n",
       "1  ...            0            0          0           0            0   \n",
       "2  ...            0            0          0           0            0   \n",
       "3  ...            0            0          0           0            0   \n",
       "4  ...            1            0          0           0            0   \n",
       "\n",
       "   City_Rome  City_Stockholm  City_Vienna  City_Warsaw  City_Zurich  \n",
       "0          0               0            0            0            0  \n",
       "1          0               1            0            0            0  \n",
       "2          0               0            0            0            0  \n",
       "3          0               0            0            0            0  \n",
       "4          0               0            0            0            0  \n",
       "\n",
       "[5 rows x 31 columns]"
      ]
     },
     "execution_count": 128,
     "metadata": {},
     "output_type": "execute_result"
    }
   ],
   "source": [
    "city_dummy = pd.get_dummies(df[['City']])\n",
    "city_dummy.to_csv('city_dummy.csv', index=False)\n",
    "city_dummy.head(5)"
   ]
  },
  {
   "cell_type": "markdown",
   "metadata": {},
   "source": [
    "Как и ожидалось, получился ровно 31 новый признак по количеству городов в датасете."
   ]
  },
  {
   "cell_type": "markdown",
   "metadata": {},
   "source": [
    "Для преобразования [Cuisine Style] в Dummy Variables нужно для начала подготовить данные, заменив пропущенные значения на самое популярную кухню 'Vegetarian Friendly', а затем освободиться от скобок и апострофов (код работает не мгновенно, поэтому результат был сохранён):"
   ]
  },
  {
   "cell_type": "raw",
   "metadata": {},
   "source": [
    "dft = df['Cuisine Style']\n",
    "dft = dft.fillna(\"['Vegetarian Friendly']\")\n",
    "for k in range(dft.shape[0]):\n",
    "    string = dft.iloc[k].split(']')[0].split('[')[1]\n",
    "    parse = string.split(\",\")\n",
    "    val = []\n",
    "    for string in parse:\n",
    "        val.append(string.split(\"'\")[1])\n",
    "    dft.iloc[k] = val\n",
    "    \n",
    "cuisine_dummy = pd.get_dummies(dft.apply(pd.Series).stack()).sum(level=0)\n",
    "cuisine_dummy.to_csv('cuisine_dummy.csv', index=False)"
   ]
  },
  {
   "cell_type": "code",
   "execution_count": 116,
   "metadata": {},
   "outputs": [
    {
     "data": {
      "text/html": [
       "<div>\n",
       "<style scoped>\n",
       "    .dataframe tbody tr th:only-of-type {\n",
       "        vertical-align: middle;\n",
       "    }\n",
       "\n",
       "    .dataframe tbody tr th {\n",
       "        vertical-align: top;\n",
       "    }\n",
       "\n",
       "    .dataframe thead th {\n",
       "        text-align: right;\n",
       "    }\n",
       "</style>\n",
       "<table border=\"1\" class=\"dataframe\">\n",
       "  <thead>\n",
       "    <tr style=\"text-align: right;\">\n",
       "      <th></th>\n",
       "      <th>Afghani</th>\n",
       "      <th>African</th>\n",
       "      <th>Albanian</th>\n",
       "      <th>American</th>\n",
       "      <th>Arabic</th>\n",
       "      <th>Argentinean</th>\n",
       "      <th>Armenian</th>\n",
       "      <th>Asian</th>\n",
       "      <th>Australian</th>\n",
       "      <th>Austrian</th>\n",
       "      <th>...</th>\n",
       "      <th>Ukrainian</th>\n",
       "      <th>Uzbek</th>\n",
       "      <th>Vegan Options</th>\n",
       "      <th>Vegetarian Friendly</th>\n",
       "      <th>Venezuelan</th>\n",
       "      <th>Vietnamese</th>\n",
       "      <th>Welsh</th>\n",
       "      <th>Wine Bar</th>\n",
       "      <th>Xinjiang</th>\n",
       "      <th>Yunnan</th>\n",
       "    </tr>\n",
       "  </thead>\n",
       "  <tbody>\n",
       "    <tr>\n",
       "      <td>0</td>\n",
       "      <td>0</td>\n",
       "      <td>0</td>\n",
       "      <td>0</td>\n",
       "      <td>0</td>\n",
       "      <td>0</td>\n",
       "      <td>0</td>\n",
       "      <td>0</td>\n",
       "      <td>0</td>\n",
       "      <td>0</td>\n",
       "      <td>0</td>\n",
       "      <td>...</td>\n",
       "      <td>0</td>\n",
       "      <td>0</td>\n",
       "      <td>0</td>\n",
       "      <td>0</td>\n",
       "      <td>0</td>\n",
       "      <td>0</td>\n",
       "      <td>0</td>\n",
       "      <td>0</td>\n",
       "      <td>0</td>\n",
       "      <td>0</td>\n",
       "    </tr>\n",
       "    <tr>\n",
       "      <td>1</td>\n",
       "      <td>0</td>\n",
       "      <td>0</td>\n",
       "      <td>0</td>\n",
       "      <td>0</td>\n",
       "      <td>0</td>\n",
       "      <td>0</td>\n",
       "      <td>0</td>\n",
       "      <td>0</td>\n",
       "      <td>0</td>\n",
       "      <td>0</td>\n",
       "      <td>...</td>\n",
       "      <td>0</td>\n",
       "      <td>0</td>\n",
       "      <td>0</td>\n",
       "      <td>1</td>\n",
       "      <td>0</td>\n",
       "      <td>0</td>\n",
       "      <td>0</td>\n",
       "      <td>0</td>\n",
       "      <td>0</td>\n",
       "      <td>0</td>\n",
       "    </tr>\n",
       "    <tr>\n",
       "      <td>2</td>\n",
       "      <td>0</td>\n",
       "      <td>0</td>\n",
       "      <td>0</td>\n",
       "      <td>0</td>\n",
       "      <td>0</td>\n",
       "      <td>0</td>\n",
       "      <td>0</td>\n",
       "      <td>1</td>\n",
       "      <td>0</td>\n",
       "      <td>0</td>\n",
       "      <td>...</td>\n",
       "      <td>0</td>\n",
       "      <td>0</td>\n",
       "      <td>1</td>\n",
       "      <td>1</td>\n",
       "      <td>0</td>\n",
       "      <td>0</td>\n",
       "      <td>0</td>\n",
       "      <td>0</td>\n",
       "      <td>0</td>\n",
       "      <td>0</td>\n",
       "    </tr>\n",
       "    <tr>\n",
       "      <td>3</td>\n",
       "      <td>0</td>\n",
       "      <td>0</td>\n",
       "      <td>0</td>\n",
       "      <td>0</td>\n",
       "      <td>0</td>\n",
       "      <td>0</td>\n",
       "      <td>0</td>\n",
       "      <td>0</td>\n",
       "      <td>0</td>\n",
       "      <td>0</td>\n",
       "      <td>...</td>\n",
       "      <td>0</td>\n",
       "      <td>0</td>\n",
       "      <td>0</td>\n",
       "      <td>1</td>\n",
       "      <td>0</td>\n",
       "      <td>0</td>\n",
       "      <td>0</td>\n",
       "      <td>0</td>\n",
       "      <td>0</td>\n",
       "      <td>0</td>\n",
       "    </tr>\n",
       "    <tr>\n",
       "      <td>4</td>\n",
       "      <td>0</td>\n",
       "      <td>0</td>\n",
       "      <td>0</td>\n",
       "      <td>0</td>\n",
       "      <td>0</td>\n",
       "      <td>0</td>\n",
       "      <td>0</td>\n",
       "      <td>0</td>\n",
       "      <td>0</td>\n",
       "      <td>0</td>\n",
       "      <td>...</td>\n",
       "      <td>0</td>\n",
       "      <td>0</td>\n",
       "      <td>0</td>\n",
       "      <td>1</td>\n",
       "      <td>0</td>\n",
       "      <td>0</td>\n",
       "      <td>0</td>\n",
       "      <td>0</td>\n",
       "      <td>0</td>\n",
       "      <td>0</td>\n",
       "    </tr>\n",
       "  </tbody>\n",
       "</table>\n",
       "<p>5 rows × 125 columns</p>\n",
       "</div>"
      ],
      "text/plain": [
       "   Afghani  African  Albanian  American  Arabic  Argentinean  Armenian  Asian  \\\n",
       "0        0        0         0         0       0            0         0      0   \n",
       "1        0        0         0         0       0            0         0      0   \n",
       "2        0        0         0         0       0            0         0      1   \n",
       "3        0        0         0         0       0            0         0      0   \n",
       "4        0        0         0         0       0            0         0      0   \n",
       "\n",
       "   Australian  Austrian  ...  Ukrainian  Uzbek  Vegan Options  \\\n",
       "0           0         0  ...          0      0              0   \n",
       "1           0         0  ...          0      0              0   \n",
       "2           0         0  ...          0      0              1   \n",
       "3           0         0  ...          0      0              0   \n",
       "4           0         0  ...          0      0              0   \n",
       "\n",
       "   Vegetarian Friendly  Venezuelan  Vietnamese  Welsh  Wine Bar  Xinjiang  \\\n",
       "0                    0           0           0      0         0         0   \n",
       "1                    1           0           0      0         0         0   \n",
       "2                    1           0           0      0         0         0   \n",
       "3                    1           0           0      0         0         0   \n",
       "4                    1           0           0      0         0         0   \n",
       "\n",
       "   Yunnan  \n",
       "0       0  \n",
       "1       0  \n",
       "2       0  \n",
       "3       0  \n",
       "4       0  \n",
       "\n",
       "[5 rows x 125 columns]"
      ]
     },
     "execution_count": 116,
     "metadata": {},
     "output_type": "execute_result"
    }
   ],
   "source": [
    "cuisine_dummy = pd.read_csv('cuisine_dummy.csv')\n",
    "cuisine_dummy.head(5)"
   ]
  },
  {
   "cell_type": "markdown",
   "metadata": {},
   "source": [
    "Как и ожидалось, получилось еще 125 признаков по количеству кухонь в датасете"
   ]
  },
  {
   "cell_type": "markdown",
   "metadata": {},
   "source": [
    "Все дальнейшие действия и результаты описаны в файле Modelling"
   ]
  }
 ],
 "metadata": {
  "kernelspec": {
   "display_name": "Python 3",
   "language": "python",
   "name": "python3"
  },
  "language_info": {
   "codemirror_mode": {
    "name": "ipython",
    "version": 3
   },
   "file_extension": ".py",
   "mimetype": "text/x-python",
   "name": "python",
   "nbconvert_exporter": "python",
   "pygments_lexer": "ipython3",
   "version": "3.7.4"
  },
  "toc": {
   "base_numbering": 1,
   "nav_menu": {},
   "number_sections": true,
   "sideBar": true,
   "skip_h1_title": false,
   "title_cell": "Table of Contents",
   "title_sidebar": "Contents",
   "toc_cell": false,
   "toc_position": {
    "height": "calc(100% - 180px)",
    "left": "10px",
    "top": "150px",
    "width": "306px"
   },
   "toc_section_display": true,
   "toc_window_display": true
  }
 },
 "nbformat": 4,
 "nbformat_minor": 2
}
