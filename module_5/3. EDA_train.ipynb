{
 "cells": [
  {
   "cell_type": "code",
   "execution_count": 296,
   "metadata": {},
   "outputs": [],
   "source": [
    "import pandas as pd\n",
    "import numpy as np\n",
    "import seaborn as sns\n",
    "import matplotlib.pyplot as plt"
   ]
  },
  {
   "cell_type": "markdown",
   "metadata": {},
   "source": [
    "Рассмотрим тренировочную выборку, полученную в результате сбора данных с auto.ru:"
   ]
  },
  {
   "cell_type": "code",
   "execution_count": 297,
   "metadata": {},
   "outputs": [],
   "source": [
    "train = pd.read_csv(\"raw_data.csv\")"
   ]
  },
  {
   "cell_type": "code",
   "execution_count": 298,
   "metadata": {},
   "outputs": [
    {
     "name": "stdout",
     "output_type": "stream",
     "text": [
      "<class 'pandas.core.frame.DataFrame'>\n",
      "RangeIndex: 18417 entries, 0 to 18416\n",
      "Data columns (total 22 columns):\n",
      " #   Column                Non-Null Count  Dtype  \n",
      "---  ------                --------------  -----  \n",
      " 0   body_type             18417 non-null  object \n",
      " 1   brand                 18417 non-null  object \n",
      " 2   color                 18417 non-null  object \n",
      " 3   fuel_type             18417 non-null  object \n",
      " 4   model_date_begin      18417 non-null  int64  \n",
      " 5   model_date_end        18417 non-null  int64  \n",
      " 6   name                  18417 non-null  object \n",
      " 7   model_name            18417 non-null  object \n",
      " 8   number_of_doors       18417 non-null  int64  \n",
      " 9   production_date       18417 non-null  int64  \n",
      " 10  vehicle_transmission  18417 non-null  object \n",
      " 11  engine_displacement   18417 non-null  int64  \n",
      " 12  engine_power          18417 non-null  int64  \n",
      " 13  mileage               18417 non-null  int64  \n",
      " 14  complectation         18417 non-null  object \n",
      " 15  gear_type             18417 non-null  object \n",
      " 16  steering_wheel        18417 non-null  object \n",
      " 17  not_damage            18417 non-null  bool   \n",
      " 18  owners                15640 non-null  float64\n",
      " 19  pts_origin            18220 non-null  object \n",
      " 20  custom_clear          18417 non-null  bool   \n",
      " 21  price                 18417 non-null  float64\n",
      "dtypes: bool(2), float64(2), int64(7), object(11)\n",
      "memory usage: 2.8+ MB\n"
     ]
    }
   ],
   "source": [
    "train.info()"
   ]
  },
  {
   "cell_type": "markdown",
   "metadata": {},
   "source": [
    "Видим, что тренировочный датасет содержит **18417** записей, и **22** признака. Для более детального анализа данных используем функции: "
   ]
  },
  {
   "cell_type": "markdown",
   "metadata": {},
   "source": [
    "Чтобы производить унификацию тренировочной и тестовой выборки, загрузим тестовый датасет:"
   ]
  },
  {
   "cell_type": "code",
   "execution_count": 299,
   "metadata": {},
   "outputs": [],
   "source": [
    "test = pd.read_csv(\"test.csv\")"
   ]
  },
  {
   "cell_type": "code",
   "execution_count": 300,
   "metadata": {},
   "outputs": [],
   "source": [
    "def categorical_info(column_name, train, rotate=90, x_shift_mult=0, percentage=True):\n",
    "    \"\"\"Рисует распределение категориальных признаков и отображает их процентное содержание\"\"\"\n",
    "\n",
    "    ax = sns.countplot(x=column_name,\n",
    "                       data=train,\n",
    "                       order=train[column_name].value_counts().index, orient=\"h\")\n",
    "    if percentage:\n",
    "        total = len(train[column_name])\n",
    "        for p in ax.patches:\n",
    "            percentage = '{:.1f}%'.format(100 * p.get_height()/total)\n",
    "            x = p.get_x() + x_shift_mult*p.get_width()\n",
    "            y = p.get_y() + p.get_height()+8\n",
    "            ax.annotate(percentage, (x, y))\n",
    "    plt.xticks(rotation=rotate)\n",
    "\n",
    "\n",
    "def numeric_info(train, bins=10):\n",
    "    \"\"\"Печатает описательные статистики числового признака, а также рисует его распределение\"\"\"\n",
    "\n",
    "    print(train.describe()[[\"min\", \"max\", \"25%\", \"50%\", \"75%\", \"std\"]])\n",
    "    sns.distplot(train, bins=bins)\n",
    "\n",
    "\n",
    "def get_differences(obj1, obj2):\n",
    "    \"\"\"Выводит на печать отличия в признаках выборок, возвращает индексы отличных элементов\"\"\"\n",
    "\n",
    "    dif12 = list(set(list(obj1.value_counts().index)) -\n",
    "                 set(list(obj2.value_counts().index)))\n",
    "    print(\"================================\")\n",
    "    print(\"Train - Test differences:\\n\")\n",
    "    print(obj1.value_counts()[dif12]) if len(\n",
    "        dif12) != 0 else print(\"No differences\")\n",
    "    dif21 = list(set(list(obj2.value_counts().index)) -\n",
    "                 set(list(obj1.value_counts().index)))\n",
    "    print(\"================================\")\n",
    "    print(\"Test - Train differences:\\n\")\n",
    "    print(obj2.value_counts()[dif21]) if len(\n",
    "        dif21) != 0 else print(\"No differences\")\n",
    "    return dif12, dif21\n",
    "\n",
    "\n",
    "def delete_differences(data, column_name, dif):\n",
    "    \"\"\"Удаляет найденные отличия из выборок\"\"\"\n",
    "    # функция применялась при первой попытке приводить тренировочные данные под тестовые,\n",
    "    # то есть удалять те записи из тренировочной выборки, значения признаков которых\n",
    "    # отсутствуют в тестовой выборке. Проведённые эксперименты показали, что лучше их оставить\n",
    "    before = data.shape[0]\n",
    "    print(f\"Число записей до удаления: {before}\")\n",
    "    data = data[~data[column_name].isin(dif[0])].reset_index(drop=True)\n",
    "    after = data.shape[0]\n",
    "    print(f\"Число записей после удаления: {after}\")\n",
    "    print(f\"Удалено {before-after} записей со значениями {dif[0]}\")\n",
    "    return data"
   ]
  },
  {
   "cell_type": "markdown",
   "metadata": {},
   "source": [
    "##  body_type  (тип кузова)"
   ]
  },
  {
   "cell_type": "markdown",
   "metadata": {},
   "source": [
    "Приведем все названия в train к нижнему регистру:"
   ]
  },
  {
   "cell_type": "code",
   "execution_count": 301,
   "metadata": {},
   "outputs": [],
   "source": [
    "train.body_type = train.body_type.map(lambda x: x.lower())"
   ]
  },
  {
   "cell_type": "code",
   "execution_count": 302,
   "metadata": {},
   "outputs": [
    {
     "data": {
      "image/png": "[encoded data removed]",
      "text/plain": [
       "<Figure size 432x288 with 1 Axes>"
      ]
     },
     "metadata": {
      "needs_background": "light"
     },
     "output_type": "display_data"
    }
   ],
   "source": [
    "categorical_info(\"body_type\", train, rotate=90)"
   ]
  },
  {
   "cell_type": "code",
   "execution_count": 303,
   "metadata": {},
   "outputs": [
    {
     "data": {
      "image/png": "[encoded data removed]",
      "text/plain": [
       "<Figure size 432x288 with 1 Axes>"
      ]
     },
     "metadata": {
      "needs_background": "light"
     },
     "output_type": "display_data"
    }
   ],
   "source": [
    "categorical_info(\"bodyType\", test, rotate=90)"
   ]
  },
  {
   "cell_type": "markdown",
   "metadata": {},
   "source": [
    "Посмотрим на отличия датасетов. Видим, что в train есть типы кузовов, отличающиеся по названию от тех, что есть в test. По сути, это все те же кузова, но с дополнительными названиями типа gran tourer. Избавимся от дополнительных названий, оставив основные. "
   ]
  },
  {
   "cell_type": "code",
   "execution_count": 304,
   "metadata": {},
   "outputs": [
    {
     "name": "stdout",
     "output_type": "stream",
     "text": [
      "================================\n",
      "Train - Test differences:\n",
      "\n",
      "купе-хардтоп                6\n",
      "седан long                669\n",
      "компактвэн gran tourer     17\n",
      "лифтбек gran turismo      344\n",
      "хэтчбек 3 дв. compact      43\n",
      "родстер roadster            4\n",
      "седан gran coupe          242\n",
      "Name: body_type, dtype: int64\n",
      "================================\n",
      "Test - Train differences:\n",
      "\n",
      "лифтбек    125\n",
      "Name: bodyType, dtype: int64\n"
     ]
    }
   ],
   "source": [
    "difs = get_differences(train.body_type, test.bodyType)"
   ]
  },
  {
   "cell_type": "code",
   "execution_count": 305,
   "metadata": {},
   "outputs": [],
   "source": [
    "add_names = {\"компактвэн gran tourer\": \"компактвэн\",\n",
    "             \"лифтбек gran turismo\": \"лифтбек\",\n",
    "             \"родстер roadster\": \"родстер\",\n",
    "             \"хэтчбек 3 дв. compact\": \"хэтчбек 3 дв.\",\n",
    "             \"седан gran coupe\": \"седан\",\n",
    "             \"седан long\": \"седан\",\n",
    "             \"купе-хардтоп\": \"купе\"}\n",
    "\n",
    "train.body_type.replace(add_names, inplace=True)"
   ]
  },
  {
   "cell_type": "markdown",
   "metadata": {},
   "source": [
    "Сделаем замену названий на англоязычные аналоги:"
   ]
  },
  {
   "cell_type": "code",
   "execution_count": 306,
   "metadata": {},
   "outputs": [],
   "source": [
    "body_dict = {'внедорожник 5 дв.': 'SUV',\n",
    "             'седан': 'sedan',\n",
    "             'купе': 'coupe',\n",
    "             'хэтчбек 5 дв.': 'hatchback5',\n",
    "             'лифтбек': 'liftback',\n",
    "             'универсал 5 дв.': 'station_wagon',\n",
    "             'хэтчбек 3 дв.': 'hatchback3',\n",
    "             'кабриолет': 'cabriolet',\n",
    "             'родстер': 'roadster',\n",
    "             'компактвэн': 'compactvan',\n",
    "             'седан 2 дв.': 'sedan2'\n",
    "             }\n",
    "train.body_type = train.body_type.map(body_dict)\n",
    "test.bodyType = test.bodyType.map(body_dict)"
   ]
  },
  {
   "cell_type": "markdown",
   "metadata": {},
   "source": [
    "Унифицируем название признака и проверим тип:"
   ]
  },
  {
   "cell_type": "code",
   "execution_count": 307,
   "metadata": {},
   "outputs": [],
   "source": [
    "test.rename(columns={\"bodyType\": \"body_type\"}, inplace=True)"
   ]
  },
  {
   "cell_type": "code",
   "execution_count": 308,
   "metadata": {},
   "outputs": [
    {
     "data": {
      "text/plain": [
       "True"
      ]
     },
     "execution_count": 308,
     "metadata": {},
     "output_type": "execute_result"
    }
   ],
   "source": [
    "train.body_type.dtype == test.body_type.dtype"
   ]
  },
  {
   "cell_type": "markdown",
   "metadata": {},
   "source": [
    "Посмотрим на распределения признака в обеих выборках после всех преобразований:"
   ]
  },
  {
   "cell_type": "code",
   "execution_count": 309,
   "metadata": {},
   "outputs": [
    {
     "data": {
      "image/png": "[encoded data removed]",
      "text/plain": [
       "<Figure size 432x288 with 1 Axes>"
      ]
     },
     "metadata": {
      "needs_background": "light"
     },
     "output_type": "display_data"
    }
   ],
   "source": [
    "categorical_info(\"body_type\", train, rotate=90)"
   ]
  },
  {
   "cell_type": "code",
   "execution_count": 310,
   "metadata": {},
   "outputs": [
    {
     "data": {
      "image/png": "[encoded data removed]",
      "text/plain": [
       "<Figure size 432x288 with 1 Axes>"
      ]
     },
     "metadata": {
      "needs_background": "light"
     },
     "output_type": "display_data"
    }
   ],
   "source": [
    "categorical_info(\"body_type\", test, rotate=90)"
   ]
  },
  {
   "cell_type": "markdown",
   "metadata": {},
   "source": [
    "## brand (марка автомобиля)"
   ]
  },
  {
   "cell_type": "markdown",
   "metadata": {},
   "source": [
    "Убедимся, что данные, полученные с сайта, соответствуют марке BMW:"
   ]
  },
  {
   "cell_type": "code",
   "execution_count": 311,
   "metadata": {},
   "outputs": [
    {
     "name": "stdout",
     "output_type": "stream",
     "text": [
      "Датасет полностью представлен автомобилями марки BMW\n"
     ]
    }
   ],
   "source": [
    "if len(train.brand.unique()) == 1:\n",
    "    print(\n",
    "        f'Датасет полностью представлен автомобилями марки {train.brand.unique()[0]}')"
   ]
  },
  {
   "cell_type": "markdown",
   "metadata": {},
   "source": [
    "## color (цвет автомобиля)"
   ]
  },
  {
   "cell_type": "markdown",
   "metadata": {},
   "source": [
    "Преобразуем цвета тренировочного датасета из шестнадцатиричного формата в слова (русскоязычные):"
   ]
  },
  {
   "cell_type": "code",
   "execution_count": 312,
   "metadata": {},
   "outputs": [],
   "source": [
    "color_dict = {'FAFBFB': 'белый',\n",
    "              'CACECB': 'серебристый',\n",
    "              '0000CC': 'синий',\n",
    "              '97948F': 'серый',\n",
    "              '040001': 'чёрный',\n",
    "              'EE1D19': 'красный',\n",
    "              '200204': 'коричневый',\n",
    "              '007F00': 'зелёный',\n",
    "              'C49648': 'бежевый',\n",
    "              '4A2197': 'фиолетовый',\n",
    "              'FF8649': 'оранжевый',\n",
    "              '22A0F8': 'голубой',\n",
    "              'FFC0CB': 'розовый',\n",
    "              '660099': 'пурпурный',\n",
    "              'DEA522': 'золотистый',\n",
    "              'FFD600': 'жёлтый'\n",
    "              }\n",
    "train.color = train.color.map(color_dict)"
   ]
  },
  {
   "cell_type": "code",
   "execution_count": 313,
   "metadata": {},
   "outputs": [
    {
     "data": {
      "image/png": "[encoded data removed]",
      "text/plain": [
       "<Figure size 432x288 with 1 Axes>"
      ]
     },
     "metadata": {
      "needs_background": "light"
     },
     "output_type": "display_data"
    }
   ],
   "source": [
    "categorical_info(\"color\", train, rotate=90)"
   ]
  },
  {
   "cell_type": "code",
   "execution_count": 314,
   "metadata": {},
   "outputs": [
    {
     "data": {
      "image/png": "[encoded data removed]",
      "text/plain": [
       "<Figure size 432x288 with 1 Axes>"
      ]
     },
     "metadata": {
      "needs_background": "light"
     },
     "output_type": "display_data"
    }
   ],
   "source": [
    "categorical_info(\"color\", test, rotate=90)"
   ]
  },
  {
   "cell_type": "markdown",
   "metadata": {},
   "source": [
    "Посмотрим на отличия в цветовой гамме:"
   ]
  },
  {
   "cell_type": "code",
   "execution_count": 315,
   "metadata": {},
   "outputs": [
    {
     "name": "stdout",
     "output_type": "stream",
     "text": [
      "================================\n",
      "Train - Test differences:\n",
      "\n",
      "розовый    2\n",
      "Name: color, dtype: int64\n",
      "================================\n",
      "Test - Train differences:\n",
      "\n",
      "No differences\n"
     ]
    }
   ],
   "source": [
    "difs = get_differences(train.color, test.color)"
   ]
  },
  {
   "cell_type": "markdown",
   "metadata": {},
   "source": [
    "Видим, что в тренировочном датасете есть два автомобиля розового цвета. Этого цвета нет в тестовом наборе данных. В остальном набор цветов в выборках одинаков. "
   ]
  },
  {
   "cell_type": "markdown",
   "metadata": {},
   "source": [
    "Сделаем замену названий цветов на англоязычные аналоги:"
   ]
  },
  {
   "cell_type": "code",
   "execution_count": 316,
   "metadata": {},
   "outputs": [],
   "source": [
    "color_dict = {'белый': 'white',\n",
    "              'серебристый': 'silver',\n",
    "              'синий': 'dark_blue',\n",
    "              'серый': 'grey',\n",
    "              'чёрный': 'black',\n",
    "              'красный': 'red',\n",
    "              'коричневый': 'brown',\n",
    "              'зелёный': 'green',\n",
    "              'бежевый': 'biege',\n",
    "              'фиолетовый': 'violet',\n",
    "              'оранжевый': 'orange',\n",
    "              'голубой': 'blue',\n",
    "              'пурпурный': 'purple',\n",
    "              'золотистый': 'golden',\n",
    "              'жёлтый': 'yellow'\n",
    "              }\n",
    "test.color = test.color.map(color_dict)"
   ]
  },
  {
   "cell_type": "code",
   "execution_count": 317,
   "metadata": {},
   "outputs": [],
   "source": [
    "color_dict[\"розовый\"] = \"pink\"\n",
    "train.color = train.color.map(color_dict)"
   ]
  },
  {
   "cell_type": "markdown",
   "metadata": {},
   "source": [
    "Посмотрим на распределения признака в обеих выборках после всех преобразований:"
   ]
  },
  {
   "cell_type": "code",
   "execution_count": 318,
   "metadata": {},
   "outputs": [
    {
     "data": {
      "image/png": "[encoded data removed]",
      "text/plain": [
       "<Figure size 432x288 with 1 Axes>"
      ]
     },
     "metadata": {
      "needs_background": "light"
     },
     "output_type": "display_data"
    }
   ],
   "source": [
    "categorical_info(\"color\", train, rotate=90)"
   ]
  },
  {
   "cell_type": "code",
   "execution_count": 319,
   "metadata": {},
   "outputs": [
    {
     "data": {
      "image/png": "[encoded data removed]",
      "text/plain": [
       "<Figure size 432x288 with 1 Axes>"
      ]
     },
     "metadata": {
      "needs_background": "light"
     },
     "output_type": "display_data"
    }
   ],
   "source": [
    "categorical_info(\"color\", test, rotate=90)"
   ]
  },
  {
   "cell_type": "code",
   "execution_count": 320,
   "metadata": {},
   "outputs": [
    {
     "data": {
      "text/plain": [
       "True"
      ]
     },
     "execution_count": 320,
     "metadata": {},
     "output_type": "execute_result"
    }
   ],
   "source": [
    "train.color.dtype == test.color.dtype"
   ]
  },
  {
   "cell_type": "markdown",
   "metadata": {},
   "source": [
    "## fuelType (тип двигателя)"
   ]
  },
  {
   "cell_type": "markdown",
   "metadata": {},
   "source": [
    "Переименуем названия типов двигателей и посмотрим на распределение признака в датасетах:"
   ]
  },
  {
   "cell_type": "code",
   "execution_count": 321,
   "metadata": {},
   "outputs": [],
   "source": [
    "fuel_dict = {'GASOLINE': \"бензин\",\n",
    "             'DIESEL': \"дизель\",\n",
    "             'HYBRID': \"гибрид\",\n",
    "             'ELECTRO': \"электро\"\n",
    "             }\n",
    "train.fuel_type = train.fuel_type.map(fuel_dict)"
   ]
  },
  {
   "cell_type": "code",
   "execution_count": 322,
   "metadata": {},
   "outputs": [
    {
     "data": {
      "image/png": "[encoded data removed]",
      "text/plain": [
       "<Figure size 432x288 with 1 Axes>"
      ]
     },
     "metadata": {
      "needs_background": "light"
     },
     "output_type": "display_data"
    }
   ],
   "source": [
    "categorical_info(\"fuel_type\", train, rotate=90, x_shift_mult=1/4)"
   ]
  },
  {
   "cell_type": "code",
   "execution_count": 323,
   "metadata": {},
   "outputs": [
    {
     "data": {
      "image/png": "[encoded data removed]",
      "text/plain": [
       "<Figure size 432x288 with 1 Axes>"
      ]
     },
     "metadata": {
      "needs_background": "light"
     },
     "output_type": "display_data"
    }
   ],
   "source": [
    "categorical_info(\"fuelType\", test, rotate=90, x_shift_mult=1/4)"
   ]
  },
  {
   "cell_type": "markdown",
   "metadata": {},
   "source": [
    "Видим, что распределения признака в обеих выборках очень похожи. Сделаем унификацию названия признака, а также заменим названия на англоязычные:"
   ]
  },
  {
   "cell_type": "code",
   "execution_count": 324,
   "metadata": {},
   "outputs": [],
   "source": [
    "test.rename(columns={\"fuelType\": \"fuel_type\"}, inplace=True)"
   ]
  },
  {
   "cell_type": "code",
   "execution_count": 325,
   "metadata": {},
   "outputs": [],
   "source": [
    "fuel_dict = {\"бензин\": \"petrol\",\n",
    "             \"дизель\": \"diesel\",\n",
    "             \"гибрид\": \"hybrid\",\n",
    "             \"электро\": \"electro\"\n",
    "             }\n",
    "\n",
    "train.fuel_type = train.fuel_type.map(fuel_dict)\n",
    "test.fuel_type = test.fuel_type.map(fuel_dict)"
   ]
  },
  {
   "cell_type": "markdown",
   "metadata": {},
   "source": [
    "Посмотрим на распределения признака в обеих выборках после всех преобразований:"
   ]
  },
  {
   "cell_type": "code",
   "execution_count": 326,
   "metadata": {},
   "outputs": [
    {
     "data": {
      "image/png": "[encoded data removed]",
      "text/plain": [
       "<Figure size 432x288 with 1 Axes>"
      ]
     },
     "metadata": {
      "needs_background": "light"
     },
     "output_type": "display_data"
    }
   ],
   "source": [
    "categorical_info(\"fuel_type\", train, rotate=90, x_shift_mult=1/4)"
   ]
  },
  {
   "cell_type": "code",
   "execution_count": 327,
   "metadata": {},
   "outputs": [
    {
     "data": {
      "image/png": "[encoded data removed]",
      "text/plain": [
       "<Figure size 432x288 with 1 Axes>"
      ]
     },
     "metadata": {
      "needs_background": "light"
     },
     "output_type": "display_data"
    }
   ],
   "source": [
    "categorical_info(\"fuel_type\", test, rotate=90, x_shift_mult=1/4)"
   ]
  },
  {
   "cell_type": "code",
   "execution_count": 328,
   "metadata": {},
   "outputs": [
    {
     "data": {
      "text/plain": [
       "True"
      ]
     },
     "execution_count": 328,
     "metadata": {},
     "output_type": "execute_result"
    }
   ],
   "source": [
    "train.fuel_type.dtype == test.fuel_type.dtype"
   ]
  },
  {
   "cell_type": "markdown",
   "metadata": {},
   "source": [
    "## model_date_begin (год начала выпуска модели)"
   ]
  },
  {
   "cell_type": "markdown",
   "metadata": {},
   "source": [
    "Переведём год для test из float64 в int32 (совет от автора baseline)"
   ]
  },
  {
   "cell_type": "code",
   "execution_count": 329,
   "metadata": {},
   "outputs": [],
   "source": [
    "test.modelDate = test.modelDate.astype(\"int32\")\n",
    "train.model_date_begin = train.model_date_begin.astype(\"int32\")"
   ]
  },
  {
   "cell_type": "code",
   "execution_count": 330,
   "metadata": {},
   "outputs": [
    {
     "name": "stdout",
     "output_type": "stream",
     "text": [
      "min    1972.00000\n",
      "max    2020.00000\n",
      "25%    2005.00000\n",
      "50%    2009.00000\n",
      "75%    2014.00000\n",
      "std       7.75705\n",
      "Name: model_date_begin, dtype: float64\n"
     ]
    },
    {
     "data": {
      "image/png": "[encoded data removed]",
      "text/plain": [
       "<Figure size 432x288 with 1 Axes>"
      ]
     },
     "metadata": {
      "needs_background": "light"
     },
     "output_type": "display_data"
    }
   ],
   "source": [
    "numeric_info(train.model_date_begin, bins=15)"
   ]
  },
  {
   "cell_type": "code",
   "execution_count": 331,
   "metadata": {},
   "outputs": [
    {
     "name": "stdout",
     "output_type": "stream",
     "text": [
      "min    1975.000000\n",
      "max    2019.000000\n",
      "25%    2007.000000\n",
      "50%    2011.000000\n",
      "75%    2014.000000\n",
      "std       5.451623\n",
      "Name: modelDate, dtype: float64\n"
     ]
    },
    {
     "data": {
      "image/png": "[encoded data removed]",
      "text/plain": [
       "<Figure size 432x288 with 1 Axes>"
      ]
     },
     "metadata": {
      "needs_background": "light"
     },
     "output_type": "display_data"
    }
   ],
   "source": [
    "numeric_info(test.modelDate, bins=15)"
   ]
  },
  {
   "cell_type": "markdown",
   "metadata": {},
   "source": [
    "Из визуального анализа распределений следует, что они во многом схожи, но в тренировочных данных слишком много новых авто 2020 года. Посмотрим на отличия:"
   ]
  },
  {
   "cell_type": "code",
   "execution_count": 332,
   "metadata": {},
   "outputs": [
    {
     "name": "stdout",
     "output_type": "stream",
     "text": [
      "================================\n",
      "Train - Test differences:\n",
      "\n",
      "1988      3\n",
      "1989      6\n",
      "2020    147\n",
      "1992      2\n",
      "1997      2\n",
      "1972      3\n",
      "1976     10\n",
      "Name: model_date_begin, dtype: int64\n",
      "================================\n",
      "Test - Train differences:\n",
      "\n",
      "No differences\n"
     ]
    }
   ],
   "source": [
    "difs = get_differences(train.model_date_begin, test.modelDate)"
   ]
  },
  {
   "cell_type": "markdown",
   "metadata": {},
   "source": [
    "Действительно, в тренировочных данных присутствуют 147 автомобилей, производство которых началось в 2020 году. Остальные отличия несущественны, так как попадают во временной диапазон начала выпуска автомобилей для тестового набора, за исключением, может быть, трех автомобилей 1972 года. "
   ]
  },
  {
   "cell_type": "code",
   "execution_count": 333,
   "metadata": {},
   "outputs": [],
   "source": [
    "test.rename(columns={\"modelDate\": \"model_date_begin\"}, inplace=True)"
   ]
  },
  {
   "cell_type": "markdown",
   "metadata": {},
   "source": [
    "Немного изменим зачение признака, оставив при этом его название, а именно: найдем количество лет, которое прошло с момента запуска модели в производство"
   ]
  },
  {
   "cell_type": "code",
   "execution_count": 334,
   "metadata": {},
   "outputs": [],
   "source": [
    "train.model_date_begin = 2020 - train.model_date_begin\n",
    "test.model_date_begin = 2020 - test.model_date_begin"
   ]
  },
  {
   "cell_type": "markdown",
   "metadata": {},
   "source": [
    "Посмотрим на распределения признака в обеих выборках после всех преобразований:"
   ]
  },
  {
   "cell_type": "code",
   "execution_count": 335,
   "metadata": {},
   "outputs": [
    {
     "name": "stdout",
     "output_type": "stream",
     "text": [
      "min     0.00000\n",
      "max    48.00000\n",
      "25%     6.00000\n",
      "50%    11.00000\n",
      "75%    15.00000\n",
      "std     7.75705\n",
      "Name: model_date_begin, dtype: float64\n"
     ]
    },
    {
     "data": {
      "image/png": "[encoded data removed]",
      "text/plain": [
       "<Figure size 432x288 with 1 Axes>"
      ]
     },
     "metadata": {
      "needs_background": "light"
     },
     "output_type": "display_data"
    }
   ],
   "source": [
    "numeric_info(train.model_date_begin, bins=15)"
   ]
  },
  {
   "cell_type": "code",
   "execution_count": 336,
   "metadata": {},
   "outputs": [
    {
     "name": "stdout",
     "output_type": "stream",
     "text": [
      "min     1.000000\n",
      "max    45.000000\n",
      "25%     6.000000\n",
      "50%     9.000000\n",
      "75%    13.000000\n",
      "std     5.451623\n",
      "Name: model_date_begin, dtype: float64\n"
     ]
    },
    {
     "data": {
      "image/png": "[encoded data removed]",
      "text/plain": [
       "<Figure size 432x288 with 1 Axes>"
      ]
     },
     "metadata": {
      "needs_background": "light"
     },
     "output_type": "display_data"
    }
   ],
   "source": [
    "numeric_info(test.model_date_begin, bins=15)"
   ]
  },
  {
   "cell_type": "code",
   "execution_count": 337,
   "metadata": {},
   "outputs": [
    {
     "data": {
      "text/plain": [
       "True"
      ]
     },
     "execution_count": 337,
     "metadata": {},
     "output_type": "execute_result"
    }
   ],
   "source": [
    "train.model_date_begin.dtype == test.model_date_begin.dtype"
   ]
  },
  {
   "cell_type": "markdown",
   "metadata": {},
   "source": [
    "## model_date_end (год завершения выпуска модели)"
   ]
  },
  {
   "cell_type": "code",
   "execution_count": 338,
   "metadata": {},
   "outputs": [
    {
     "name": "stdout",
     "output_type": "stream",
     "text": [
      "min    1976.00000\n",
      "max    2020.00000\n",
      "25%    2010.00000\n",
      "50%    2013.00000\n",
      "75%    2019.00000\n",
      "std       6.69527\n",
      "Name: model_date_end, dtype: float64\n"
     ]
    },
    {
     "data": {
      "image/png": "[encoded data removed]",
      "text/plain": [
       "<Figure size 432x288 with 1 Axes>"
      ]
     },
     "metadata": {
      "needs_background": "light"
     },
     "output_type": "display_data"
    }
   ],
   "source": [
    "numeric_info(train.model_date_end, bins=15)"
   ]
  },
  {
   "cell_type": "markdown",
   "metadata": {},
   "source": [
    "К сожалению, оказалось, что такой характеристики нет в тестовом датасете. "
   ]
  },
  {
   "cell_type": "markdown",
   "metadata": {},
   "source": [
    "## name (основные характеристики автомобиля)"
   ]
  },
  {
   "cell_type": "markdown",
   "metadata": {},
   "source": [
    "Посмотрим на отличия в признаке. Видим, что в тренировочной выборке есть 278 конфигураций авто, которых нет в тестовой. И наоборот, в тестовой тоже есть автомобили, которых нет в тренировочной."
   ]
  },
  {
   "cell_type": "code",
   "execution_count": 339,
   "metadata": {},
   "outputs": [
    {
     "name": "stdout",
     "output_type": "stream",
     "text": [
      "================================\n",
      "Train - Test differences:\n",
      "\n",
      "730i 3.0 MT (218 л.с.)     6\n",
      "318i 1.9 AT (140 л.с.)     3\n",
      "840i 4.0 AT (286 л.с.)     2\n",
      "3.0 AT (231 л.с.)          1\n",
      "2.0d AT (190 л.с.) 4WD     2\n",
      "                          ..\n",
      "528Li 2.0 AT (245 л.с.)    1\n",
      "550i 4.8 MT (367 л.с.)     1\n",
      "316i 1.6 MT (122 л.с.)     1\n",
      "735Li 3.6 AT (272 л.с.)    5\n",
      "135i 3.0 AMT (306 л.с.)    1\n",
      "Name: name, Length: 278, dtype: int64\n",
      "================================\n",
      "Test - Train differences:\n",
      "\n",
      "528i 3.0 AT (258 л.с.) 4WD                 1\n",
      "420i 2.0 AT (184 л.с.)                     9\n",
      "CS 3.0 AMT (460 л.с.)                      1\n",
      "335i 3.0 AMT (306 л.с.)                    2\n",
      "520i 2.0 AT (129 л.с.)                     1\n",
      "330d xDrive 3.0d AT (245 л.с.) 4WD         3\n",
      "725Ld xDrive 2.0d AT (231 л.с.) 4WD        1\n",
      "118d 2.0d MT (122 л.с.)                    1\n",
      "440i 3.0 AT (326 л.с.)                     1\n",
      "550i xDrive 4.4 AT (450 л.с.) 4WD          1\n",
      "420d 2.0d AT (184 л.с.)                    4\n",
      "430i xDrive 2.0 AT (249 л.с.) 4WD          2\n",
      "428i xDrive 2.0 AT (245 л.с.) 4WD          8\n",
      "120d 2.0d AT (163 л.с.)                    1\n",
      "428i 2.0 AT (245 л.с.)                     1\n",
      "120d 2.0d MT (184 л.с.) 4WD                1\n",
      "545i 4.4 MT (333 л.с.)                     1\n",
      "3.0 AMT (410 л.с.)                         3\n",
      "M340i xDrive 3.0 AT (374 л.с.) 4WD         1\n",
      "420i xDrive 2.0 AT (184 л.с.) 4WD         10\n",
      "550i xDrive 4.4 AT (449 л.с.) 4WD          1\n",
      "525xi 3.0 MT (218 л.с.) 4WD                1\n",
      "750i xDrive 4.4 AT (530 л.с.) 4WD          2\n",
      "535d 3.0d AT (300 л.с.)                    1\n",
      "420d 2.0d AT (190 л.с.)                    4\n",
      "528i 3.0 AT (243 л.с.)                     1\n",
      "420d xDrive 2.0d AT (184 л.с.) 4WD         5\n",
      "320i 2.0 AT (129 л.с.)                     1\n",
      "420d xDrive 2.0d AT (190 л.с.) 4WD        12\n",
      "M235i 3.0 MT (326 л.с.)                    1\n",
      "Competition Package 4.4 AMT (575 л.с.)     1\n",
      "20i 2.0 MT (184 л.с.)                      1\n",
      "328i xDrive 2.0 MT (245 л.с.) 4WD          2\n",
      "325xi 2.5 AT (204 л.с.) 4WD                1\n",
      "318i 1.8 AT (140 л.с.)                     1\n",
      "430i 2.0 AT (249 л.с.)                     1\n",
      "330d 3.0d AT (258 л.с.)                    1\n",
      "530i 3.0 MT (272 л.с.)                     1\n",
      "120d 2.0d AT (190 л.с.)                    2\n",
      "320i 2.0 MT (122 л.с.)                     1\n",
      "Name: name, dtype: int64\n"
     ]
    }
   ],
   "source": [
    "difs = get_differences(train.name, test.name)"
   ]
  },
  {
   "cell_type": "markdown",
   "metadata": {},
   "source": [
    "Посмотрим на количество вариаций признака, если выделять из него только первую часть до пробела. Количество различных названий 173 и 135 для тренировочной и тестовой выборки соответственно. "
   ]
  },
  {
   "cell_type": "code",
   "execution_count": 340,
   "metadata": {},
   "outputs": [
    {
     "name": "stdout",
     "output_type": "stream",
     "text": [
      "173\n"
     ]
    }
   ],
   "source": [
    "models_train = set()\n",
    "for name in train.name:\n",
    "    models_train.add(name.split()[0])\n",
    "print(len(models_train))"
   ]
  },
  {
   "cell_type": "code",
   "execution_count": 341,
   "metadata": {},
   "outputs": [
    {
     "name": "stdout",
     "output_type": "stream",
     "text": [
      "135\n"
     ]
    }
   ],
   "source": [
    "models_test = set()\n",
    "for name in test.name:\n",
    "    models_test.add(name.split()[0])\n",
    "print(len(models_test))"
   ]
  },
  {
   "cell_type": "code",
   "execution_count": 342,
   "metadata": {},
   "outputs": [
    {
     "data": {
      "text/plain": [
       "array(['0.7hyb', '1.5', '1.5hyb', '1.9', '116i', '118d', '118i', '120d',\n",
       "       '120i', '123d', '125i', '130i', '135i', '16d', '18d', '18i', '2.0',\n",
       "       '2.0d', '2.2', '2.5', '2.8', '20d', '20i', '216d', '218d', '218i',\n",
       "       '220d', '220i', '23d', '23i', '25d', '25i', '28i', '3.0', '3.0d',\n",
       "       '3.0i', '3.0sd', '3.0si', '3.2', '3.3', '3.8', '30d', '30i', '315',\n",
       "       '316', '316d', '316i', '318', '318d', '318i', '320d', '320i',\n",
       "       '323i', '324d', '325d', '325i', '325xi', '328i', '330d', '330e',\n",
       "       '330i', '330xd', '330xi', '335d', '335i', '335xi', '340i', '35d',\n",
       "       '35i', '35is', '4.0', '4.4', '4.4i', '4.6is', '4.8i', '4.8is',\n",
       "       '4.9', '40d', '40e', '40i', '48i', '5.0', '50i', '518', '518i',\n",
       "       '520', '520Li', '520d', '520i', '523i', '524d', '525E', '525d',\n",
       "       '525i', '525xd', '525xi', '528Li', '528i', '530Li', '530d', '530i',\n",
       "       '530xd', '530xi', '535Li', '535d', '535i', '535xi', '540i', '545i',\n",
       "       '550i', '620d', '630d', '630i', '635d', '635i', '640d', '640i',\n",
       "       '645i', '650i', '725Ld', '725d', '728', '728Li', '728i', '730Ld',\n",
       "       '730Li', '730d', '730i', '733i', '735Li', '735i', '740Ld', '740Le',\n",
       "       '740Li', '740d', '740i', '745Li', '745d', '745i', '750Ld', '750Li',\n",
       "       '750d', '750i', '760Li', '760i', '840d', '840i', '850i', '94Ah',\n",
       "       'Active', 'ActiveHybrid', 'Competition', 'Electro', 'M135i',\n",
       "       'M140i', 'M235i', 'M340i', 'M40d', 'M40i', 'M50d', 'M50i', 'M550d',\n",
       "       'M550i', 'M760Li', 'M850i', 'N42', 'N46', 'S', 'sDrive18i',\n",
       "       'sDrive20i', 'xDrive18d', 'xDrive20d', 'xDrive20i'], dtype=object)"
      ]
     },
     "execution_count": 342,
     "metadata": {},
     "output_type": "execute_result"
    }
   ],
   "source": [
    "np.sort(pd.Series(list(models_train)).values)"
   ]
  },
  {
   "cell_type": "code",
   "execution_count": 343,
   "metadata": {},
   "outputs": [
    {
     "data": {
      "text/plain": [
       "array(['0.7hyb', '1.5', '1.5hyb', '1.9', '116i', '118d', '118i', '120d',\n",
       "       '120i', '123d', '125i', '130i', '135i', '16d', '18d', '18i', '2.0',\n",
       "       '2.0d', '2.2', '2.5', '2.8', '20d', '20i', '216d', '218d', '218i',\n",
       "       '220d', '220i', '23d', '23i', '25d', '25i', '28i', '3.0', '3.0d',\n",
       "       '3.0i', '3.0sd', '3.0si', '3.2', '3.3', '3.8', '30d', '30i', '315',\n",
       "       '316', '316d', '316i', '318', '318d', '318i', '320d', '320i',\n",
       "       '323i', '324d', '325d', '325i', '325xi', '328i', '330d', '330e',\n",
       "       '330i', '330xd', '330xi', '335d', '335i', '335xi', '340i', '35d',\n",
       "       '35i', '35is', '4.0', '4.4', '4.4i', '4.6is', '4.8i', '4.8is',\n",
       "       '4.9', '40d', '40e', '40i', '48i', '5.0', '50i', '518', '518i',\n",
       "       '520', '520Li', '520d', '520i', '523i', '524d', '525E', '525d',\n",
       "       '525i', '525xd', '525xi', '528Li', '528i', '530Li', '530d', '530i',\n",
       "       '530xd', '530xi', '535Li', '535d', '535i', '535xi', '540i', '545i',\n",
       "       '550i', '620d', '630d', '630i', '635d', '635i', '640d', '640i',\n",
       "       '645i', '650i', '725Ld', '725d', '728', '728Li', '728i', '730Ld',\n",
       "       '730Li', '730d', '730i', '733i', '735Li', '735i', '740Ld', '740Le',\n",
       "       '740Li', '740d', '740i', '745Li', '745d', '745i', '750Ld', '750Li',\n",
       "       '750d', '750i', '760Li', '760i', '840d', '840i', '850i', '94Ah',\n",
       "       'Active', 'ActiveHybrid', 'Competition', 'Electro', 'M135i',\n",
       "       'M140i', 'M235i', 'M340i', 'M40d', 'M40i', 'M50d', 'M50i', 'M550d',\n",
       "       'M550i', 'M760Li', 'M850i', 'N42', 'N46', 'S', 'sDrive18i',\n",
       "       'sDrive20i', 'xDrive18d', 'xDrive20d', 'xDrive20i'], dtype=object)"
      ]
     },
     "execution_count": 343,
     "metadata": {},
     "output_type": "execute_result"
    }
   ],
   "source": [
    "np.sort(pd.Series(list(models_train)).values)"
   ]
  },
  {
   "cell_type": "markdown",
   "metadata": {},
   "source": [
    "Найдем количество общих названий: "
   ]
  },
  {
   "cell_type": "code",
   "execution_count": 344,
   "metadata": {},
   "outputs": [
    {
     "data": {
      "text/plain": [
       "129"
      ]
     },
     "execution_count": 344,
     "metadata": {},
     "output_type": "execute_result"
    }
   ],
   "source": [
    "len(models_test.intersection(models_train))"
   ]
  },
  {
   "cell_type": "markdown",
   "metadata": {},
   "source": [
    "Ну, и посмотрим на отличия:"
   ]
  },
  {
   "cell_type": "markdown",
   "metadata": {},
   "source": [
    "Есть в test, но не в train"
   ]
  },
  {
   "cell_type": "code",
   "execution_count": 345,
   "metadata": {},
   "outputs": [
    {
     "data": {
      "text/plain": [
       "{'420d', '420i', '428i', '430i', '440i', 'CS'}"
      ]
     },
     "execution_count": 345,
     "metadata": {},
     "output_type": "execute_result"
    }
   ],
   "source": [
    "models_test.difference(models_train)"
   ]
  },
  {
   "cell_type": "markdown",
   "metadata": {},
   "source": [
    "Есть в train, но не в test"
   ]
  },
  {
   "cell_type": "code",
   "execution_count": 346,
   "metadata": {},
   "outputs": [
    {
     "name": "stdout",
     "output_type": "stream",
     "text": [
      "{'218d', '635d', '525E', '1.9', '518i', '315', '2.8', '740Le', '728Li', '535Li', '520', 'N42', '535xi', '728', '16d', '330e', '94Ah', '635i', '850i', '840i', 'S', '3.3', '316d', '318', '216d', '123d', '220d', '4.9', '40e', '524d', '3.8', 'sDrive20i', '745d', '335d', '3.2', 'N46', '2.0d', '325d', '2.5', '0.7hyb', 'M140i', '324d', '733i', '725d'}\n"
     ]
    }
   ],
   "source": [
    "print(models_train.difference(models_test))"
   ]
  },
  {
   "cell_type": "markdown",
   "metadata": {},
   "source": [
    "Как видно, довольно много общих названий. Возьмем из признака только первую часть (остальное есть в других признаках)"
   ]
  },
  {
   "cell_type": "code",
   "execution_count": 347,
   "metadata": {},
   "outputs": [],
   "source": [
    "test.name = test.name.apply(lambda x: x.split()[0])\n",
    "train.name = train.name.apply(lambda x: x.split()[0])"
   ]
  },
  {
   "cell_type": "code",
   "execution_count": 348,
   "metadata": {},
   "outputs": [
    {
     "data": {
      "text/plain": [
       "True"
      ]
     },
     "execution_count": 348,
     "metadata": {},
     "output_type": "execute_result"
    }
   ],
   "source": [
    "train.name.dtype == test.name.dtype"
   ]
  },
  {
   "cell_type": "markdown",
   "metadata": {},
   "source": [
    "## numberOfDoors (число дверей)"
   ]
  },
  {
   "cell_type": "markdown",
   "metadata": {},
   "source": [
    "Приведем данные к типу int32 и посмотрим на распределения:"
   ]
  },
  {
   "cell_type": "code",
   "execution_count": 349,
   "metadata": {},
   "outputs": [],
   "source": [
    "test.numberOfDoors = test.numberOfDoors.astype(\"int32\")\n",
    "train.number_of_doors = train.number_of_doors.astype(\"int32\")"
   ]
  },
  {
   "cell_type": "code",
   "execution_count": 350,
   "metadata": {},
   "outputs": [
    {
     "data": {
      "image/png": "[encoded data removed]",
      "text/plain": [
       "<Figure size 432x288 with 1 Axes>"
      ]
     },
     "metadata": {
      "needs_background": "light"
     },
     "output_type": "display_data"
    }
   ],
   "source": [
    "categorical_info(\"number_of_doors\", train, rotate=0, x_shift_mult=1/4)"
   ]
  },
  {
   "cell_type": "code",
   "execution_count": 351,
   "metadata": {},
   "outputs": [
    {
     "data": {
      "image/png": "[encoded data removed]",
      "text/plain": [
       "<Figure size 432x288 with 1 Axes>"
      ]
     },
     "metadata": {
      "needs_background": "light"
     },
     "output_type": "display_data"
    }
   ],
   "source": [
    "categorical_info(\"numberOfDoors\", test, rotate=0, x_shift_mult=1/4)"
   ]
  },
  {
   "cell_type": "markdown",
   "metadata": {},
   "source": [
    "Как видно, распределения выборок схожи, сделаем унификацию названий:"
   ]
  },
  {
   "cell_type": "code",
   "execution_count": 352,
   "metadata": {},
   "outputs": [],
   "source": [
    "test.rename(columns={\"numberOfDoors\": \"number_of_doors\"}, inplace=True)"
   ]
  },
  {
   "cell_type": "code",
   "execution_count": 353,
   "metadata": {},
   "outputs": [
    {
     "data": {
      "text/plain": [
       "True"
      ]
     },
     "execution_count": 353,
     "metadata": {},
     "output_type": "execute_result"
    }
   ],
   "source": [
    "train.number_of_doors.dtype == test.number_of_doors.dtype"
   ]
  },
  {
   "cell_type": "markdown",
   "metadata": {},
   "source": [
    "## productionDate (год производства автомобиля)"
   ]
  },
  {
   "cell_type": "markdown",
   "metadata": {},
   "source": [
    "Приведем данные к типу int32 и посмотрим на распределения:"
   ]
  },
  {
   "cell_type": "code",
   "execution_count": 354,
   "metadata": {},
   "outputs": [],
   "source": [
    "train.production_date = train.production_date.astype(\"int32\")\n",
    "test.productionDate = test.productionDate.astype(\"int32\")"
   ]
  },
  {
   "cell_type": "code",
   "execution_count": 355,
   "metadata": {},
   "outputs": [
    {
     "name": "stdout",
     "output_type": "stream",
     "text": [
      "min    1973.000000\n",
      "max    2020.000000\n",
      "25%    2007.000000\n",
      "50%    2011.000000\n",
      "75%    2016.000000\n",
      "std       7.430138\n",
      "Name: production_date, dtype: float64\n"
     ]
    },
    {
     "data": {
      "image/png": "[encoded data removed]",
      "text/plain": [
       "<Figure size 432x288 with 1 Axes>"
      ]
     },
     "metadata": {
      "needs_background": "light"
     },
     "output_type": "display_data"
    }
   ],
   "source": [
    "numeric_info(train.production_date, bins=15)"
   ]
  },
  {
   "cell_type": "code",
   "execution_count": 356,
   "metadata": {},
   "outputs": [
    {
     "name": "stdout",
     "output_type": "stream",
     "text": [
      "min    1981.000000\n",
      "max    2019.000000\n",
      "25%    2010.000000\n",
      "50%    2013.000000\n",
      "75%    2016.000000\n",
      "std       5.186576\n",
      "Name: productionDate, dtype: float64\n"
     ]
    },
    {
     "data": {
      "image/png": "[encoded data removed]",
      "text/plain": [
       "<Figure size 432x288 with 1 Axes>"
      ]
     },
     "metadata": {
      "needs_background": "light"
     },
     "output_type": "display_data"
    }
   ],
   "source": [
    "numeric_info(test.productionDate, bins=15)"
   ]
  },
  {
   "cell_type": "markdown",
   "metadata": {},
   "source": [
    "Визуальный анализ показывает, что в тренировочном наборе есть пик для автомобилей 2020 года выпуска. Посмотрим на различия подробнее. В тестовом наборе данных года выпуска автомобилей находятся в диапазоне от 1981 до 2019. В тренировочном наборе есть автомобили выходящие за эти рамки (2020, 1976, 1977, 1978, 1979, 1980). "
   ]
  },
  {
   "cell_type": "markdown",
   "metadata": {},
   "source": [
    "Сделаем преобразование признака, получив новый, а именно: найдем возраст авто"
   ]
  },
  {
   "cell_type": "code",
   "execution_count": 357,
   "metadata": {},
   "outputs": [],
   "source": [
    "train.production_date = 2020 - train.production_date\n",
    "test.productionDate = 2020 - test.productionDate"
   ]
  },
  {
   "cell_type": "code",
   "execution_count": 358,
   "metadata": {},
   "outputs": [],
   "source": [
    "test.rename(columns={\"productionDate\": \"age\"}, inplace=True)\n",
    "train.rename(columns={\"production_date\": \"age\"}, inplace=True)"
   ]
  },
  {
   "cell_type": "markdown",
   "metadata": {},
   "source": [
    "Посмотрим на распределения признака в обеих выборках после всех преобразований:"
   ]
  },
  {
   "cell_type": "code",
   "execution_count": 359,
   "metadata": {},
   "outputs": [
    {
     "name": "stdout",
     "output_type": "stream",
     "text": [
      "min     1.000000\n",
      "max    39.000000\n",
      "25%     4.000000\n",
      "50%     7.000000\n",
      "75%    10.000000\n",
      "std     5.186576\n",
      "Name: age, dtype: float64\n"
     ]
    },
    {
     "data": {
      "image/png": "[encoded data removed]",
      "text/plain": [
       "<Figure size 432x288 with 1 Axes>"
      ]
     },
     "metadata": {
      "needs_background": "light"
     },
     "output_type": "display_data"
    }
   ],
   "source": [
    "numeric_info(test.age, bins=15)"
   ]
  },
  {
   "cell_type": "code",
   "execution_count": 360,
   "metadata": {},
   "outputs": [
    {
     "name": "stdout",
     "output_type": "stream",
     "text": [
      "min     0.000000\n",
      "max    47.000000\n",
      "25%     4.000000\n",
      "50%     9.000000\n",
      "75%    13.000000\n",
      "std     7.430138\n",
      "Name: age, dtype: float64\n"
     ]
    },
    {
     "data": {
      "image/png": "[encoded data removed]",
      "text/plain": [
       "<Figure size 432x288 with 1 Axes>"
      ]
     },
     "metadata": {
      "needs_background": "light"
     },
     "output_type": "display_data"
    }
   ],
   "source": [
    "numeric_info(train.age, bins=15)"
   ]
  },
  {
   "cell_type": "markdown",
   "metadata": {},
   "source": [
    "## vehicleTransmission (тип трансмиссии)"
   ]
  },
  {
   "cell_type": "markdown",
   "metadata": {},
   "source": [
    "Сделаем переименование признака и посмотрим на распределение:"
   ]
  },
  {
   "cell_type": "code",
   "execution_count": 361,
   "metadata": {},
   "outputs": [],
   "source": [
    "trans_dict = {'AUTOMATIC': \"автоматическая\",\n",
    "              'MECHANICAL': \"механическая\",\n",
    "              'ROBOT': \"роботизированная\"\n",
    "              }\n",
    "train.vehicle_transmission = train.vehicle_transmission.map(trans_dict)"
   ]
  },
  {
   "cell_type": "code",
   "execution_count": 362,
   "metadata": {},
   "outputs": [
    {
     "data": {
      "image/png": "[encoded data removed]",
      "text/plain": [
       "<Figure size 432x288 with 1 Axes>"
      ]
     },
     "metadata": {
      "needs_background": "light"
     },
     "output_type": "display_data"
    }
   ],
   "source": [
    "categorical_info(\"vehicle_transmission\", train, rotate=0, x_shift_mult=1/4)"
   ]
  },
  {
   "cell_type": "code",
   "execution_count": 363,
   "metadata": {},
   "outputs": [
    {
     "data": {
      "image/png": "[encoded data removed]",
      "text/plain": [
       "<Figure size 432x288 with 1 Axes>"
      ]
     },
     "metadata": {
      "needs_background": "light"
     },
     "output_type": "display_data"
    }
   ],
   "source": [
    "categorical_info(\"vehicleTransmission\", test, rotate=0, x_shift_mult=1/4)"
   ]
  },
  {
   "cell_type": "markdown",
   "metadata": {},
   "source": [
    "Как видно, в тренировочной выборке процент автомобилей с механической и роботизированной коробкой чуть выше. Сделаем унификацию:"
   ]
  },
  {
   "cell_type": "code",
   "execution_count": 364,
   "metadata": {},
   "outputs": [],
   "source": [
    "trans_dict = {'автоматическая': \"AT\",\n",
    "              'механическая': \"MT\",\n",
    "              'роботизированная': \"RT\"\n",
    "              }\n",
    "train.vehicle_transmission = train.vehicle_transmission.map(trans_dict)\n",
    "test.vehicleTransmission = test.vehicleTransmission.map(trans_dict)"
   ]
  },
  {
   "cell_type": "code",
   "execution_count": 365,
   "metadata": {},
   "outputs": [],
   "source": [
    "test.rename(\n",
    "    columns={\"vehicleTransmission\": \"vehicle_transmission\"}, inplace=True)"
   ]
  },
  {
   "cell_type": "code",
   "execution_count": 366,
   "metadata": {},
   "outputs": [
    {
     "data": {
      "text/plain": [
       "True"
      ]
     },
     "execution_count": 366,
     "metadata": {},
     "output_type": "execute_result"
    }
   ],
   "source": [
    "train.vehicle_transmission.dtype == test.vehicle_transmission.dtype"
   ]
  },
  {
   "cell_type": "markdown",
   "metadata": {},
   "source": [
    "## engineDisplacement (объём двигателя)"
   ]
  },
  {
   "cell_type": "markdown",
   "metadata": {},
   "source": [
    "Приведём данные к числовым и в train, и в test. Значения \"undefined LTR\" (электромобили) заменим на 0 (как в данных с сайта для тренировочной выборки)"
   ]
  },
  {
   "cell_type": "code",
   "execution_count": 367,
   "metadata": {},
   "outputs": [],
   "source": [
    "test.engineDisplacement = test.engineDisplacement.apply(\n",
    "    lambda x: float(x.split()[0]) if x.split()[0] != \"undefined\" else float(0))"
   ]
  },
  {
   "cell_type": "code",
   "execution_count": 368,
   "metadata": {},
   "outputs": [],
   "source": [
    "train.engine_displacement = train.engine_displacement.map(\n",
    "    lambda x: float(round(x/1000, 1)))"
   ]
  },
  {
   "cell_type": "markdown",
   "metadata": {},
   "source": [
    "Рсапределения признака во многом похожи и имеют три пика для значений 2,3 и 4.5 литра. "
   ]
  },
  {
   "cell_type": "code",
   "execution_count": 369,
   "metadata": {},
   "outputs": [
    {
     "name": "stdout",
     "output_type": "stream",
     "text": [
      "min    0.000000\n",
      "max    6.600000\n",
      "25%    2.000000\n",
      "50%    2.500000\n",
      "75%    3.000000\n",
      "std    0.841743\n",
      "Name: engine_displacement, dtype: float64\n"
     ]
    },
    {
     "data": {
      "image/png": "[encoded data removed]",
      "text/plain": [
       "<Figure size 432x288 with 1 Axes>"
      ]
     },
     "metadata": {
      "needs_background": "light"
     },
     "output_type": "display_data"
    }
   ],
   "source": [
    "numeric_info(train.engine_displacement, bins=15)"
   ]
  },
  {
   "cell_type": "code",
   "execution_count": 370,
   "metadata": {},
   "outputs": [
    {
     "name": "stdout",
     "output_type": "stream",
     "text": [
      "min    0.000000\n",
      "max    6.600000\n",
      "25%    2.000000\n",
      "50%    2.500000\n",
      "75%    3.000000\n",
      "std    0.819378\n",
      "Name: engineDisplacement, dtype: float64\n"
     ]
    },
    {
     "data": {
      "image/png": "[encoded data removed]",
      "text/plain": [
       "<Figure size 432x288 with 1 Axes>"
      ]
     },
     "metadata": {
      "needs_background": "light"
     },
     "output_type": "display_data"
    }
   ],
   "source": [
    "numeric_info(test.engineDisplacement, bins=15)"
   ]
  },
  {
   "cell_type": "markdown",
   "metadata": {},
   "source": [
    "Анализ отличий показывает, что все виды объемов двигателей в тестовой выборке есть и в обучающей. Более того, в обучающей есть автомобили отличными объемами двигателя по сравнению с тестовой выборкой"
   ]
  },
  {
   "cell_type": "code",
   "execution_count": 371,
   "metadata": {},
   "outputs": [
    {
     "name": "stdout",
     "output_type": "stream",
     "text": [
      "================================\n",
      "Train - Test differences:\n",
      "\n",
      "0.6    28\n",
      "1.7     3\n",
      "2.3     5\n",
      "2.7     2\n",
      "4.9     5\n",
      "3.2    11\n",
      "3.8     2\n",
      "2.4    18\n",
      "3.9     6\n",
      "Name: engine_displacement, dtype: int64\n",
      "================================\n",
      "Test - Train differences:\n",
      "\n",
      "No differences\n"
     ]
    }
   ],
   "source": [
    "difs = get_differences(train.engine_displacement, test.engineDisplacement)"
   ]
  },
  {
   "cell_type": "code",
   "execution_count": 372,
   "metadata": {},
   "outputs": [],
   "source": [
    "test.rename(\n",
    "    columns={\"engineDisplacement\": \"engine_displacement\"}, inplace=True)"
   ]
  },
  {
   "cell_type": "markdown",
   "metadata": {},
   "source": [
    "Посмотрим на количество автомобилей с электрическими двигателями:"
   ]
  },
  {
   "cell_type": "code",
   "execution_count": 373,
   "metadata": {},
   "outputs": [
    {
     "data": {
      "text/plain": [
       "27"
      ]
     },
     "execution_count": 373,
     "metadata": {},
     "output_type": "execute_result"
    }
   ],
   "source": [
    "len(train[train.engine_displacement == 0.0])"
   ]
  },
  {
   "cell_type": "code",
   "execution_count": 374,
   "metadata": {},
   "outputs": [
    {
     "data": {
      "text/plain": [
       "1"
      ]
     },
     "execution_count": 374,
     "metadata": {},
     "output_type": "execute_result"
    }
   ],
   "source": [
    "len(test[test.engine_displacement == 0.0])"
   ]
  },
  {
   "cell_type": "markdown",
   "metadata": {},
   "source": [
    "Видим, что в тестовой выборке только один электрокар, а в тренировочной целых 27. Добавим новый признак \"is_electro\" принимающий значение 1, если двигатель электрический и 0, если нет:"
   ]
  },
  {
   "cell_type": "code",
   "execution_count": 375,
   "metadata": {},
   "outputs": [],
   "source": [
    "train[\"is_electro\"] = train.engine_displacement.apply(\n",
    "    lambda x: 0 if x > 0 else 1)\n",
    "test[\"is_electro\"] = test.engine_displacement.apply(\n",
    "    lambda x: 0 if x > 0 else 1)"
   ]
  },
  {
   "cell_type": "code",
   "execution_count": 376,
   "metadata": {},
   "outputs": [
    {
     "data": {
      "text/plain": [
       "True"
      ]
     },
     "execution_count": 376,
     "metadata": {},
     "output_type": "execute_result"
    }
   ],
   "source": [
    "train.engine_displacement.dtype == test.engine_displacement.dtype"
   ]
  },
  {
   "cell_type": "markdown",
   "metadata": {},
   "source": [
    "## enginePower (мощность двигателя)"
   ]
  },
  {
   "cell_type": "markdown",
   "metadata": {},
   "source": [
    "Приведем тестовые данные к числовому виду и посмотрим на распределения:"
   ]
  },
  {
   "cell_type": "code",
   "execution_count": 377,
   "metadata": {},
   "outputs": [],
   "source": [
    "test.enginePower = test.enginePower.map(lambda x: int(x.split()[0]))"
   ]
  },
  {
   "cell_type": "code",
   "execution_count": 378,
   "metadata": {},
   "outputs": [
    {
     "name": "stdout",
     "output_type": "stream",
     "text": [
      "min     75.000000\n",
      "max    625.000000\n",
      "25%    184.000000\n",
      "50%    218.000000\n",
      "75%    272.000000\n",
      "std     93.191001\n",
      "Name: engine_power, dtype: float64\n"
     ]
    },
    {
     "data": {
      "image/png": "[encoded data removed]",
      "text/plain": [
       "<Figure size 432x288 with 1 Axes>"
      ]
     },
     "metadata": {
      "needs_background": "light"
     },
     "output_type": "display_data"
    }
   ],
   "source": [
    "numeric_info(train.engine_power, bins=10)"
   ]
  },
  {
   "cell_type": "code",
   "execution_count": 379,
   "metadata": {},
   "outputs": [
    {
     "name": "stdout",
     "output_type": "stream",
     "text": [
      "min     90.000000\n",
      "max    625.000000\n",
      "25%    184.000000\n",
      "50%    231.000000\n",
      "75%    272.000000\n",
      "std     91.429294\n",
      "Name: enginePower, dtype: float64\n"
     ]
    },
    {
     "data": {
      "image/png": "[encoded data removed]",
      "text/plain": [
       "<Figure size 432x288 with 1 Axes>"
      ]
     },
     "metadata": {
      "needs_background": "light"
     },
     "output_type": "display_data"
    }
   ],
   "source": [
    "numeric_info(test.enginePower, bins=10)"
   ]
  },
  {
   "cell_type": "markdown",
   "metadata": {},
   "source": [
    "Видно, что распределения схожи для обеих выборок, но посмотрим и на различия. Видим, что тестовый датасет содержит лишь небольшое количество автомобилей (3 шт.) с объемами двигателей, которых нет в тренировочной выборке. "
   ]
  },
  {
   "cell_type": "code",
   "execution_count": 380,
   "metadata": {},
   "outputs": [
    {
     "name": "stdout",
     "output_type": "stream",
     "text": [
      "================================\n",
      "Train - Test differences:\n",
      "\n",
      "224     1\n",
      "321     2\n",
      "98      2\n",
      "387    10\n",
      "480     2\n",
      "233     3\n",
      "234     3\n",
      "75      5\n",
      "139     3\n",
      "109     1\n",
      "171     6\n",
      "238    17\n",
      "304     1\n",
      "146     1\n",
      "116    20\n",
      "86      3\n",
      "343     5\n",
      "510     4\n",
      "Name: engine_power, dtype: int64\n",
      "================================\n",
      "Test - Train differences:\n",
      "\n",
      "449    1\n",
      "460    1\n",
      "374    1\n",
      "Name: enginePower, dtype: int64\n"
     ]
    }
   ],
   "source": [
    "difs = get_differences(train.engine_power, test.enginePower)"
   ]
  },
  {
   "cell_type": "code",
   "execution_count": 381,
   "metadata": {},
   "outputs": [],
   "source": [
    "test.rename(columns={\"enginePower\": \"engine_power\"}, inplace=True)"
   ]
  },
  {
   "cell_type": "code",
   "execution_count": 382,
   "metadata": {},
   "outputs": [
    {
     "data": {
      "text/plain": [
       "True"
      ]
     },
     "execution_count": 382,
     "metadata": {},
     "output_type": "execute_result"
    }
   ],
   "source": [
    "train.engine_power.dtype == test.engine_power.dtype"
   ]
  },
  {
   "cell_type": "markdown",
   "metadata": {},
   "source": [
    "## mileage (пробег)"
   ]
  },
  {
   "cell_type": "markdown",
   "metadata": {},
   "source": [
    "Приведем данные к типу int32 и посмотрим на распределения:"
   ]
  },
  {
   "cell_type": "code",
   "execution_count": 383,
   "metadata": {},
   "outputs": [],
   "source": [
    "train.mileage = train.mileage.astype(\"int32\")\n",
    "test.mileage = test.mileage.astype(\"int32\")"
   ]
  },
  {
   "cell_type": "code",
   "execution_count": 384,
   "metadata": {},
   "outputs": [
    {
     "name": "stdout",
     "output_type": "stream",
     "text": [
      "min          0.000000\n",
      "max    1000000.000000\n",
      "25%      50132.000000\n",
      "50%     131750.000000\n",
      "75%     208000.000000\n",
      "std     113346.872297\n",
      "Name: mileage, dtype: float64\n"
     ]
    },
    {
     "data": {
      "image/png": "[encoded data removed]",
      "text/plain": [
       "<Figure size 432x288 with 1 Axes>"
      ]
     },
     "metadata": {
      "needs_background": "light"
     },
     "output_type": "display_data"
    }
   ],
   "source": [
    "numeric_info(train.mileage, bins=15)"
   ]
  },
  {
   "cell_type": "code",
   "execution_count": 385,
   "metadata": {},
   "outputs": [
    {
     "name": "stdout",
     "output_type": "stream",
     "text": [
      "min          1.000000\n",
      "max    1000000.000000\n",
      "25%      58562.000000\n",
      "50%     108000.000000\n",
      "75%     160789.000000\n",
      "std      85125.949826\n",
      "Name: mileage, dtype: float64\n"
     ]
    },
    {
     "data": {
      "image/png": "[encoded data removed]",
      "text/plain": [
       "<Figure size 432x288 with 1 Axes>"
      ]
     },
     "metadata": {
      "needs_background": "light"
     },
     "output_type": "display_data"
    }
   ],
   "source": [
    "numeric_info(test.mileage, bins=15)"
   ]
  },
  {
   "cell_type": "markdown",
   "metadata": {},
   "source": [
    "Видим, что распределния схожи за исключением лишь пика около 0 для новых автомобилей без пробега в тренировочной выборке"
   ]
  },
  {
   "cell_type": "code",
   "execution_count": 386,
   "metadata": {},
   "outputs": [
    {
     "data": {
      "text/plain": [
       "True"
      ]
     },
     "execution_count": 386,
     "metadata": {},
     "output_type": "execute_result"
    }
   ],
   "source": [
    "train.mileage.dtype == test.mileage.dtype"
   ]
  },
  {
   "cell_type": "markdown",
   "metadata": {},
   "source": [
    "Добавим новый признак: разделим пробег на группы, исходя из того, что в среднем авто (данные Автостат) проходит за год 17000 км каждая группа будет грубо (не всегда пробег правдив) отображать количество лет эксплуатации. "
   ]
  },
  {
   "cell_type": "code",
   "execution_count": 387,
   "metadata": {},
   "outputs": [],
   "source": [
    "test[\"exp_year\"] = test.mileage.apply(\n",
    "    lambda x: x//17000 if x <= 400000 else 400000//17000+1)\n",
    "train[\"exp_year\"] = train.mileage.apply(\n",
    "    lambda x: x//17000 if x <= 400000 else 400000//17000+1)"
   ]
  },
  {
   "cell_type": "markdown",
   "metadata": {},
   "source": [
    "## Комплектация"
   ]
  },
  {
   "cell_type": "markdown",
   "metadata": {},
   "source": [
    "Займемся теперь парсингом комплектации автомобилей"
   ]
  },
  {
   "cell_type": "code",
   "execution_count": 388,
   "metadata": {},
   "outputs": [],
   "source": [
    "import re"
   ]
  },
  {
   "cell_type": "code",
   "execution_count": 389,
   "metadata": {},
   "outputs": [],
   "source": [
    "options_unique_train = set()  # здесь соберем уникальные опции\n",
    "options_list_train = []  # здесь все опции\n",
    "row_options_train = []  # здесь опции для каждого отдельного авто\n",
    "for idx, val in enumerate(train.complectation):\n",
    "    row_options_train.append([])\n",
    "    for opt in val.split(\": True\"):\n",
    "        opt_var = re.sub(r'[\\W_]+', '', opt)\n",
    "        if opt_var != '':\n",
    "            options_unique_train.add(opt_var)\n",
    "            row_options_train[idx].append(opt_var)\n",
    "            options_list_train.append(opt_var)"
   ]
  },
  {
   "cell_type": "markdown",
   "metadata": {},
   "source": [
    "Далее создадим новый датафрейм, содержащий в себе цену и различные значения комплектации для оценки важности признаков:"
   ]
  },
  {
   "cell_type": "code",
   "execution_count": 390,
   "metadata": {},
   "outputs": [],
   "source": [
    "#eq_data = pd.DataFrame(train.price)\n",
    "# for option in options_unique_train:\n",
    "#    eq_data[option]=0\n",
    "#n = len(row_options_train)\n",
    "# for row, option in enumerate(row_options_train):\n",
    "#        print(round(100*row/(n-1),2),\"%\",end='\\r')\n",
    "#        eq_data.loc[row,option]=1\n",
    "#eq_data.to_csv(\"features.csv\", index = False, header = True)"
   ]
  },
  {
   "cell_type": "markdown",
   "metadata": {},
   "source": [
    "Отберем только те значения признака, которые имеют корреляцию с ценой (по модулю) больше 0.3"
   ]
  },
  {
   "cell_type": "code",
   "execution_count": 391,
   "metadata": {},
   "outputs": [],
   "source": [
    "#eq_data = pd.read_csv(\"features.csv\")\n",
    "#cor_target = abs(eq_data.corr()[\"price\"])\n",
    "#relevant_features = cor_target[cor_target>0.3]\n",
    "#relevant_features.sort_values(ascending = False)[77:107]"
   ]
  },
  {
   "cell_type": "code",
   "execution_count": 392,
   "metadata": {},
   "outputs": [
    {
     "data": {
      "text/plain": [
       "(18417, 24)"
      ]
     },
     "execution_count": 392,
     "metadata": {},
     "output_type": "execute_result"
    }
   ],
   "source": [
    "train.shape"
   ]
  },
  {
   "cell_type": "markdown",
   "metadata": {},
   "source": [
    "Добавим столбцы в тренировочный датасет с опциями, корреляция которых с ценой больше чем 0.3:"
   ]
  },
  {
   "cell_type": "code",
   "execution_count": 393,
   "metadata": {},
   "outputs": [],
   "source": [
    "options_add = ['glonass', 'wirelesscharger', 'ledlights', 'applecarplay', 'autopark', 'laserlights', 'keylessentry', 'bodykit',\n",
    "               'highbeamassist', 'paintmetallic', 'powerlatchingdoors', 'bas', 'electrotrunk', 'activsuspension',\n",
    "               'frontseatsheatvent', 'projectiondisplay', 'decorativeinteriorlighting', 'electronicgagepanel',\n",
    "               'multizoneclimatecontrol', 'automirrors', 'adaptivelight', 'tyrepressure', 'isofix', 'wheelheat',\n",
    "               '360camera', 'usb', 'bluetooth', 'asr', 'lightsensor', 'airbagcurtain', 'navigation', 'startbutton',\n",
    "               'voicerecognition', 'rainsensor',  'collisionpreventionassist', '12vsocket', 'drl', 'airsuspension',\n",
    "               'lanekeepingassist',  'multiwheel', 'blindspot', 'roofrails', 'passengerseatelectric', 'wheelleather',\n",
    "               '22inchwheels', 'steeringwheelgearshiftpaddles', 'thirdrearheadrest', 'sportseats', 'frontcentrearmrest',\n",
    "               'trafficsignrecognition', 'remoteenginestart', 'mirrorsheat']\n",
    "\n",
    "new_features = options_add\n",
    "\n",
    "for idx, option_add in enumerate(options_add):\n",
    "    pars = []\n",
    "    for val in row_options_train:\n",
    "        if option_add in val:\n",
    "            pars.append(1)\n",
    "        else:\n",
    "            pars.append(0)\n",
    "    train[new_features[idx]] = pd.Series(pars)"
   ]
  },
  {
   "cell_type": "code",
   "execution_count": 414,
   "metadata": {},
   "outputs": [
    {
     "data": {
      "text/plain": [
       "(18417, 76)"
      ]
     },
     "execution_count": 414,
     "metadata": {},
     "output_type": "execute_result"
    }
   ],
   "source": [
    "train.shape"
   ]
  },
  {
   "cell_type": "markdown",
   "metadata": {},
   "source": [
    "Аналогичные преобразования проделаем с тестовым датасетом:"
   ]
  },
  {
   "cell_type": "code",
   "execution_count": 395,
   "metadata": {},
   "outputs": [],
   "source": [
    "options_unique_test = set()\n",
    "options_list_test = []\n",
    "row_options_test = []\n",
    "for idx, val in enumerate(test[\"Комплектация\"]):\n",
    "    row_options_test.append([])\n",
    "    for opt in val.split(\"},{\"):\n",
    "        if opt == '[]':\n",
    "            continue\n",
    "        for var in opt.split('\"values\":')[1].split(\",\"):\n",
    "            opt_var = re.sub(r'[\\W_]+', '', var)\n",
    "            if opt_var != '':\n",
    "                options_unique_test.add(opt_var)\n",
    "                row_options_test[idx].append(opt_var)\n",
    "                options_list_test.append(opt_var)"
   ]
  },
  {
   "cell_type": "code",
   "execution_count": 415,
   "metadata": {},
   "outputs": [
    {
     "data": {
      "text/plain": [
       "(3837, 77)"
      ]
     },
     "execution_count": 415,
     "metadata": {},
     "output_type": "execute_result"
    }
   ],
   "source": [
    "test.shape"
   ]
  },
  {
   "cell_type": "code",
   "execution_count": 397,
   "metadata": {},
   "outputs": [],
   "source": [
    "options_add = ['ЭРАГЛОНАСС', 'Беспроводнаязарядкадлясмартфона', 'Светодиодныефары', 'CarPlay', 'Системаавтоматическойпарковки', 'Лазерныефары',\n",
    "               'Системадоступабезключа', 'Обвескузова', 'Системауправлениядальнимсветом', 'Металлик', 'Доводчикдверей',\n",
    "               'СистемапомощиприторможенииBAS', 'Электроприводкрышкибагажника', 'Активнаяподвеска', 'Вентиляцияпереднихсидений',\n",
    "               'Проекционныйдисплей', 'Декоративнаяподсветкасалона', 'Электроннаяприборнаяпанель', 'Климатконтрольмногозонный',\n",
    "               'Электроскладываниезеркал', 'Системаадаптивногоосвещения', 'Датчикдавлениявшинах', 'КреплениедетскогокреслапереднийрядISOFIX',\n",
    "               'Обогреврулевогоколеса', 'Камера360', 'USB', 'Bluetooth', 'АнтипробуксовочнаясистемаASR', 'Датчиксвета',\n",
    "               'Подушкибезопасностиоконныешторки', 'Навигационнаясистема', 'Запускдвигателяскнопки', 'Голосовоеуправление',\n",
    "               'Датчикдождя', 'Системапредотвращениястолкновения', 'Розетка12V', 'Дневныеходовыеогни', 'Пневмоподвеска',\n",
    "               'Системаконтролязаполосойдвижения', 'Мультифункциональноерулевоеколесо', 'Системаконтроляслепыхзон',\n",
    "               'Рейлингинакрыше', 'Электрорегулировкапереднихсидений', 'Отделкакожейрулевогоколеса', 'Диски22',\n",
    "               'Подрулевыелепесткипереключенияпередач', 'Третийзаднийподголовник', 'Спортивныепередниесиденья',\n",
    "               'Переднийцентральныйподлокотник', 'Системараспознаваниядорожныхзнаков', 'Дистанционныйзапускдвигателя',\n",
    "               'Электрообогревбоковыхзеркал']\n",
    "\n",
    "for idx, option_add in enumerate(options_add):\n",
    "    pars = []\n",
    "    for val in row_options_test:\n",
    "        if option_add in val:\n",
    "            pars.append(1)\n",
    "        else:\n",
    "            pars.append(0)\n",
    "    test[new_features[idx]] = pd.Series(pars)"
   ]
  },
  {
   "cell_type": "code",
   "execution_count": 416,
   "metadata": {},
   "outputs": [
    {
     "data": {
      "text/plain": [
       "(3837, 77)"
      ]
     },
     "execution_count": 416,
     "metadata": {},
     "output_type": "execute_result"
    }
   ],
   "source": [
    "test.shape"
   ]
  },
  {
   "cell_type": "markdown",
   "metadata": {},
   "source": [
    "## Привод"
   ]
  },
  {
   "cell_type": "markdown",
   "metadata": {},
   "source": [
    "Унифицируем названия признаков в выборках и посмотрим на распределения:"
   ]
  },
  {
   "cell_type": "code",
   "execution_count": 399,
   "metadata": {},
   "outputs": [],
   "source": [
    "gear_dict = {'ALL_WHEEL_DRIVE': \"полный\",\n",
    "             'REAR_DRIVE': \"задний\",\n",
    "             'FORWARD_CONTROL': \"передний\"\n",
    "             }\n",
    "train.gear_type = train.gear_type.map(gear_dict)"
   ]
  },
  {
   "cell_type": "code",
   "execution_count": 417,
   "metadata": {},
   "outputs": [
    {
     "data": {
      "image/png": "[encoded data removed]",
      "text/plain": [
       "<Figure size 432x288 with 1 Axes>"
      ]
     },
     "metadata": {
      "needs_background": "light"
     },
     "output_type": "display_data"
    }
   ],
   "source": [
    "categorical_info(\"gear_type\", train, rotate=0, x_shift_mult=1/3)"
   ]
  },
  {
   "cell_type": "code",
   "execution_count": 401,
   "metadata": {},
   "outputs": [
    {
     "data": {
      "image/png": "[encoded data removed]",
      "text/plain": [
       "<Figure size 432x288 with 1 Axes>"
      ]
     },
     "metadata": {
      "needs_background": "light"
     },
     "output_type": "display_data"
    }
   ],
   "source": [
    "categorical_info(\"Привод\", test, rotate=0, x_shift_mult=1/3)"
   ]
  },
  {
   "cell_type": "markdown",
   "metadata": {},
   "source": [
    "Распределения признака в обеих выборках близки"
   ]
  },
  {
   "cell_type": "code",
   "execution_count": 402,
   "metadata": {},
   "outputs": [],
   "source": [
    "test.rename(columns={\"Привод\": \"gear_type\"}, inplace=True)"
   ]
  },
  {
   "cell_type": "code",
   "execution_count": 403,
   "metadata": {},
   "outputs": [],
   "source": [
    "gear_dict = {'полный': \"full\",\n",
    "             'задний': \"rear\",\n",
    "             'передний': \"forward\"\n",
    "             }\n",
    "train.gear_type = train.gear_type.map(gear_dict)\n",
    "test.gear_type = test.gear_type.map(gear_dict)"
   ]
  },
  {
   "cell_type": "code",
   "execution_count": 404,
   "metadata": {},
   "outputs": [
    {
     "data": {
      "text/plain": [
       "True"
      ]
     },
     "execution_count": 404,
     "metadata": {},
     "output_type": "execute_result"
    }
   ],
   "source": [
    "train.gear_type.dtype == test.gear_type.dtype"
   ]
  },
  {
   "cell_type": "markdown",
   "metadata": {},
   "source": [
    "## Руль "
   ]
  },
  {
   "cell_type": "code",
   "execution_count": 405,
   "metadata": {},
   "outputs": [
    {
     "name": "stdout",
     "output_type": "stream",
     "text": [
      "Тестовый датасет полностью представлен автомобилями с типом руля Левый\n"
     ]
    }
   ],
   "source": [
    "if len(test[\"Руль\"].unique()) == 1:\n",
    "    print(\n",
    "        f'Тестовый датасет полностью представлен автомобилями с типом руля {test[\"Руль\"].unique()[0]}')"
   ]
  },
  {
   "cell_type": "markdown",
   "metadata": {},
   "source": [
    "А в тренировочном есть небольшое количество праворульных авто, поэтому оставим этот признак. "
   ]
  },
  {
   "cell_type": "code",
   "execution_count": 406,
   "metadata": {},
   "outputs": [
    {
     "data": {
      "image/png": "[encoded data removed]",
      "text/plain": [
       "<Figure size 432x288 with 1 Axes>"
      ]
     },
     "metadata": {
      "needs_background": "light"
     },
     "output_type": "display_data"
    }
   ],
   "source": [
    "categorical_info(\"steering_wheel\", train, rotate=0, x_shift_mult=1/3)"
   ]
  },
  {
   "cell_type": "code",
   "execution_count": 407,
   "metadata": {},
   "outputs": [],
   "source": [
    "test.rename(columns={\"Руль\": \"steering_wheel\"}, inplace=True)"
   ]
  },
  {
   "cell_type": "code",
   "execution_count": 408,
   "metadata": {},
   "outputs": [],
   "source": [
    "wheel_dict = {'Левый': \"LEFT\"\n",
    "              }\n",
    "test.steering_wheel = test.steering_wheel.map(wheel_dict)"
   ]
  },
  {
   "cell_type": "code",
   "execution_count": 409,
   "metadata": {},
   "outputs": [
    {
     "data": {
      "text/plain": [
       "True"
      ]
     },
     "execution_count": 409,
     "metadata": {},
     "output_type": "execute_result"
    }
   ],
   "source": [
    "train.steering_wheel.dtype == test.steering_wheel.dtype"
   ]
  },
  {
   "cell_type": "markdown",
   "metadata": {},
   "source": [
    "## Состояние"
   ]
  },
  {
   "cell_type": "code",
   "execution_count": 410,
   "metadata": {},
   "outputs": [
    {
     "name": "stdout",
     "output_type": "stream",
     "text": [
      "Тестовый датасет полностью представлен автомобилями с состоянием: Не требует ремонта\n"
     ]
    }
   ],
   "source": [
    "print(\n",
    "    f'Тестовый датасет полностью представлен автомобилями с состоянием: {test[\"Состояние\"].unique()[0]}')"
   ]
  },
  {
   "cell_type": "code",
   "execution_count": 411,
   "metadata": {},
   "outputs": [
    {
     "name": "stdout",
     "output_type": "stream",
     "text": [
      "Тренировочный датасет полностью представлен автомобилями с состоянием not_damage: True\n"
     ]
    }
   ],
   "source": [
    "print(\n",
    "    f'Тренировочный датасет полностью представлен автомобилями с состоянием not_damage: {train[\"not_damage\"].unique()[0]}')"
   ]
  },
  {
   "cell_type": "markdown",
   "metadata": {},
   "source": [
    "Как видно, все автомобили тренировочной выборки тоже не требуют ремонта, исключим признак из рассмотрения"
   ]
  },
  {
   "cell_type": "code",
   "execution_count": 412,
   "metadata": {},
   "outputs": [],
   "source": [
    "test.rename(columns={\"Состояние\": \"not_damage\"}, inplace=True)"
   ]
  },
  {
   "cell_type": "code",
   "execution_count": 413,
   "metadata": {},
   "outputs": [
    {
     "data": {
      "text/plain": [
       "False"
      ]
     },
     "execution_count": 413,
     "metadata": {},
     "output_type": "execute_result"
    }
   ],
   "source": [
    "train.not_damage.dtype == test.not_damage.dtype"
   ]
  },
  {
   "cell_type": "markdown",
   "metadata": {},
   "source": [
    "## Владельцы"
   ]
  },
  {
   "cell_type": "markdown",
   "metadata": {},
   "source": [
    "У признака из обучающей выборки имеются пропуски:"
   ]
  },
  {
   "cell_type": "code",
   "execution_count": 418,
   "metadata": {},
   "outputs": [
    {
     "name": "stdout",
     "output_type": "stream",
     "text": [
      "15.0%\n"
     ]
    }
   ],
   "source": [
    "print(100*round(sum(train.owners.isna())/len(train), 2), \"%\", sep=\"\")"
   ]
  },
  {
   "cell_type": "code",
   "execution_count": 419,
   "metadata": {},
   "outputs": [],
   "source": [
    "owners_dict = {1.0: \"one\",\n",
    "               2.0: \"two\",\n",
    "               3.0: \"three_more\",\n",
    "               np.nan: np.nan\n",
    "               }\n",
    "train.owners = train.owners.map(owners_dict)"
   ]
  },
  {
   "cell_type": "markdown",
   "metadata": {},
   "source": [
    "Количество владельцев во многом зависит от возраста авто. Посмотрим на медианы возраста авто с пропущенными значениями количества владельцев:"
   ]
  },
  {
   "cell_type": "code",
   "execution_count": 420,
   "metadata": {},
   "outputs": [
    {
     "name": "stdout",
     "output_type": "stream",
     "text": [
      "three_more 12.0\n",
      "two 8.0\n",
      "one 4.0\n"
     ]
    }
   ],
   "source": [
    "for owners in list(train.owners.value_counts().index):\n",
    "    print(owners, train[train.owners == owners].age.median())"
   ]
  },
  {
   "cell_type": "markdown",
   "metadata": {},
   "source": [
    "Также посмотрим на конкретные значения возраста для пропусков:"
   ]
  },
  {
   "cell_type": "code",
   "execution_count": 421,
   "metadata": {},
   "outputs": [
    {
     "data": {
      "text/plain": [
       "0     2711\n",
       "1       57\n",
       "2        6\n",
       "17       2\n",
       "6        1\n",
       "Name: age, dtype: int64"
      ]
     },
     "execution_count": 421,
     "metadata": {},
     "output_type": "execute_result"
    }
   ],
   "source": [
    "train[train.owners.isna()].age.value_counts()"
   ]
  },
  {
   "cell_type": "markdown",
   "metadata": {},
   "source": [
    "Заменим пропуски по правилу: если старше 12 лет, то три и более владельцев, если моложе 10 и старше 6, то 2, иначе - 1"
   ]
  },
  {
   "cell_type": "code",
   "execution_count": 422,
   "metadata": {},
   "outputs": [],
   "source": [
    "def is_missing(owner, year):\n",
    "\n",
    "    if pd.isnull(owner):\n",
    "        if year <= 6:\n",
    "            return \"one\"\n",
    "        elif year <= 10:\n",
    "            return \"two\"\n",
    "        else:\n",
    "            return \"three_more\"\n",
    "    else:\n",
    "        return owner\n",
    "\n",
    "\n",
    "train.owners = train.apply(lambda x: is_missing(x['owners'], x['age']), axis=1)"
   ]
  },
  {
   "cell_type": "code",
   "execution_count": 702,
   "metadata": {},
   "outputs": [
    {
     "data": {
      "image/png": "[encoded data removed]",
      "text/plain": [
       "<Figure size 432x288 with 1 Axes>"
      ]
     },
     "metadata": {
      "needs_background": "light"
     },
     "output_type": "display_data"
    }
   ],
   "source": [
    "categorical_info(\"owners\", train, rotate=0, x_shift_mult=1/3)"
   ]
  },
  {
   "cell_type": "code",
   "execution_count": 426,
   "metadata": {},
   "outputs": [],
   "source": [
    "test.rename(columns={\"Владельцы\": \"owners\"}, inplace=True)"
   ]
  },
  {
   "cell_type": "code",
   "execution_count": 430,
   "metadata": {},
   "outputs": [
    {
     "data": {
      "image/png": "[encoded data removed]",
      "text/plain": [
       "<Figure size 432x288 with 1 Axes>"
      ]
     },
     "metadata": {
      "needs_background": "light"
     },
     "output_type": "display_data"
    }
   ],
   "source": [
    "categorical_info(\"owners\", test, rotate=0, x_shift_mult=1/3)"
   ]
  },
  {
   "cell_type": "markdown",
   "metadata": {},
   "source": [
    "Сделаем унификацию названий признака:"
   ]
  },
  {
   "cell_type": "code",
   "execution_count": 428,
   "metadata": {},
   "outputs": [],
   "source": [
    "owners_dict = {'1\\xa0владелец': \"one\",\n",
    "               '2\\xa0владельца': \"two\",\n",
    "               '3 или более': \"three_more\"\n",
    "               }\n",
    "test.owners = test.owners.map(owners_dict)"
   ]
  },
  {
   "cell_type": "code",
   "execution_count": 429,
   "metadata": {},
   "outputs": [
    {
     "data": {
      "text/plain": [
       "True"
      ]
     },
     "execution_count": 429,
     "metadata": {},
     "output_type": "execute_result"
    }
   ],
   "source": [
    "train.owners.dtype == test.owners.dtype"
   ]
  },
  {
   "cell_type": "markdown",
   "metadata": {},
   "source": [
    "## ПТС"
   ]
  },
  {
   "cell_type": "markdown",
   "metadata": {},
   "source": [
    "У признака из обучающей выборки имеются пропуски:"
   ]
  },
  {
   "cell_type": "code",
   "execution_count": 431,
   "metadata": {},
   "outputs": [
    {
     "data": {
      "text/plain": [
       "(18417, 76)"
      ]
     },
     "execution_count": 431,
     "metadata": {},
     "output_type": "execute_result"
    }
   ],
   "source": [
    "train.shape"
   ]
  },
  {
   "cell_type": "code",
   "execution_count": 432,
   "metadata": {},
   "outputs": [
    {
     "data": {
      "text/plain": [
       "197"
      ]
     },
     "execution_count": 432,
     "metadata": {},
     "output_type": "execute_result"
    }
   ],
   "source": [
    "sum(train.pts_origin.isna())"
   ]
  },
  {
   "cell_type": "code",
   "execution_count": 433,
   "metadata": {},
   "outputs": [
    {
     "name": "stdout",
     "output_type": "stream",
     "text": [
      "1.0697%\n"
     ]
    }
   ],
   "source": [
    "print(100*round(sum(train.pts_origin.isna())/len(train), 6), \"%\", sep=\"\")"
   ]
  },
  {
   "cell_type": "markdown",
   "metadata": {},
   "source": [
    "Заполним nan новой категорией 'unknown'"
   ]
  },
  {
   "cell_type": "code",
   "execution_count": 434,
   "metadata": {},
   "outputs": [],
   "source": [
    "#train.dropna(subset = [\"pts_origin\"],inplace=True)\n",
    "train.pts_origin.fillna(\"unknown\", inplace=True)"
   ]
  },
  {
   "cell_type": "code",
   "execution_count": 435,
   "metadata": {},
   "outputs": [],
   "source": [
    "pts_dict = {'ORIGINAL': \"original\",\n",
    "            'DUPLICATE': \"duplicate\",\n",
    "            \"unknown\": \"unknown\"\n",
    "            }\n",
    "train.pts_origin = train.pts_origin.map(pts_dict)"
   ]
  },
  {
   "cell_type": "code",
   "execution_count": 436,
   "metadata": {},
   "outputs": [
    {
     "data": {
      "image/png": "[encoded data removed]",
      "text/plain": [
       "<Figure size 432x288 with 1 Axes>"
      ]
     },
     "metadata": {
      "needs_background": "light"
     },
     "output_type": "display_data"
    }
   ],
   "source": [
    "categorical_info(\"pts_origin\", train, rotate=0, x_shift_mult=1/3)"
   ]
  },
  {
   "cell_type": "code",
   "execution_count": 437,
   "metadata": {},
   "outputs": [
    {
     "data": {
      "image/png": "[encoded data removed]",
      "text/plain": [
       "<Figure size 432x288 with 1 Axes>"
      ]
     },
     "metadata": {
      "needs_background": "light"
     },
     "output_type": "display_data"
    }
   ],
   "source": [
    "categorical_info(\"ПТС\", test, rotate=0, x_shift_mult=1/3)"
   ]
  },
  {
   "cell_type": "code",
   "execution_count": 438,
   "metadata": {},
   "outputs": [],
   "source": [
    "test.rename(columns={\"ПТС\": \"pts_origin\"}, inplace=True)"
   ]
  },
  {
   "cell_type": "code",
   "execution_count": 439,
   "metadata": {},
   "outputs": [],
   "source": [
    "pts_dict = {'Оригинал': \"original\",\n",
    "            'Дубликат': \"duplicate\"\n",
    "            }\n",
    "test.pts_origin = test.pts_origin.map(pts_dict)"
   ]
  },
  {
   "cell_type": "code",
   "execution_count": 440,
   "metadata": {},
   "outputs": [
    {
     "data": {
      "image/png": "[encoded data removed]",
      "text/plain": [
       "<Figure size 432x288 with 1 Axes>"
      ]
     },
     "metadata": {
      "needs_background": "light"
     },
     "output_type": "display_data"
    }
   ],
   "source": [
    "categorical_info(\"pts_origin\", test, rotate=0, x_shift_mult=1/3)"
   ]
  },
  {
   "cell_type": "code",
   "execution_count": 441,
   "metadata": {},
   "outputs": [
    {
     "data": {
      "text/plain": [
       "True"
      ]
     },
     "execution_count": 441,
     "metadata": {},
     "output_type": "execute_result"
    }
   ],
   "source": [
    "train.pts_origin.dtype == test.pts_origin.dtype"
   ]
  },
  {
   "cell_type": "markdown",
   "metadata": {},
   "source": [
    "## Таможня"
   ]
  },
  {
   "cell_type": "code",
   "execution_count": 442,
   "metadata": {},
   "outputs": [
    {
     "name": "stdout",
     "output_type": "stream",
     "text": [
      "Обучающий датасет полностью представлен автомобилями с состоянием таможня пройдена: True\n"
     ]
    }
   ],
   "source": [
    "print(\n",
    "    f'Обучающий датасет полностью представлен автомобилями с состоянием таможня пройдена: {train[\"custom_clear\"].unique()[0]}')"
   ]
  },
  {
   "cell_type": "code",
   "execution_count": 443,
   "metadata": {},
   "outputs": [
    {
     "name": "stdout",
     "output_type": "stream",
     "text": [
      "Тестовый датасет полностью представлен автомобилями с состоянием: Растаможен\n"
     ]
    }
   ],
   "source": [
    "print(\n",
    "    f'Тестовый датасет полностью представлен автомобилями с состоянием: {test[\"Таможня\"].unique()[0]}')"
   ]
  },
  {
   "cell_type": "markdown",
   "metadata": {},
   "source": [
    "Удалим этот признак из-за отсутствия информативности для модели"
   ]
  },
  {
   "cell_type": "markdown",
   "metadata": {},
   "source": [
    "## Цена"
   ]
  },
  {
   "cell_type": "code",
   "execution_count": 720,
   "metadata": {},
   "outputs": [],
   "source": [
    "#train1 = pd.read_csv(\"raw_data.csv\")"
   ]
  },
  {
   "cell_type": "code",
   "execution_count": 721,
   "metadata": {},
   "outputs": [],
   "source": [
    "#train.price = train1.price.astype(\"int32\")"
   ]
  },
  {
   "cell_type": "code",
   "execution_count": 444,
   "metadata": {},
   "outputs": [
    {
     "name": "stdout",
     "output_type": "stream",
     "text": [
      "min    3.000000e+04\n",
      "max    1.629000e+07\n",
      "25%    6.100000e+05\n",
      "50%    1.100000e+06\n",
      "75%    2.492974e+06\n",
      "std    1.985539e+06\n",
      "Name: price, dtype: float64\n"
     ]
    },
    {
     "data": {
      "image/png": "[encoded data removed]",
      "text/plain": [
       "<Figure size 432x288 with 1 Axes>"
      ]
     },
     "metadata": {
      "needs_background": "light"
     },
     "output_type": "display_data"
    }
   ],
   "source": [
    "numeric_info(train.price, bins=15)"
   ]
  },
  {
   "cell_type": "markdown",
   "metadata": {},
   "source": [
    "Цена имеет унимодальное распределение с длинным правом концом. Введем поправочный коэффициент цены, равный примерному отношению курса доллара для периода сбора данных тестового и тренировочного датасетов:"
   ]
  },
  {
   "cell_type": "code",
   "execution_count": 445,
   "metadata": {},
   "outputs": [],
   "source": [
    "# коэффициент был подобран опытным путем\n",
    "train['price'] = train['price'] * 0.90"
   ]
  },
  {
   "cell_type": "code",
   "execution_count": 446,
   "metadata": {},
   "outputs": [
    {
     "name": "stdout",
     "output_type": "stream",
     "text": [
      "min    2.700000e+04\n",
      "max    1.466100e+07\n",
      "25%    5.490000e+05\n",
      "50%    9.900000e+05\n",
      "75%    2.243677e+06\n",
      "std    1.786985e+06\n",
      "Name: price, dtype: float64\n"
     ]
    },
    {
     "data": {
      "image/png": "[encoded data removed]",
      "text/plain": [
       "<Figure size 432x288 with 1 Axes>"
      ]
     },
     "metadata": {
      "needs_background": "light"
     },
     "output_type": "display_data"
    }
   ],
   "source": [
    "numeric_info(train.price, bins=15)"
   ]
  },
  {
   "cell_type": "markdown",
   "metadata": {},
   "source": [
    "Прологарифмируем признак price, чтобы сделать его похожим на нормальное распределение:"
   ]
  },
  {
   "cell_type": "code",
   "execution_count": 447,
   "metadata": {},
   "outputs": [],
   "source": [
    "train['price'] = np.log(train[\"price\"])"
   ]
  },
  {
   "cell_type": "code",
   "execution_count": 448,
   "metadata": {},
   "outputs": [
    {
     "name": "stdout",
     "output_type": "stream",
     "text": [
      "min    10.203592\n",
      "max    16.500701\n",
      "25%    13.215854\n",
      "50%    13.805460\n",
      "75%    14.623626\n",
      "std     0.961676\n",
      "Name: price, dtype: float64\n"
     ]
    },
    {
     "data": {
      "image/png": "[encoded data removed]",
      "text/plain": [
       "<Figure size 432x288 with 1 Axes>"
      ]
     },
     "metadata": {
      "needs_background": "light"
     },
     "output_type": "display_data"
    }
   ],
   "source": [
    "numeric_info(train.price, bins=15)"
   ]
  },
  {
   "cell_type": "markdown",
   "metadata": {},
   "source": [
    "## Covid"
   ]
  },
  {
   "cell_type": "markdown",
   "metadata": {},
   "source": [
    "Добавим признак covid в данные: тестовый датасет был собран в начале эпидемии (март - февраль), когда она набирала обороты, а тренировочный в августе, когда эпидемия пошла на спад."
   ]
  },
  {
   "cell_type": "code",
   "execution_count": 449,
   "metadata": {},
   "outputs": [],
   "source": [
    "test[\"Covid\"] = 0\n",
    "train[\"Covid\"] = 1"
   ]
  },
  {
   "cell_type": "markdown",
   "metadata": {},
   "source": [
    "## Tax"
   ]
  },
  {
   "cell_type": "markdown",
   "metadata": {},
   "source": [
    "Попробуем также добавить признак tax, означающий налог, взымаемый с владельца авто. Налог рассчитывается по формуле: \n",
    "\n",
    "Размер налога = Ставка налога * Налоговая база * (Количество месяцев владения/12) * Повышающий коэффициент.\n",
    "\n",
    "Ставка налога варьируется от региона к региону. Возьмем ставку по городу Москва. Она варьируется от 12 до 150 руб/л.с. в зависимости от мощности двигателя. Налоговая база это мощность двигателя в л.с. Количество месяцев владения нам неизвестно, поэтому предположим, что ведем расчет для 12 месяцев. Повышающий коэффициент зависит от стоимости и возраста авто. К сожалению, его использовать не получится в виду отсутствия цены в тесте. Поэтому условно предположим, что он равен 1 для всех авто. Данные по ставкам и повышающему коэффициенту можно взять здесь: [коэффициент](https://nalog-nalog.ru/transportnyj_nalog/raschet_transportnogo_naloga/povyshayuwij_koefficient_dlya_transportnogo_naloga/) и [ставки](https://glavkniga.ru/situations/s509668)"
   ]
  },
  {
   "cell_type": "code",
   "execution_count": 450,
   "metadata": {},
   "outputs": [],
   "source": [
    "def rate(power):\n",
    "    if power > 250:\n",
    "        return 150\n",
    "    elif power > 225:\n",
    "        return 75\n",
    "    elif power > 200:\n",
    "        return 65\n",
    "    elif power > 175:\n",
    "        return 50\n",
    "    elif power > 150:\n",
    "        return 45\n",
    "    elif power > 125:\n",
    "        return 35\n",
    "    elif power > 100:\n",
    "        return 25\n",
    "    else:\n",
    "        return 12"
   ]
  },
  {
   "cell_type": "code",
   "execution_count": 451,
   "metadata": {},
   "outputs": [],
   "source": [
    "def calc_tax(row):\n",
    "    return rate(row[\"engine_power\"])*row[\"engine_power\"]"
   ]
  },
  {
   "cell_type": "code",
   "execution_count": 452,
   "metadata": {},
   "outputs": [],
   "source": [
    "train[\"tax\"] = train.apply(lambda row: calc_tax(row), axis=1)\n",
    "test[\"tax\"] = test.apply(lambda row: calc_tax(row), axis=1)"
   ]
  },
  {
   "cell_type": "code",
   "execution_count": 453,
   "metadata": {},
   "outputs": [
    {
     "name": "stdout",
     "output_type": "stream",
     "text": [
      "min      900.000000\n",
      "max    93750.000000\n",
      "25%     9200.000000\n",
      "50%    14170.000000\n",
      "75%    40800.000000\n",
      "std    20799.087658\n",
      "Name: tax, dtype: float64\n"
     ]
    },
    {
     "data": {
      "image/png": "[encoded data removed]",
      "text/plain": [
       "<Figure size 432x288 with 1 Axes>"
      ]
     },
     "metadata": {
      "needs_background": "light"
     },
     "output_type": "display_data"
    }
   ],
   "source": [
    "numeric_info(train.tax, bins=15)"
   ]
  },
  {
   "cell_type": "markdown",
   "metadata": {},
   "source": [
    "## Сохранение данных"
   ]
  },
  {
   "cell_type": "code",
   "execution_count": 463,
   "metadata": {},
   "outputs": [
    {
     "data": {
      "text/plain": [
       "Index(['body_type', 'color', 'fuel_type', 'model_date_begin', 'name',\n",
       "       'number_of_doors', 'age', 'vehicle_transmission', 'engine_displacement',\n",
       "       'engine_power', 'mileage', 'gear_type', 'steering_wheel', 'owners',\n",
       "       'pts_origin', 'price', 'is_electro', 'exp_year', 'glonass',\n",
       "       'wirelesscharger', 'ledlights', 'applecarplay', 'autopark',\n",
       "       'laserlights', 'keylessentry', 'bodykit', 'highbeamassist',\n",
       "       'paintmetallic', 'powerlatchingdoors', 'bas', 'electrotrunk',\n",
       "       'activsuspension', 'frontseatsheatvent', 'projectiondisplay',\n",
       "       'decorativeinteriorlighting', 'electronicgagepanel',\n",
       "       'multizoneclimatecontrol', 'automirrors', 'adaptivelight',\n",
       "       'tyrepressure', 'isofix', 'wheelheat', '360camera', 'usb', 'bluetooth',\n",
       "       'asr', 'lightsensor', 'airbagcurtain', 'navigation', 'startbutton',\n",
       "       'voicerecognition', 'rainsensor', 'collisionpreventionassist',\n",
       "       '12vsocket', 'drl', 'airsuspension', 'lanekeepingassist', 'multiwheel',\n",
       "       'blindspot', 'roofrails', 'passengerseatelectric', 'wheelleather',\n",
       "       '22inchwheels', 'steeringwheelgearshiftpaddles', 'thirdrearheadrest',\n",
       "       'sportseats', 'frontcentrearmrest', 'trafficsignrecognition',\n",
       "       'remoteenginestart', 'mirrorsheat', 'Covid', 'tax'],\n",
       "      dtype='object')"
      ]
     },
     "execution_count": 463,
     "metadata": {},
     "output_type": "execute_result"
    }
   ],
   "source": [
    "train.columns"
   ]
  },
  {
   "cell_type": "markdown",
   "metadata": {},
   "source": [
    "Уберём из данных все признаки, которые нужно убрать, исходя из проведенного анализа:"
   ]
  },
  {
   "cell_type": "code",
   "execution_count": 455,
   "metadata": {},
   "outputs": [],
   "source": [
    "train.drop(['brand', 'model_date_end', 'model_name', 'complectation',\n",
    "            'not_damage', 'custom_clear'], axis=1, inplace=True)"
   ]
  },
  {
   "cell_type": "code",
   "execution_count": 456,
   "metadata": {},
   "outputs": [
    {
     "data": {
      "text/plain": [
       "Index(['body_type', 'brand', 'color', 'fuel_type', 'model_date_begin', 'name',\n",
       "       'number_of_doors', 'age', 'vehicleConfiguration',\n",
       "       'vehicle_transmission', 'engine_displacement', 'engine_power',\n",
       "       'description', 'mileage', 'Комплектация', 'gear_type', 'steering_wheel',\n",
       "       'not_damage', 'owners', 'pts_origin', 'Таможня', 'Владение', 'id',\n",
       "       'is_electro', 'exp_year', 'glonass', 'wirelesscharger', 'ledlights',\n",
       "       'applecarplay', 'autopark', 'laserlights', 'keylessentry', 'bodykit',\n",
       "       'highbeamassist', 'paintmetallic', 'powerlatchingdoors', 'bas',\n",
       "       'electrotrunk', 'activsuspension', 'frontseatsheatvent',\n",
       "       'projectiondisplay', 'decorativeinteriorlighting',\n",
       "       'electronicgagepanel', 'multizoneclimatecontrol', 'automirrors',\n",
       "       'adaptivelight', 'tyrepressure', 'isofix', 'wheelheat', '360camera',\n",
       "       'usb', 'bluetooth', 'asr', 'lightsensor', 'airbagcurtain', 'navigation',\n",
       "       'startbutton', 'voicerecognition', 'rainsensor',\n",
       "       'collisionpreventionassist', '12vsocket', 'drl', 'airsuspension',\n",
       "       'lanekeepingassist', 'multiwheel', 'blindspot', 'roofrails',\n",
       "       'passengerseatelectric', 'wheelleather', '22inchwheels',\n",
       "       'steeringwheelgearshiftpaddles', 'thirdrearheadrest', 'sportseats',\n",
       "       'frontcentrearmrest', 'trafficsignrecognition', 'remoteenginestart',\n",
       "       'mirrorsheat', 'Covid', 'tax'],\n",
       "      dtype='object')"
      ]
     },
     "execution_count": 456,
     "metadata": {},
     "output_type": "execute_result"
    }
   ],
   "source": [
    "test.columns"
   ]
  },
  {
   "cell_type": "markdown",
   "metadata": {},
   "source": [
    "Уберём из данных все признаки, которые нужно убрать, исходя из проведенного анализа:"
   ]
  },
  {
   "cell_type": "code",
   "execution_count": 457,
   "metadata": {},
   "outputs": [],
   "source": [
    "test.drop(['brand', 'vehicleConfiguration', 'description', 'Комплектация',\n",
    "           'not_damage', 'Таможня', 'Владение', 'id'], axis=1, inplace=True)"
   ]
  },
  {
   "cell_type": "code",
   "execution_count": 458,
   "metadata": {
    "scrolled": true
   },
   "outputs": [
    {
     "data": {
      "text/plain": [
       "((3837, 71), (18417, 72))"
      ]
     },
     "execution_count": 458,
     "metadata": {},
     "output_type": "execute_result"
    }
   ],
   "source": [
    "test.shape, train.shape"
   ]
  },
  {
   "cell_type": "markdown",
   "metadata": {},
   "source": [
    "Проверим идентичность имён столбцов:"
   ]
  },
  {
   "cell_type": "code",
   "execution_count": 462,
   "metadata": {},
   "outputs": [
    {
     "data": {
      "text/plain": [
       "71"
      ]
     },
     "execution_count": 462,
     "metadata": {},
     "output_type": "execute_result"
    }
   ],
   "source": [
    "sum(test.columns == train.drop(\"price\", axis=1).columns)"
   ]
  },
  {
   "cell_type": "markdown",
   "metadata": {},
   "source": [
    "Сохраним предобработанные данные:"
   ]
  },
  {
   "cell_type": "code",
   "execution_count": 738,
   "metadata": {},
   "outputs": [],
   "source": [
    "train.to_csv(\"train_stack_tax.csv\", index=False, header=True)"
   ]
  },
  {
   "cell_type": "code",
   "execution_count": 739,
   "metadata": {},
   "outputs": [],
   "source": [
    "test.to_csv(\"test_stack_tax.csv\", index=False, header=True)"
   ]
  }
 ],
 "metadata": {
  "kernelspec": {
   "display_name": "Python 3",
   "language": "python",
   "name": "python3"
  },
  "language_info": {
   "codemirror_mode": {
    "name": "ipython",
    "version": 3
   },
   "file_extension": ".py",
   "mimetype": "text/x-python",
   "name": "python",
   "nbconvert_exporter": "python",
   "pygments_lexer": "ipython3",
   "version": "3.7.4"
  },
  "toc": {
   "base_numbering": 1,
   "nav_menu": {},
   "number_sections": true,
   "sideBar": true,
   "skip_h1_title": false,
   "title_cell": "Table of Contents",
   "title_sidebar": "Train EDA",
   "toc_cell": false,
   "toc_position": {
    "height": "calc(100% - 180px)",
    "left": "10px",
    "top": "150px",
    "width": "283.2px"
   },
   "toc_section_display": true,
   "toc_window_display": true
  }
 },
 "nbformat": 4,
 "nbformat_minor": 2
}
