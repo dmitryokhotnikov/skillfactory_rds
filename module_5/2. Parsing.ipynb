{
 "cells": [
  {
   "cell_type": "markdown",
   "metadata": {},
   "source": [
    "## Парсинг данных"
   ]
  },
  {
   "cell_type": "markdown",
   "metadata": {},
   "source": [
    "В качестве источника данных был выбран сайт auto.ru. Проведенный EDA тестовой выборки позволил сузить область поиска до автомобилей марки BMW. Кроме того, был обозначен круг искомых характеристик автомобилей. Сбор данных осуществлялся при помощи библиотеки requests. Сайт auto.ru формирует файл json по запросу пользователя. Работа с этим файлом велась при помощи библиотеки json."
   ]
  },
  {
   "cell_type": "code",
   "execution_count": 3,
   "metadata": {},
   "outputs": [],
   "source": [
    "import pandas as pd\n",
    "import requests\n",
    "import json\n",
    "import numpy as np\n",
    "from tqdm import tqdm\n",
    "\n",
    "# Заголовки для запроса\n",
    "headers = \"\"\"Host: auto.ru\n",
    "User-Agent: Mozilla/5.0 (Windows NT 6.1; Win64; x64; rv:79.0) Gecko/20100101 Firefox/79.0\n",
    "Accept: */*\n",
    "Accept-Language: ru-RU,ru;q=0.8,en-US;q=0.5,en;q=0.3\n",
    "Accept-Encoding: gzip, deflate, br\n",
    "Referer: https://auto.ru/cars/bmw/all/?page=2\n",
    "x-client-app-version: 202008.20.163652\n",
    "x-page-request-id: 8c8bd543d7365432d1884e9d744fb341\n",
    "x-client-date: 1598266403408\n",
    "x-csrf-token: fb654da365f2d303219489b8d12e59ff0ea460e177a08bd3\n",
    "x-requested-with: fetch\n",
    "content-type: application/json\n",
    "Origin: https://auto.ru\n",
    "Content-Length: 78\n",
    "Connection: keep-alive\n",
    "Cookie: autoru_sid=a:g5f4369e32qpbrpn58uroi90qfru7trc.dc749a316e486c2c5f6738c2e9848555|1598253539292.604800.QbtGJ8en9-4l6O2E_5G7xA.NylRbaS3zRp634H09gtradAPyF4zFPrmzb4sq2FfvU0; autoruuid=g5f4369e32qpbrpn58uroi90qfru7trc.dc749a316e486c2c5f6738c2e9848555; X-Vertis-DC=myt; _ym_wasSynced=%7B%22time%22%3A1598253542576%2C%22params%22%3A%7B%22eu%22%3A0%7D%2C%22bkParams%22%3A%7B%7D%7D; gdpr=0; _ym_uid=1598253543561825513; _ym_d=1598266381; _ym_isad=2; _csrf_token=fb654da365f2d303219489b8d12e59ff0ea460e177a08bd3; suid=1836e4649b35b40e22e87197b4de3abc.149ec7567ff860e58429ecfb0c2e6049; from_lifetime=1598266381763; from=direct; yuidcs=1; yuidlt=1; yandexuid=130881971596628465; crookie=dsPRqHVK55jKRCz4kt4JrmrBoSRut6htZv53MgVz1SxI5fviYUa0Muy8xQRUIyyQnuWT1NatrSNPhQ4JH3OkiFkwLdM=; cmtchd=MTU5ODI1NTY1Njg4Nw==; cycada=V0yGd+bhYpjxQ/LSwk7N6iZvAMn4ifq0qKZiqZNOnE8=; _ym_visorc_22753222=b; _ym_visorc_148383=w; gids=; _ym_visorc_148422=w\n",
    "DNT: 1\"\"\".strip().split(\"\\n\")\n",
    "\n",
    "# Cоздадим словарь\n",
    "dict_headers = {}\n",
    "for header in headers:\n",
    "    key, val = header.split(\": \")\n",
    "    dict_headers[key] = val\n",
    "\n",
    "\n",
    "def take_data(mark, series, page, headers):\n",
    "    \"\"\"Функция принимает на вход марку автомобиля (mark), серию (series), номер страницы (page) \n",
    "       и заголовки (headers).Возвращает json c характеристиками автомобиля.\n",
    "    \"\"\"\n",
    "\n",
    "    # Путь запроса\n",
    "    url = 'https://auto.ru/-/ajax/desktop/listing/'\n",
    "\n",
    "    # Параметры для запроса\n",
    "    params = {\n",
    "        'catalog_filter': [{\"mark\": mark, \"model\": series}],\n",
    "        'section': \"all\",\n",
    "        'category': \"cars\",\n",
    "        'sort': \"fresh_relevance_1-desc\",\n",
    "        'page': page\n",
    "    }\n",
    "\n",
    "    # Делаем post запрос на url\n",
    "    response = requests.post(url, json=params, headers=dict_headers)\n",
    "    return response.json()['offers']"
   ]
  },
  {
   "cell_type": "markdown",
   "metadata": {},
   "source": [
    "Создадим пустой датафрейм для дальнейшего заполнения. Список колонок в основном взят из EDA тестовой выборки. "
   ]
  },
  {
   "cell_type": "code",
   "execution_count": 9,
   "metadata": {},
   "outputs": [],
   "source": [
    "result = pd.DataFrame(columns=[\"body_type\", \"brand\", \"color\", \"fuel_type\",\n",
    "                               \"model_date_begin\", \"model_date_end\", \"name\", \"model_name\",\n",
    "                               \"number_of_doors\", \"production_date\", \"vehicle_transmission\",\n",
    "                               \"engine_displacement\", \"engine_power\", \"mileage\", \"complectation\",\n",
    "                               \"gear_type\", \"steering_wheel\", \"not_damage\", \"owners\",\n",
    "                               \"pts_origin\", \"custom_clear\", \"price\"])"
   ]
  },
  {
   "cell_type": "code",
   "execution_count": 178,
   "metadata": {},
   "outputs": [],
   "source": [
    "# Количество машин на одной странице сайта\n",
    "cars_per_page = 37\n",
    "\n",
    "# Словарь -  серия: количество авто на сайте\n",
    "series_count = {\"1ER\": 781,\n",
    "                \"2ER\": 230,\n",
    "                \"3ER\": 4262,\n",
    "                \"4ER\": 148,\n",
    "                \"5ER\": 5265,\n",
    "                \"6ER\": 415,\n",
    "                \"7ER\": 1505,\n",
    "                \"8ER\": 51,\n",
    "                \"2ACTIVETOURER\": 12,\n",
    "                \"2GRANDTOURER\": 17,\n",
    "                \"M1\": 1,\n",
    "                \"M2\": 7,\n",
    "                \"M3\": 40,\n",
    "                \"M4\": 32,\n",
    "                \"M5\": 78,\n",
    "                \"M6\": 26,\n",
    "                \"M8\": 13,\n",
    "                \"I3\": 55,\n",
    "                \"I8\": 12,\n",
    "                \"X1\": 1109,\n",
    "                \"X2\": 82,\n",
    "                \"X3\": 1767,\n",
    "                \"X3_M\": 2,\n",
    "                \"X4\": 394,\n",
    "                \"X4_M\": 4,\n",
    "                \"X5\": 3232,\n",
    "                \"X5_M\": 122,\n",
    "                \"X6\": 1490,\n",
    "                \"X6_M\": 216,\n",
    "                \"X7\": 296,\n",
    "                \"Z1\": 1,\n",
    "                \"Z3\": 8,\n",
    "                \"Z3M\": 2,\n",
    "                \"Z4\": 48\n",
    "                }"
   ]
  },
  {
   "cell_type": "markdown",
   "metadata": {},
   "source": [
    "Запустим сбор данных. Так как не для каждого авто имелись запрашиваемые данные, пришлось воспользоваться оператором try-catch. "
   ]
  },
  {
   "cell_type": "code",
   "execution_count": 179,
   "metadata": {},
   "outputs": [
    {
     "name": "stderr",
     "output_type": "stream",
     "text": [
      "\r",
      "  0%|                                                   | 0/41 [00:00<?, ?it/s]"
     ]
    },
    {
     "name": "stdout",
     "output_type": "stream",
     "text": [
      "BMW auto info parsing start...\n",
      "Series to parse: 7ER\n"
     ]
    },
    {
     "name": "stderr",
     "output_type": "stream",
     "text": [
      "100%|██████████████████████████████████████████| 41/41 [02:59<00:00,  4.37s/it]\n",
      "  0%|                                                    | 0/2 [00:00<?, ?it/s]"
     ]
    },
    {
     "name": "stdout",
     "output_type": "stream",
     "text": [
      "Series to parse: 8ER\n"
     ]
    },
    {
     "name": "stderr",
     "output_type": "stream",
     "text": [
      "100%|████████████████████████████████████████████| 2/2 [00:06<00:00,  3.43s/it]\n",
      "  0%|                                                    | 0/1 [00:00<?, ?it/s]"
     ]
    },
    {
     "name": "stdout",
     "output_type": "stream",
     "text": [
      "Series to parse: 2ACTIVETOURER\n"
     ]
    },
    {
     "name": "stderr",
     "output_type": "stream",
     "text": [
      "100%|████████████████████████████████████████████| 1/1 [00:01<00:00,  1.94s/it]\n",
      "  0%|                                                    | 0/1 [00:00<?, ?it/s]"
     ]
    },
    {
     "name": "stdout",
     "output_type": "stream",
     "text": [
      "Series to parse: 2GRANDTOURER\n"
     ]
    },
    {
     "name": "stderr",
     "output_type": "stream",
     "text": [
      "100%|████████████████████████████████████████████| 1/1 [00:02<00:00,  2.16s/it]\n",
      "  0%|                                                    | 0/1 [00:00<?, ?it/s]"
     ]
    },
    {
     "name": "stdout",
     "output_type": "stream",
     "text": [
      "Series to parse: M1\n"
     ]
    },
    {
     "name": "stderr",
     "output_type": "stream",
     "text": [
      "100%|████████████████████████████████████████████| 1/1 [00:00<00:00,  2.38it/s]\n",
      "  0%|                                                    | 0/1 [00:00<?, ?it/s]"
     ]
    },
    {
     "name": "stdout",
     "output_type": "stream",
     "text": [
      "Series to parse: M2\n"
     ]
    },
    {
     "name": "stderr",
     "output_type": "stream",
     "text": [
      "100%|████████████████████████████████████████████| 1/1 [00:01<00:00,  1.27s/it]\n",
      "  0%|                                                    | 0/2 [00:00<?, ?it/s]"
     ]
    },
    {
     "name": "stdout",
     "output_type": "stream",
     "text": [
      "Series to parse: M3\n"
     ]
    },
    {
     "name": "stderr",
     "output_type": "stream",
     "text": [
      "100%|████████████████████████████████████████████| 2/2 [00:05<00:00,  2.66s/it]\n",
      "  0%|                                                    | 0/1 [00:00<?, ?it/s]"
     ]
    },
    {
     "name": "stdout",
     "output_type": "stream",
     "text": [
      "Series to parse: M4\n"
     ]
    },
    {
     "name": "stderr",
     "output_type": "stream",
     "text": [
      "100%|████████████████████████████████████████████| 1/1 [00:04<00:00,  4.49s/it]\n",
      "  0%|                                                    | 0/3 [00:00<?, ?it/s]"
     ]
    },
    {
     "name": "stdout",
     "output_type": "stream",
     "text": [
      "Series to parse: M5\n"
     ]
    },
    {
     "name": "stderr",
     "output_type": "stream",
     "text": [
      "100%|████████████████████████████████████████████| 3/3 [00:10<00:00,  3.64s/it]\n",
      "  0%|                                                    | 0/1 [00:00<?, ?it/s]"
     ]
    },
    {
     "name": "stdout",
     "output_type": "stream",
     "text": [
      "Series to parse: M6\n"
     ]
    },
    {
     "name": "stderr",
     "output_type": "stream",
     "text": [
      "100%|████████████████████████████████████████████| 1/1 [00:03<00:00,  3.05s/it]\n",
      "  0%|                                                    | 0/1 [00:00<?, ?it/s]"
     ]
    },
    {
     "name": "stdout",
     "output_type": "stream",
     "text": [
      "Series to parse: M8\n"
     ]
    },
    {
     "name": "stderr",
     "output_type": "stream",
     "text": [
      "100%|████████████████████████████████████████████| 1/1 [00:01<00:00,  1.89s/it]\n",
      "  0%|                                                    | 0/2 [00:00<?, ?it/s]"
     ]
    },
    {
     "name": "stdout",
     "output_type": "stream",
     "text": [
      "Series to parse: I3\n"
     ]
    },
    {
     "name": "stderr",
     "output_type": "stream",
     "text": [
      "100%|████████████████████████████████████████████| 2/2 [00:07<00:00,  3.65s/it]\n",
      "  0%|                                                    | 0/1 [00:00<?, ?it/s]"
     ]
    },
    {
     "name": "stdout",
     "output_type": "stream",
     "text": [
      "Series to parse: I8\n"
     ]
    },
    {
     "name": "stderr",
     "output_type": "stream",
     "text": [
      "100%|████████████████████████████████████████████| 1/1 [00:01<00:00,  1.70s/it]\n",
      "  0%|                                                   | 0/30 [00:00<?, ?it/s]"
     ]
    },
    {
     "name": "stdout",
     "output_type": "stream",
     "text": [
      "Series to parse: X1\n"
     ]
    },
    {
     "name": "stderr",
     "output_type": "stream",
     "text": [
      "100%|██████████████████████████████████████████| 30/30 [02:11<00:00,  4.39s/it]\n",
      "  0%|                                                    | 0/3 [00:00<?, ?it/s]"
     ]
    },
    {
     "name": "stdout",
     "output_type": "stream",
     "text": [
      "Series to parse: X2\n"
     ]
    },
    {
     "name": "stderr",
     "output_type": "stream",
     "text": [
      "100%|████████████████████████████████████████████| 3/3 [00:09<00:00,  3.23s/it]\n",
      "  0%|                                                   | 0/48 [00:00<?, ?it/s]"
     ]
    },
    {
     "name": "stdout",
     "output_type": "stream",
     "text": [
      "Series to parse: X3\n"
     ]
    },
    {
     "name": "stderr",
     "output_type": "stream",
     "text": [
      "100%|██████████████████████████████████████████| 48/48 [03:34<00:00,  4.48s/it]\n",
      "  0%|                                                    | 0/1 [00:00<?, ?it/s]"
     ]
    },
    {
     "name": "stdout",
     "output_type": "stream",
     "text": [
      "Series to parse: X3_M\n"
     ]
    },
    {
     "name": "stderr",
     "output_type": "stream",
     "text": [
      "100%|████████████████████████████████████████████| 1/1 [00:00<00:00,  2.19it/s]\n",
      "  0%|                                                   | 0/11 [00:00<?, ?it/s]"
     ]
    },
    {
     "name": "stdout",
     "output_type": "stream",
     "text": [
      "Series to parse: X4\n"
     ]
    },
    {
     "name": "stderr",
     "output_type": "stream",
     "text": [
      "100%|██████████████████████████████████████████| 11/11 [00:50<00:00,  4.62s/it]\n",
      "  0%|                                                    | 0/1 [00:00<?, ?it/s]"
     ]
    },
    {
     "name": "stdout",
     "output_type": "stream",
     "text": [
      "Series to parse: X4_M\n"
     ]
    },
    {
     "name": "stderr",
     "output_type": "stream",
     "text": [
      "100%|████████████████████████████████████████████| 1/1 [00:00<00:00,  1.21it/s]\n",
      "  0%|                                                   | 0/88 [00:00<?, ?it/s]"
     ]
    },
    {
     "name": "stdout",
     "output_type": "stream",
     "text": [
      "Series to parse: X5\n"
     ]
    },
    {
     "name": "stderr",
     "output_type": "stream",
     "text": [
      "100%|██████████████████████████████████████████| 88/88 [07:23<00:00,  5.03s/it]\n",
      "  0%|                                                    | 0/4 [00:00<?, ?it/s]"
     ]
    },
    {
     "name": "stdout",
     "output_type": "stream",
     "text": [
      "Series to parse: X5_M\n"
     ]
    },
    {
     "name": "stderr",
     "output_type": "stream",
     "text": [
      "100%|████████████████████████████████████████████| 4/4 [00:18<00:00,  4.73s/it]\n",
      "  0%|                                                   | 0/41 [00:00<?, ?it/s]"
     ]
    },
    {
     "name": "stdout",
     "output_type": "stream",
     "text": [
      "Series to parse: X6\n"
     ]
    },
    {
     "name": "stderr",
     "output_type": "stream",
     "text": [
      "100%|██████████████████████████████████████████| 41/41 [03:33<00:00,  5.21s/it]\n",
      "  0%|                                                    | 0/6 [00:00<?, ?it/s]"
     ]
    },
    {
     "name": "stdout",
     "output_type": "stream",
     "text": [
      "Series to parse: X6_M\n"
     ]
    },
    {
     "name": "stderr",
     "output_type": "stream",
     "text": [
      "100%|████████████████████████████████████████████| 6/6 [00:31<00:00,  5.22s/it]\n",
      "  0%|                                                    | 0/9 [00:00<?, ?it/s]"
     ]
    },
    {
     "name": "stdout",
     "output_type": "stream",
     "text": [
      "Series to parse: X7\n"
     ]
    },
    {
     "name": "stderr",
     "output_type": "stream",
     "text": [
      "100%|████████████████████████████████████████████| 9/9 [00:45<00:00,  5.09s/it]\n",
      "  0%|                                                    | 0/1 [00:00<?, ?it/s]"
     ]
    },
    {
     "name": "stdout",
     "output_type": "stream",
     "text": [
      "Series to parse: Z1\n"
     ]
    },
    {
     "name": "stderr",
     "output_type": "stream",
     "text": [
      "100%|████████████████████████████████████████████| 1/1 [00:00<00:00,  1.57it/s]\n",
      "  0%|                                                    | 0/1 [00:00<?, ?it/s]"
     ]
    },
    {
     "name": "stdout",
     "output_type": "stream",
     "text": [
      "Series to parse: Z3\n"
     ]
    },
    {
     "name": "stderr",
     "output_type": "stream",
     "text": [
      "100%|████████████████████████████████████████████| 1/1 [00:01<00:00,  1.43s/it]\n",
      "  0%|                                                    | 0/1 [00:00<?, ?it/s]"
     ]
    },
    {
     "name": "stdout",
     "output_type": "stream",
     "text": [
      "Series to parse: Z3M\n"
     ]
    },
    {
     "name": "stderr",
     "output_type": "stream",
     "text": [
      "100%|████████████████████████████████████████████| 1/1 [00:00<00:00,  1.55it/s]\n",
      "  0%|                                                    | 0/2 [00:00<?, ?it/s]"
     ]
    },
    {
     "name": "stdout",
     "output_type": "stream",
     "text": [
      "Series to parse: Z4\n"
     ]
    },
    {
     "name": "stderr",
     "output_type": "stream",
     "text": [
      "100%|████████████████████████████████████████████| 2/2 [00:07<00:00,  3.76s/it]\n"
     ]
    }
   ],
   "source": [
    "print(\"BMW auto info parsing start...\")\n",
    "for key, val in series_count.items():\n",
    "    print(\"Series to parse:\", key)\n",
    "    for page in tqdm(range(1, val//cars_per_page+2)):\n",
    "        data = take_data(\"BMW\", key, page, dict_headers)\n",
    "        for i in range(len(data)):\n",
    "            to_append = []\n",
    "            try:\n",
    "                to_append.append(data[i]['vehicle_info']\n",
    "                                 ['configuration']['human_name'])\n",
    "            except:\n",
    "                to_append.append(np.nan)\n",
    "\n",
    "            try:\n",
    "                to_append.append(data[i]['vehicle_info']['mark_info']['name'])\n",
    "            except:\n",
    "                to_append.append(np.nan)\n",
    "\n",
    "            try:\n",
    "                to_append.append(data[i][\"color_hex\"])\n",
    "            except:\n",
    "                to_append.append(np.nan)\n",
    "\n",
    "            try:\n",
    "                to_append.append(data[i]['vehicle_info']\n",
    "                                 ['tech_param']['engine_type'])\n",
    "            except:\n",
    "                to_append.append(np.nan)\n",
    "\n",
    "            try:\n",
    "                to_append.append(data[i]['vehicle_info']\n",
    "                                 ['super_gen']['year_from'])\n",
    "            except:\n",
    "                to_append.append(np.nan)\n",
    "\n",
    "            try:\n",
    "                to_append.append(data[i]['vehicle_info']\n",
    "                                 ['super_gen']['year_to'])\n",
    "            except:\n",
    "                to_append.append(2020)\n",
    "\n",
    "            try:\n",
    "                to_append.append(data[i]['vehicle_info']\n",
    "                                 ['tech_param']['human_name'])\n",
    "            except:\n",
    "                to_append.append(np.nan)\n",
    "\n",
    "            try:\n",
    "                to_append.append(data[i]['vehicle_info']['model_info']['name'])\n",
    "            except:\n",
    "                to_append.append(np.nan)\n",
    "\n",
    "            try:\n",
    "                to_append.append(data[i]['vehicle_info']\n",
    "                                 ['configuration']['doors_count'])\n",
    "            except:\n",
    "                to_append.append(np.nan)\n",
    "\n",
    "            try:\n",
    "                to_append.append(data[i]['documents']['year'])\n",
    "            except:\n",
    "                to_append.append(np.nan)\n",
    "\n",
    "            try:\n",
    "                to_append.append(data[i]['vehicle_info']\n",
    "                                 ['tech_param']['transmission'])\n",
    "            except:\n",
    "                to_append.append(np.nan)\n",
    "\n",
    "            try:\n",
    "                to_append.append(data[i]['vehicle_info']\n",
    "                                 ['tech_param']['displacement'])\n",
    "            except:\n",
    "                to_append.append(np.nan)\n",
    "\n",
    "            try:\n",
    "                to_append.append(data[i]['vehicle_info']\n",
    "                                 ['tech_param']['power'])\n",
    "            except:\n",
    "                to_append.append(np.nan)\n",
    "\n",
    "            try:\n",
    "                to_append.append(data[i]['state']['mileage'])\n",
    "            except:\n",
    "                to_append.append(np.nan)\n",
    "\n",
    "            try:\n",
    "                to_append.append(str(data[i]['vehicle_info']['equipment']))\n",
    "            except:\n",
    "                to_append.append(np.nan)\n",
    "\n",
    "            try:\n",
    "                to_append.append(data[i]['vehicle_info']\n",
    "                                 ['tech_param']['gear_type'])\n",
    "            except:\n",
    "                to_append.append(np.nan)\n",
    "\n",
    "            try:\n",
    "                to_append.append(data[i]['vehicle_info']['steering_wheel'])\n",
    "            except:\n",
    "                to_append.append(np.nan)\n",
    "\n",
    "            try:\n",
    "                to_append.append(data[i]['state']['state_not_beaten'])\n",
    "            except:\n",
    "                to_append.append(np.nan)\n",
    "\n",
    "            try:\n",
    "                to_append.append(data[i]['documents']['owners_number'])\n",
    "            except:\n",
    "                to_append.append(np.nan)\n",
    "\n",
    "            try:\n",
    "                to_append.append(data[i]['documents']['pts'])\n",
    "            except:\n",
    "                to_append.append(np.nan)\n",
    "\n",
    "            try:\n",
    "                to_append.append(data[i]['documents']['custom_cleared'])\n",
    "            except:\n",
    "                to_append.append(np.nan)\n",
    "\n",
    "            try:\n",
    "                to_append.append(data[i]['price_info']['RUR'])\n",
    "            except:\n",
    "                to_append.append(np.nan)\n",
    "\n",
    "            result.loc[len(result)] = to_append"
   ]
  },
  {
   "cell_type": "code",
   "execution_count": null,
   "metadata": {},
   "outputs": [],
   "source": []
  },
  {
   "cell_type": "markdown",
   "metadata": {},
   "source": [
    "Удалим дубликаты записей перед сохранением данных, а также записи, в которых отсутствует цена (price)"
   ]
  },
  {
   "cell_type": "code",
   "execution_count": 203,
   "metadata": {},
   "outputs": [],
   "source": [
    "result = result.drop_duplicates()\n",
    "result.dropna(subset=['price'], inplace=True)"
   ]
  },
  {
   "cell_type": "markdown",
   "metadata": {},
   "source": [
    "Сохраним полученные данные:"
   ]
  },
  {
   "cell_type": "code",
   "execution_count": 206,
   "metadata": {},
   "outputs": [],
   "source": [
    "result.to_csv('raw_data.csv', index=False, header=True)"
   ]
  },
  {
   "cell_type": "code",
   "execution_count": 10,
   "metadata": {},
   "outputs": [
    {
     "name": "stdout",
     "output_type": "stream",
     "text": [
      "В результате работы программы удалось собрать данные о 18417 автомобилях\n"
     ]
    }
   ],
   "source": [
    "print(\n",
    "    f'В результате работы программы удалось собрать данные о {result.shape[0]} автомобилях')"
   ]
  }
 ],
 "metadata": {
  "kernelspec": {
   "display_name": "Python 3",
   "language": "python",
   "name": "python3"
  },
  "language_info": {
   "codemirror_mode": {
    "name": "ipython",
    "version": 3
   },
   "file_extension": ".py",
   "mimetype": "text/x-python",
   "name": "python",
   "nbconvert_exporter": "python",
   "pygments_lexer": "ipython3",
   "version": "3.7.4"
  },
  "toc": {
   "base_numbering": 1,
   "nav_menu": {},
   "number_sections": true,
   "sideBar": true,
   "skip_h1_title": false,
   "title_cell": "Table of Contents",
   "title_sidebar": "Contents",
   "toc_cell": false,
   "toc_position": {},
   "toc_section_display": true,
   "toc_window_display": true
  }
 },
 "nbformat": 4,
 "nbformat_minor": 2
}
